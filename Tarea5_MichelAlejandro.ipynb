{
 "cells": [
  {
   "cell_type": "markdown",
   "metadata": {},
   "source": [
    "# Tarea 5. Construyendo la frontera de mínima varianza para dos activos.\n",
    "\n",
    "<img style=\"float: right; margin: 0px 0px 15px 15px;\" src=\"https://upload.wikimedia.org/wikipedia/commons/0/08/Pareto_Efficient_Frontier_for_the_Markowitz_Portfolio_selection_problem..png\" width=\"600px\" height=\"400px\" />\n",
    "\n",
    "**Resumen.**\n",
    "> En esta tarea, construirás la frontera de mínima varianza para dos activos riesgosos usando los datos de mercados internacionales que usamos en la clase 10.\n",
    "\n",
    "> Construirás portafolios que consisten de dos activos riesgosos, graficarás la frontera de mínima varianza y encontrarás el portafolio de mínima varianza. Repetirás luego el ejercicio para otro par de activos y compararás los beneficios de diversificación en cada caso.\n",
    "\n",
    "> Por favor, revisar la clase 10 para los datos. \n",
    "\n",
    "**Criterio de revisión.**\n",
    "> Se te calificará de acuerdo a los resultados finales que reportes, basados en tu análisis.\n",
    "\n",
    "**Antes de comenzar.**\n",
    "> Por favor, copiar y pegar este archivo en otra ubicación. Antes de comenzar, nombrarlo *Tarea5_ApellidoNombre*, sin acentos y sin espacios; por ejemplo, en mi caso el archivo se llamaría *Tarea5_JimenezEsteban*. Resolver todos los puntos en dicho archivo y subir en este espacio."
   ]
  },
  {
   "cell_type": "markdown",
   "metadata": {},
   "source": [
    "## 1. Datos (10 puntos)\n",
    "\n",
    "Copiar y pegar los datos de rendimientos esperados, volatilidades y correlaciones de mercados internacionales brindados en la Clase 10.\n",
    "\n",
    "1. Mostrar los DataFrame con los datos (5 puntos).\n",
    "2. Graficar en el espacio de rendimiento esperado contra volatilidad cada uno de los activos (5 puntos)."
   ]
  },
  {
   "cell_type": "code",
   "execution_count": 1,
   "metadata": {},
   "outputs": [],
   "source": [
    "# Importar matplotlib.pyplot, pandas y numpy\n",
    "import matplotlib.pyplot as plt\n",
    "%matplotlib inline\n",
    "import pandas as pd\n",
    "import numpy as np"
   ]
  },
  {
   "cell_type": "code",
   "execution_count": 2,
   "metadata": {},
   "outputs": [
    {
     "data": {
      "text/html": [
       "<div>\n",
       "<style scoped>\n",
       "    .dataframe tbody tr th:only-of-type {\n",
       "        vertical-align: middle;\n",
       "    }\n",
       "\n",
       "    .dataframe tbody tr th {\n",
       "        vertical-align: top;\n",
       "    }\n",
       "\n",
       "    .dataframe thead th {\n",
       "        text-align: right;\n",
       "    }\n",
       "</style>\n",
       "<table border=\"1\" class=\"dataframe\">\n",
       "  <thead>\n",
       "    <tr style=\"text-align: right;\">\n",
       "      <th></th>\n",
       "      <th>EU</th>\n",
       "      <th>RU</th>\n",
       "      <th>Francia</th>\n",
       "      <th>Alemania</th>\n",
       "      <th>Japon</th>\n",
       "    </tr>\n",
       "  </thead>\n",
       "  <tbody>\n",
       "    <tr>\n",
       "      <th>Media</th>\n",
       "      <td>0.1355</td>\n",
       "      <td>0.1589</td>\n",
       "      <td>0.1519</td>\n",
       "      <td>0.1435</td>\n",
       "      <td>0.1497</td>\n",
       "    </tr>\n",
       "    <tr>\n",
       "      <th>Volatilidad</th>\n",
       "      <td>0.1535</td>\n",
       "      <td>0.243</td>\n",
       "      <td>0.2324</td>\n",
       "      <td>0.2038</td>\n",
       "      <td>0.2298</td>\n",
       "    </tr>\n",
       "  </tbody>\n",
       "</table>\n",
       "</div>"
      ],
      "text/plain": [
       "                 EU      RU Francia Alemania   Japon\n",
       "Media        0.1355  0.1589  0.1519   0.1435  0.1497\n",
       "Volatilidad  0.1535   0.243  0.2324   0.2038  0.2298"
      ]
     },
     "execution_count": 2,
     "metadata": {},
     "output_type": "execute_result"
    }
   ],
   "source": [
    "# Resumen en base anual de rendimientos esperados y volatilidades\n",
    "annual_ret_summ = pd.DataFrame(columns=['EU', 'RU', 'Francia', 'Alemania', 'Japon'], index=['Media', 'Volatilidad'])\n",
    "annual_ret_summ.loc['Media'] = np.array([0.1355, 0.1589, 0.1519, 0.1435, 0.1497])\n",
    "annual_ret_summ.loc['Volatilidad'] = np.array([0.1535, 0.2430, 0.2324, 0.2038, 0.2298])\n",
    "\n",
    "annual_ret_summ.round(4)"
   ]
  },
  {
   "cell_type": "code",
   "execution_count": 3,
   "metadata": {},
   "outputs": [
    {
     "data": {
      "text/html": [
       "<div>\n",
       "<style scoped>\n",
       "    .dataframe tbody tr th:only-of-type {\n",
       "        vertical-align: middle;\n",
       "    }\n",
       "\n",
       "    .dataframe tbody tr th {\n",
       "        vertical-align: top;\n",
       "    }\n",
       "\n",
       "    .dataframe thead th {\n",
       "        text-align: right;\n",
       "    }\n",
       "</style>\n",
       "<table border=\"1\" class=\"dataframe\">\n",
       "  <thead>\n",
       "    <tr style=\"text-align: right;\">\n",
       "      <th></th>\n",
       "      <th>EU</th>\n",
       "      <th>RU</th>\n",
       "      <th>Francia</th>\n",
       "      <th>Alemania</th>\n",
       "      <th>Japon</th>\n",
       "    </tr>\n",
       "  </thead>\n",
       "  <tbody>\n",
       "    <tr>\n",
       "      <th>EU</th>\n",
       "      <td>1.0000</td>\n",
       "      <td>0.5003</td>\n",
       "      <td>0.4398</td>\n",
       "      <td>0.3681</td>\n",
       "      <td>0.2663</td>\n",
       "    </tr>\n",
       "    <tr>\n",
       "      <th>RU</th>\n",
       "      <td>0.5003</td>\n",
       "      <td>1.0000</td>\n",
       "      <td>0.5420</td>\n",
       "      <td>0.4265</td>\n",
       "      <td>0.3581</td>\n",
       "    </tr>\n",
       "    <tr>\n",
       "      <th>Francia</th>\n",
       "      <td>0.4398</td>\n",
       "      <td>0.5420</td>\n",
       "      <td>1.0000</td>\n",
       "      <td>0.6032</td>\n",
       "      <td>0.3923</td>\n",
       "    </tr>\n",
       "    <tr>\n",
       "      <th>Alemania</th>\n",
       "      <td>0.3681</td>\n",
       "      <td>0.4265</td>\n",
       "      <td>0.6032</td>\n",
       "      <td>1.0000</td>\n",
       "      <td>0.3663</td>\n",
       "    </tr>\n",
       "    <tr>\n",
       "      <th>Japon</th>\n",
       "      <td>0.2663</td>\n",
       "      <td>0.3581</td>\n",
       "      <td>0.3923</td>\n",
       "      <td>0.3663</td>\n",
       "      <td>1.0000</td>\n",
       "    </tr>\n",
       "  </tbody>\n",
       "</table>\n",
       "</div>"
      ],
      "text/plain": [
       "              EU      RU  Francia  Alemania   Japon\n",
       "EU        1.0000  0.5003   0.4398    0.3681  0.2663\n",
       "RU        0.5003  1.0000   0.5420    0.4265  0.3581\n",
       "Francia   0.4398  0.5420   1.0000    0.6032  0.3923\n",
       "Alemania  0.3681  0.4265   0.6032    1.0000  0.3663\n",
       "Japon     0.2663  0.3581   0.3923    0.3663  1.0000"
      ]
     },
     "execution_count": 3,
     "metadata": {},
     "output_type": "execute_result"
    }
   ],
   "source": [
    "# Matriz de correlación\n",
    "corr = pd.DataFrame(data= np.array([[1.0000, 0.5003, 0.4398, 0.3681, 0.2663],\n",
    "                                    [0.5003, 1.0000, 0.5420, 0.4265, 0.3581],\n",
    "                                    [0.4398, 0.5420, 1.0000, 0.6032, 0.3923],\n",
    "                                    [0.3681, 0.4265, 0.6032, 1.0000, 0.3663],\n",
    "                                    [0.2663, 0.3581, 0.3923, 0.3663, 1.0000]]),\n",
    "                    columns=annual_ret_summ.columns, index=annual_ret_summ.columns)\n",
    "corr.round(4)"
   ]
  },
  {
   "cell_type": "code",
   "execution_count": 4,
   "metadata": {},
   "outputs": [
    {
     "data": {
      "text/plain": [
       "Text(0.2298, 0.1497, 'Japon')"
      ]
     },
     "execution_count": 4,
     "metadata": {},
     "output_type": "execute_result"
    },
    {
     "data": {
      "image/png": "[encoded data removed]",
      "text/plain": [
       "<Figure size 432x288 with 1 Axes>"
      ]
     },
     "metadata": {
      "needs_background": "light"
     },
     "output_type": "display_data"
    }
   ],
   "source": [
    "import matplotlib.pyplot as plt\n",
    "x_points=annual_ret_summ.T.loc[:,'Volatilidad']\n",
    "y_points=annual_ret_summ.T.loc[:,'Media']\n",
    "\n",
    "# Ventana para graficar\n",
    "plt.figure(figsize=(6,4))\n",
    "\n",
    "# Graficar puntos\n",
    "plt.plot(x_points,y_points,'o',ms=10)\n",
    "plt.grid()\n",
    "\n",
    "# Etiquetas de los ejes\n",
    "plt.xlabel('Volatilidad ($\\sigma$)')\n",
    "plt.ylabel('Rendimiento esperado ($E[r]$)')\n",
    "\n",
    "# Etiqueta de cada instrumento\n",
    "plt.text(x_points[0], y_points[0],annual_ret_summ.T.index[0])\n",
    "plt.text(x_points[1], y_points[1],annual_ret_summ.T.index[1])\n",
    "plt.text(x_points[2], y_points[2],annual_ret_summ.T.index[2])\n",
    "plt.text(x_points[3], y_points[3],annual_ret_summ.T.index[3])\n",
    "plt.text(x_points[4], y_points[4],annual_ret_summ.T.index[4])"
   ]
  },
  {
   "cell_type": "markdown",
   "metadata": {},
   "source": [
    "## 2. Portafolios con Japón y Reino Unido (30 puntos)\n",
    "\n",
    "Usando los datos del punto anterior:\n",
    "\n",
    "1. Construya la frontera de mínima varianza que representa las posibles combinaciones de portafolios que se pueden crear con los mercados Japoneses y del Reino Unido como activos riesgosos. Puedes pensar en ellos como índices de mercado. Reportar los rendimientos esperados y las volatilidades de estos portafolios en un DataFrame (15 puntos).\n"
   ]
  },
  {
   "cell_type": "code",
   "execution_count": 5,
   "metadata": {},
   "outputs": [
    {
     "data": {
      "text/plain": [
       "(0.1589, 0.1497, 0.243, 0.2298, 0.2663)"
      ]
     },
     "execution_count": 5,
     "metadata": {},
     "output_type": "execute_result"
    }
   ],
   "source": [
    "# Vector de w variando entre 0 y 1 con N pasos\n",
    "N = 101\n",
    "w = np.linspace(start=0, stop=1, num=N)\n",
    "# Rendimientos esperados individuales\n",
    "# Activo1: EU, Activo2:Japon\n",
    "E1 = annual_ret_summ.loc['Media', 'RU']\n",
    "E2 = annual_ret_summ.loc['Media', 'Japon']\n",
    "# Volatilidades individuales\n",
    "s1 = annual_ret_summ.loc['Volatilidad', 'RU']\n",
    "s2 = annual_ret_summ.loc['Volatilidad', 'Japon']\n",
    "# Correlacion\n",
    "r12 = corr.loc['EU', 'Japon']\n",
    "E1, E2, s1, s2, r12"
   ]
  },
  {
   "cell_type": "markdown",
   "metadata": {},
   "source": [
    "### Dataframe"
   ]
  },
  {
   "cell_type": "code",
   "execution_count": 6,
   "metadata": {},
   "outputs": [
    {
     "data": {
      "text/html": [
       "<div>\n",
       "<style scoped>\n",
       "    .dataframe tbody tr th:only-of-type {\n",
       "        vertical-align: middle;\n",
       "    }\n",
       "\n",
       "    .dataframe tbody tr th {\n",
       "        vertical-align: top;\n",
       "    }\n",
       "\n",
       "    .dataframe thead th {\n",
       "        text-align: right;\n",
       "    }\n",
       "</style>\n",
       "<table border=\"1\" class=\"dataframe\">\n",
       "  <thead>\n",
       "    <tr style=\"text-align: right;\">\n",
       "      <th></th>\n",
       "      <th>w</th>\n",
       "      <th>Media</th>\n",
       "      <th>Volatilidad</th>\n",
       "    </tr>\n",
       "  </thead>\n",
       "  <tbody>\n",
       "    <tr>\n",
       "      <th>1</th>\n",
       "      <td>0.00</td>\n",
       "      <td>0.149700</td>\n",
       "      <td>0.229800</td>\n",
       "    </tr>\n",
       "    <tr>\n",
       "      <th>2</th>\n",
       "      <td>0.01</td>\n",
       "      <td>0.149792</td>\n",
       "      <td>0.228161</td>\n",
       "    </tr>\n",
       "    <tr>\n",
       "      <th>3</th>\n",
       "      <td>0.02</td>\n",
       "      <td>0.149884</td>\n",
       "      <td>0.226547</td>\n",
       "    </tr>\n",
       "    <tr>\n",
       "      <th>4</th>\n",
       "      <td>0.03</td>\n",
       "      <td>0.149976</td>\n",
       "      <td>0.224957</td>\n",
       "    </tr>\n",
       "    <tr>\n",
       "      <th>5</th>\n",
       "      <td>0.04</td>\n",
       "      <td>0.150068</td>\n",
       "      <td>0.223393</td>\n",
       "    </tr>\n",
       "    <tr>\n",
       "      <th>...</th>\n",
       "      <td>...</td>\n",
       "      <td>...</td>\n",
       "      <td>...</td>\n",
       "    </tr>\n",
       "    <tr>\n",
       "      <th>97</th>\n",
       "      <td>0.96</td>\n",
       "      <td>0.158532</td>\n",
       "      <td>0.235894</td>\n",
       "    </tr>\n",
       "    <tr>\n",
       "      <th>98</th>\n",
       "      <td>0.97</td>\n",
       "      <td>0.158624</td>\n",
       "      <td>0.237639</td>\n",
       "    </tr>\n",
       "    <tr>\n",
       "      <th>99</th>\n",
       "      <td>0.98</td>\n",
       "      <td>0.158716</td>\n",
       "      <td>0.239405</td>\n",
       "    </tr>\n",
       "    <tr>\n",
       "      <th>100</th>\n",
       "      <td>0.99</td>\n",
       "      <td>0.158808</td>\n",
       "      <td>0.241192</td>\n",
       "    </tr>\n",
       "    <tr>\n",
       "      <th>101</th>\n",
       "      <td>1.00</td>\n",
       "      <td>0.158900</td>\n",
       "      <td>0.243000</td>\n",
       "    </tr>\n",
       "  </tbody>\n",
       "</table>\n",
       "<p>101 rows × 3 columns</p>\n",
       "</div>"
      ],
      "text/plain": [
       "        w     Media  Volatilidad\n",
       "1    0.00  0.149700     0.229800\n",
       "2    0.01  0.149792     0.228161\n",
       "3    0.02  0.149884     0.226547\n",
       "4    0.03  0.149976     0.224957\n",
       "5    0.04  0.150068     0.223393\n",
       "..    ...       ...          ...\n",
       "97   0.96  0.158532     0.235894\n",
       "98   0.97  0.158624     0.237639\n",
       "99   0.98  0.158716     0.239405\n",
       "100  0.99  0.158808     0.241192\n",
       "101  1.00  0.158900     0.243000\n",
       "\n",
       "[101 rows x 3 columns]"
      ]
     },
     "execution_count": 6,
     "metadata": {},
     "output_type": "execute_result"
    }
   ],
   "source": [
    "# Crear un DataFrame cuyas columnas sean rendimiento\n",
    "# y volatilidad del portafolio para cada una de las w\n",
    "# generadas\n",
    "portafolios2 = pd.DataFrame({'w':w,\n",
    "                            'Media' : w*E1 + (1-w) *E2, \n",
    "                            'Volatilidad' : ((w*s1)**2 + ((1-w)*s2)**2 + 2*w*(1-w)*s1*s2*r12)**.5\n",
    "                            },\n",
    "                           index=range(1, N+1)\n",
    "                           )\n",
    "portafolios2"
   ]
  },
  {
   "cell_type": "code",
   "execution_count": 7,
   "metadata": {},
   "outputs": [
    {
     "data": {
      "image/png": "[encoded data removed]",
      "text/plain": [
       "<Figure size 432x288 with 1 Axes>"
      ]
     },
     "metadata": {
      "needs_background": "light"
     },
     "output_type": "display_data"
    }
   ],
   "source": [
    "# Graficar el lugar geométrico de los portafolios en el\n",
    "# espacio rendimiento esperado vs. volatilidad.\n",
    "# Especificar también los puntos relativos a los casos\n",
    "# extremos.\n",
    "plt.figure(figsize=(6,4))\n",
    "plt.plot(portafolios2['Volatilidad'],\n",
    "         portafolios2['Media'],\n",
    "         'k', lw=3, label='Portafolios'\n",
    "        )\n",
    "plt.plot(s1, E1, 'or', ms=10, label='RU')\n",
    "plt.plot(s2, E2, 'ob', ms=10, label='Japon')\n",
    "plt.legend(loc='best')\n",
    "plt.grid()\n",
    "plt.xlabel('Volatilidad ($\\sigma$)')\n",
    "plt.ylabel('Rendimiento esperado ($E[r]$)')\n",
    "plt.show()"
   ]
  },
  {
   "cell_type": "markdown",
   "metadata": {},
   "source": [
    "### 2. Encontrar los pesos del portafolio de mínima varianza. ¿Cuáles son el rendimiento esperado y volatilidad del portafolio de mínima varianza? (15 puntos)."
   ]
  },
  {
   "cell_type": "code",
   "execution_count": 8,
   "metadata": {},
   "outputs": [
    {
     "data": {
      "text/plain": [
       "(0.461999081708774, 0.538000918291226)"
      ]
     },
     "execution_count": 8,
     "metadata": {},
     "output_type": "execute_result"
    }
   ],
   "source": [
    "# Calcular w_minvar y mostrar...\n",
    "s12 = r12 * s1 * s2\n",
    "w_minvar = (s2**2 - s12) / (s1**2 + s2**2 - 2*s12)\n",
    "w_minvar, 1-w_minvar\n",
    "\n",
    "#por que asociamos w al índice 1 y (w-1) al indice dos"
   ]
  },
  {
   "cell_type": "code",
   "execution_count": 9,
   "metadata": {},
   "outputs": [],
   "source": [
    "def varianza(w,s1,s2,s12):\n",
    "    w1=w[0]\n",
    "    w2=w[1]\n",
    "    return (s1*w1)**2+(s2*w2)**2+2*w1*w2*s12"
   ]
  },
  {
   "cell_type": "code",
   "execution_count": 10,
   "metadata": {},
   "outputs": [
    {
     "data": {
      "text/plain": [
       "(0.15395039155172074, 0.18783226907134618)"
      ]
     },
     "execution_count": 10,
     "metadata": {},
     "output_type": "execute_result"
    }
   ],
   "source": [
    "E_minvar = w_minvar * E1 + (1 - w_minvar) * E2\n",
    "s_minvar = varianza([w_minvar, 1 - w_minvar], s1, s2, s12)**0.5\n",
    "E_minvar, s_minvar"
   ]
  },
  {
   "cell_type": "markdown",
   "metadata": {},
   "source": [
    "## 3. Mismos activos, distinta correlación (30 puntos)\n",
    "\n",
    "En este punto se usarán los mismos activos (Japón y Reino Unido) con sus rendimientos esperados y volatilidades, solo que supondremos que el coeficiente de correlación entre sus rendimiento es de 0.5.\n",
    "\n",
    "1. Nuevamente, construya la frontera de mínima varianza para estos dos activos con el nuevo supuesto de correlación. Reportar los rendimientos esperados y las volatilidades de estos portafolios en un DataFrame (15 puntos).\n",
    "2. Encontrar los pesos del portafolio de mínima varianza. ¿Cuáles son el rendimiento esperado y volatilidad del portafolio de mínima varianza? (15 puntos)."
   ]
  },
  {
   "cell_type": "code",
   "execution_count": 11,
   "metadata": {},
   "outputs": [
    {
     "data": {
      "text/plain": [
       "(0.1589, 0.1497, 0.243, 0.2298, 0.2663)"
      ]
     },
     "execution_count": 11,
     "metadata": {},
     "output_type": "execute_result"
    }
   ],
   "source": [
    "# Vector de w variando entre 0 y 1 con N pasos\n",
    "N = 101\n",
    "w = np.linspace(start=0, stop=1, num=N)\n",
    "# Rendimientos esperados individuales\n",
    "# Activo1: Japon, Activo2:RU\n",
    "E1V = annual_ret_summ.loc['Media', 'Japon']\n",
    "E2V = annual_ret_summ.loc['Media', 'RU']\n",
    "# Volatilidades individuales\n",
    "s1V = annual_ret_summ.loc['Volatilidad', 'Japon']\n",
    "s2V = annual_ret_summ.loc['Volatilidad', 'RU']\n",
    "# Correlacion\n",
    "r12V = 0.5\n",
    "E1, E2, s1, s2, r12"
   ]
  },
  {
   "cell_type": "code",
   "execution_count": 12,
   "metadata": {},
   "outputs": [
    {
     "data": {
      "text/html": [
       "<div>\n",
       "<style scoped>\n",
       "    .dataframe tbody tr th:only-of-type {\n",
       "        vertical-align: middle;\n",
       "    }\n",
       "\n",
       "    .dataframe tbody tr th {\n",
       "        vertical-align: top;\n",
       "    }\n",
       "\n",
       "    .dataframe thead th {\n",
       "        text-align: right;\n",
       "    }\n",
       "</style>\n",
       "<table border=\"1\" class=\"dataframe\">\n",
       "  <thead>\n",
       "    <tr style=\"text-align: right;\">\n",
       "      <th></th>\n",
       "      <th>w</th>\n",
       "      <th>Media</th>\n",
       "      <th>Volatilidad</th>\n",
       "    </tr>\n",
       "    <tr>\n",
       "      <th>Port. #</th>\n",
       "      <th></th>\n",
       "      <th></th>\n",
       "      <th></th>\n",
       "    </tr>\n",
       "  </thead>\n",
       "  <tbody>\n",
       "    <tr>\n",
       "      <th>1</th>\n",
       "      <td>0.00</td>\n",
       "      <td>0.158900</td>\n",
       "      <td>0.243000</td>\n",
       "    </tr>\n",
       "    <tr>\n",
       "      <th>2</th>\n",
       "      <td>0.01</td>\n",
       "      <td>0.158808</td>\n",
       "      <td>0.241727</td>\n",
       "    </tr>\n",
       "    <tr>\n",
       "      <th>3</th>\n",
       "      <td>0.02</td>\n",
       "      <td>0.158716</td>\n",
       "      <td>0.240471</td>\n",
       "    </tr>\n",
       "    <tr>\n",
       "      <th>4</th>\n",
       "      <td>0.03</td>\n",
       "      <td>0.158624</td>\n",
       "      <td>0.239232</td>\n",
       "    </tr>\n",
       "    <tr>\n",
       "      <th>5</th>\n",
       "      <td>0.04</td>\n",
       "      <td>0.158532</td>\n",
       "      <td>0.238009</td>\n",
       "    </tr>\n",
       "    <tr>\n",
       "      <th>6</th>\n",
       "      <td>0.05</td>\n",
       "      <td>0.158440</td>\n",
       "      <td>0.236804</td>\n",
       "    </tr>\n",
       "    <tr>\n",
       "      <th>7</th>\n",
       "      <td>0.06</td>\n",
       "      <td>0.158348</td>\n",
       "      <td>0.235617</td>\n",
       "    </tr>\n",
       "    <tr>\n",
       "      <th>8</th>\n",
       "      <td>0.07</td>\n",
       "      <td>0.158256</td>\n",
       "      <td>0.234447</td>\n",
       "    </tr>\n",
       "    <tr>\n",
       "      <th>9</th>\n",
       "      <td>0.08</td>\n",
       "      <td>0.158164</td>\n",
       "      <td>0.233296</td>\n",
       "    </tr>\n",
       "    <tr>\n",
       "      <th>10</th>\n",
       "      <td>0.09</td>\n",
       "      <td>0.158072</td>\n",
       "      <td>0.232163</td>\n",
       "    </tr>\n",
       "  </tbody>\n",
       "</table>\n",
       "</div>"
      ],
      "text/plain": [
       "            w     Media  Volatilidad\n",
       "Port. #                             \n",
       "1        0.00  0.158900     0.243000\n",
       "2        0.01  0.158808     0.241727\n",
       "3        0.02  0.158716     0.240471\n",
       "4        0.03  0.158624     0.239232\n",
       "5        0.04  0.158532     0.238009\n",
       "6        0.05  0.158440     0.236804\n",
       "7        0.06  0.158348     0.235617\n",
       "8        0.07  0.158256     0.234447\n",
       "9        0.08  0.158164     0.233296\n",
       "10       0.09  0.158072     0.232163"
      ]
     },
     "execution_count": 12,
     "metadata": {},
     "output_type": "execute_result"
    }
   ],
   "source": [
    "# Crear un DataFrame cuyas columnas sean rendimiento esperado\n",
    "# y volatilidad del portafolio para cada una de las w\n",
    "# generadas\n",
    "portafolios2V = pd.DataFrame({'w': w,\n",
    "                             'Media': w * E1V + (1 - w) * E2V,\n",
    "                             'Volatilidad': ((w * s1V)**2 + ((1 - w) * s2V)**2 + 2 * w * (1 - w) * s1V * s2V * r12V)**0.5\n",
    "                            },\n",
    "                            index=range(1, N + 1)\n",
    "                           )\n",
    "portafolios2V.index.name = 'Port. #'\n",
    "portafolios2V.head(10)"
   ]
  },
  {
   "cell_type": "code",
   "execution_count": 13,
   "metadata": {},
   "outputs": [
    {
     "data": {
      "text/plain": [
       "(0.5557072988900957, 0.44429270110990426)"
      ]
     },
     "execution_count": 13,
     "metadata": {},
     "output_type": "execute_result"
    }
   ],
   "source": [
    "# Calcular w_minvar y mostrar...\n",
    "s12V = r12V * s1V * s2V\n",
    "w_minvarV = (s2V**2 - s12V) / (s1V**2 + s2V**2 - 2*s12V)\n",
    "w_minvarV, 1-w_minvarV\n",
    "\n",
    "#por que asociamos w al índice 1 y (w-1) al indice dos"
   ]
  },
  {
   "cell_type": "code",
   "execution_count": 14,
   "metadata": {},
   "outputs": [
    {
     "data": {
      "text/plain": [
       "(0.15378749285021112, 0.2043300675083318)"
      ]
     },
     "execution_count": 14,
     "metadata": {},
     "output_type": "execute_result"
    }
   ],
   "source": [
    "E_minvarV = w_minvarV * E1V + (1 - w_minvarV) * E2V\n",
    "s_minvarV = varianza([w_minvarV, 1 - w_minvarV], s1V, s2V, s12V)**0.5\n",
    "E_minvarV, s_minvarV"
   ]
  },
  {
   "cell_type": "markdown",
   "metadata": {},
   "source": [
    "## 4. Gráficos y conclusiones (30 puntos)\n",
    "\n",
    "1. Usando sus respuestas para los puntos 2 y 3, grafique las dos fronteras encontradas en una sola gráfica, además de los puntos correspondientes a los activos individuales, donde el eje $x$ es la volatilidad y el eje $y$ el rendimiento esperado. Asegúrese de etiquetar todo y poner distintos colores para diferenciar los distintos elementos en su gráfico (15 puntos).\n",
    "2. Concluya acerca de la gráfica de las dos fronteras de mínima varianza. ¿Cuál provee más diversificación?, ¿cómo se diferencian?, ¿son diferentes los pesos de los dos portafolios de varianza mínima en cada caso?, ¿cómo puede explicar esta diferencia? (15 puntos)."
   ]
  },
  {
   "cell_type": "code",
   "execution_count": 34,
   "metadata": {},
   "outputs": [
    {
     "data": {
      "image/png": "[encoded data removed]",
      "text/plain": [
       "<Figure size 864x576 with 1 Axes>"
      ]
     },
     "metadata": {
      "needs_background": "light"
     },
     "output_type": "display_data"
    }
   ],
   "source": [
    "plt.figure(figsize=(12,8))\n",
    "\n",
    "plt.xlabel('Volatilidad ($sigma$)')\n",
    "plt.ylabel('Rendimiento esperado ($E[r]$)')\n",
    "\n",
    "plt.plot(portafolios2['Volatilidad'],\n",
    "        portafolios2['Media'],\n",
    "        'c' , lw=3, label='Portafolio 1 '\n",
    "        )\n",
    "plt.plot(portafolios2V['Volatilidad'],\n",
    "        portafolios2V['Media'],\n",
    "        'black', lw=3, label='Portafolio 2'\n",
    "        )\n",
    "\n",
    "\n",
    "plt.plot(s1, E1, 'or', ms=10, label='EU')\n",
    "plt.plot(s2, E2, 'og', ms=10, label='Japan')\n",
    "\n",
    "plt.plot(s_minvar, E_minvar, '*b', ms=15, label='Mínima varianza 1')\n",
    "plt.plot(s_minvarV, E_minvarV, '*c', ms=15, label='Mínima varianza 2')\n",
    "\n",
    "\n",
    "plt.legend(loc='best')\n",
    "plt.grid()\n",
    "plt.show()"
   ]
  },
  {
   "cell_type": "markdown",
   "metadata": {},
   "source": [
    "¿Cuál provee más diversificación?\n",
    "El primero, el que no tiene 5% de covarianza. El portafolio que más diversificación tiene es el que tiene la correlación directa entre los dos activos ya que tiene una mayor frontera de minima varianza.\n",
    "\n",
    "¿Cómo se diferencian?\n",
    "Se pueden diferenciar por que su diversificación implica que en un mimso rendimiento cuenta con una volatilidad menor en todos los puntos de la gráfica.\n",
    "\n",
    "¿Son diferentes los pesos de los dos portafolios de varianza mínima en cada caso?\n",
    "Sí, el primer portafolio se encuentra mucho más cerca del punto de eliminación total de riesgo.\n",
    "\n",
    "¿Cómo puede explicar esta diferencia?\n",
    "Una mayor correlación va a implicar un mayor riesgo pues por definición esta diversificación es menos significativa."
   ]
  },
  {
   "cell_type": "markdown",
   "metadata": {},
   "source": [
    "<script>\n",
    "  $(document).ready(function(){\n",
    "    $('div.prompt').hide();\n",
    "    $('div.back-to-top').hide();\n",
    "    $('nav#menubar').hide();\n",
    "    $('.breadcrumb').hide();\n",
    "    $('.hidden-print').hide();\n",
    "  });\n",
    "</script>\n",
    "\n",
    "<footer id=\"attribution\" style=\"float:right; color:#808080; background:#fff;\">\n",
    "Created with Jupyter by Esteban Jiménez Rodríguez.\n",
    "</footer>"
   ]
  }
 ],
 "metadata": {
  "kernelspec": {
   "display_name": "Python 3",
   "language": "python",
   "name": "python3"
  },
  "language_info": {
   "codemirror_mode": {
    "name": "ipython",
    "version": 3
   },
   "file_extension": ".py",
   "mimetype": "text/x-python",
   "name": "python",
   "nbconvert_exporter": "python",
   "pygments_lexer": "ipython3",
   "version": "3.7.6"
  }
 },
 "nbformat": 4,
 "nbformat_minor": 2
}
