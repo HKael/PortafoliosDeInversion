{
 "cells": [
  {
   "cell_type": "code",
   "execution_count": 1,
   "metadata": {},
   "outputs": [],
   "source": [
    "import numpy as np"
   ]
  },
  {
   "cell_type": "markdown",
   "metadata": {},
   "source": [
    "Suponga que tiene $100,000 y los siguientes dos activos para construir un portafolio:\n",
    "\n",
    "un activo libre de riesgo con una tasa de rendimiento del 6% anual, y\n",
    "un activo riesgoso con un rendimiento esperado del 15% anual, y una desviación estándar del 25%.\n",
    "Si se construye un portafolio con una desviación estándar del 20%, ¿cuál es su rendimiento esperado?"
   ]
  },
  {
   "cell_type": "code",
   "execution_count": 2,
   "metadata": {},
   "outputs": [
    {
     "data": {
      "text/plain": [
       "0.132"
      ]
     },
     "execution_count": 2,
     "metadata": {},
     "output_type": "execute_result"
    }
   ],
   "source": [
    "# Datos\n",
    "Ers = 0.15\n",
    "ss = 0.25\n",
    "rf = 0.06\n",
    "# Radio de Sharpe para este activo\n",
    "RS = (Ers - rf) / ss\n",
    "# Vector de volatilidades del portafolio (sugerido: 0% a 50%)\n",
    "sp = .20\n",
    "# LAC\n",
    "Erp = RS * sp + rf\n",
    "\n",
    "Erp"
   ]
  },
  {
   "cell_type": "markdown",
   "metadata": {},
   "source": [
    "Suponga que usted tiene $600,000 invertidos en un portafolio diversificado y obtienes por una herencia de un miembro familiar $100,000 los cuales están invertidos en Family Co. Tu asesor financiero te da la siguiente información:\n",
    "\n",
    " \n",
    "\n",
    "Rendimiento esperado\tDesviación estándar\n",
    "Portafolio diversificado\t8%\t28%\n",
    "Family Co\t15%\t35%\n",
    " \n",
    "\n",
    "El coeficiente de correlación entre tu portafolio diversificado y Family Co es 0.4.\n",
    "\n",
    " \n",
    "\n"
   ]
  },
  {
   "cell_type": "code",
   "execution_count": 3,
   "metadata": {},
   "outputs": [],
   "source": [
    "ii = 600000\n",
    "fi = 100000\n",
    "\n",
    "iEr = 0.08\n",
    "fEr = 0.15\n",
    "\n",
    "isd = 0.28\n",
    "fsd = 0.35\n",
    "\n",
    "corr = 0.4\n",
    "\n",
    "rf = 0.05\n",
    "rfsd = 0\n",
    "\n",
    "w = 6/7"
   ]
  },
  {
   "cell_type": "markdown",
   "metadata": {},
   "source": [
    "¿Cuál es el rendimiento esperado de tu nuevo portafolio que incluye las acciones en Family Co?"
   ]
  },
  {
   "cell_type": "code",
   "execution_count": 4,
   "metadata": {},
   "outputs": [
    {
     "data": {
      "text/plain": [
       "0.09000000000000001"
      ]
     },
     "execution_count": 4,
     "metadata": {},
     "output_type": "execute_result"
    }
   ],
   "source": [
    "#Er\n",
    "w * iEr + (1 - w) * fEr"
   ]
  },
  {
   "cell_type": "markdown",
   "metadata": {},
   "source": [
    "¿Cuál es la volatilidad de tu nuevo portafolio que incluye las acciones en Family Co?"
   ]
  },
  {
   "cell_type": "code",
   "execution_count": 5,
   "metadata": {},
   "outputs": [
    {
     "data": {
      "text/plain": [
       "0.2640075756488817"
      ]
     },
     "execution_count": 5,
     "metadata": {},
     "output_type": "execute_result"
    }
   ],
   "source": [
    "#Vol\n",
    "((w * isd) **2 + ((1 - w) * fsd)**2 + 2 * w *(1 - w) * isd * fsd * corr)**0.5"
   ]
  },
  {
   "cell_type": "markdown",
   "metadata": {},
   "source": [
    "Continuando con las preguntas anteriores, suponga que usted decide vender su posición en Family Co e invertir en bonos del gobierno que dan el 5% de rendimiento anual. ¿Cuál sería su rendimiento esperado en el nuevo portafolio portafolio que inluye los bonos del gobierno?"
   ]
  },
  {
   "cell_type": "code",
   "execution_count": 6,
   "metadata": {},
   "outputs": [
    {
     "data": {
      "text/plain": [
       "0.07571428571428572"
      ]
     },
     "execution_count": 6,
     "metadata": {},
     "output_type": "execute_result"
    }
   ],
   "source": [
    "#bonos de gob Er\n",
    "w * iEr + (1 - w) * rf"
   ]
  },
  {
   "cell_type": "markdown",
   "metadata": {},
   "source": [
    "Continuando con las anteriores preguntas, suponga que usted decide vender su posición en Familiy Co e invertir en bonos del gobierno que dan el 5% de rendimiento anual. ¿Cuál sería la volatilidad de este nuevo portafolio incluyendo los bonos del gobierno?"
   ]
  },
  {
   "cell_type": "code",
   "execution_count": 11,
   "metadata": {},
   "outputs": [
    {
     "data": {
      "text/plain": [
       "0.24000000000000002"
      ]
     },
     "execution_count": 11,
     "metadata": {},
     "output_type": "execute_result"
    }
   ],
   "source": [
    "# Bonos de gob Vol\n",
    "((w * isd) **2  )**0.5"
   ]
  }
 ],
 "metadata": {
  "kernelspec": {
   "display_name": "Python 3",
   "language": "python",
   "name": "python3"
  },
  "language_info": {
   "codemirror_mode": {
    "name": "ipython",
    "version": 3
   },
   "file_extension": ".py",
   "mimetype": "text/x-python",
   "name": "python",
   "nbconvert_exporter": "python",
   "pygments_lexer": "ipython3",
   "version": "3.7.6"
  }
 },
 "nbformat": 4,
 "nbformat_minor": 4
}
