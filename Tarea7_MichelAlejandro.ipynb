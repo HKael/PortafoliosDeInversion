{
 "cells": [
  {
   "cell_type": "markdown",
   "metadata": {},
   "source": [
    "# Tarea 7. Estimación del riesgo sistemático ($\\beta$).\n",
    "\n",
    "<img style=\"float: right; margin: 0px 0px 15px 15px;\" src=\"https://upload.wikimedia.org/wikipedia/commons/thumb/6/6e/Separation_theorem_of_MPT.svg/2000px-Separation_theorem_of_MPT.svg.png\" width=\"400px\" height=\"400px\" />\n",
    "\n",
    "**Resumen.**\n",
    "> En esta tarea aplicarás la técnica aprendida en clase para la estimación del coeficiente de riesgo sistemático $\\beta$, el cual es primordial en el modelo de valoración de activos en equilibrio CAPM.\n",
    "\n",
    "**Criterio de revisión.**\n",
    "> Se te calificará de acuerdo a los resultados finales que reportes, basados en tu análisis.\n",
    "\n",
    "**Antes de comenzar.**\n",
    "> Por favor, copiar y pegar este archivo en otra ubicación. Antes de comenzar, nombrarlo *Tarea7_ApellidoNombre*, sin acentos y sin espacios; por ejemplo, en mi caso el archivo se llamaría *Tarea7_JimenezEsteban*. Resolver todos los puntos en dicho archivo y subir en este espacio."
   ]
  },
  {
   "cell_type": "code",
   "execution_count": 46,
   "metadata": {},
   "outputs": [],
   "source": [
    "import pandas as pd\n",
    "import pandas_datareader.data as web\n",
    "import numpy as np\n",
    "import matplotlib.pyplot as plt\n",
    "%matplotlib inline\n",
    "import scipy.optimize as opt\n",
    "from scipy.optimize import minimize"
   ]
  },
  {
   "cell_type": "markdown",
   "metadata": {},
   "source": [
    "## 1. Selección de activos (10 puntos)\n",
    "\n",
    "Seleccionar cinco (5) activos de su preferencia y enunciarlos en una celda en formato Markdown."
   ]
  },
  {
   "cell_type": "markdown",
   "metadata": {},
   "source": [
    "#### Las empresas seleccionadas son las siguientes:\n",
    "\n",
    "1. Tesla Inc - TSLA\n",
    "2. Ford Motor Company - F\n",
    "3. Netflix Inc - NFLX\n",
    "4. Facebok Inc - FB\n",
    "5. The Procter & Gamble Company - PG\n"
   ]
  },
  {
   "cell_type": "markdown",
   "metadata": {},
   "source": [
    "## 2. Descarga de datos (10 puntos)\n",
    "\n",
    "Descargar los precios mensuales ajustados en el cierre para el índice S&P 500 (^GSPC) y para los activos seleccionados en los últimos cinco años.\n",
    "\n",
    "1. Graficar los precios (5 puntos).\n",
    "2. Graficar los rendimientos (5 puntos)."
   ]
  },
  {
   "cell_type": "code",
   "execution_count": 2,
   "metadata": {},
   "outputs": [],
   "source": [
    "# Función para descargar precios de cierre ajustados:\n",
    "def get_adj_closes(tickers, start_date=None, end_date=None, freq='m'):\n",
    "    # Fecha inicio por defecto (start_date='2010-01-01') y fecha fin por defecto (end_date=today)\n",
    "    # Descargamos DataFrame con todos los datos\n",
    "    closes = web.YahooDailyReader(symbols=tickers, start=start_date, end=end_date, interval=freq).read()['Adj Close']\n",
    "    # Se ordenan los índices de manera ascendente\n",
    "    closes.sort_index(inplace=True)\n",
    "    return closes"
   ]
  },
  {
   "cell_type": "code",
   "execution_count": 3,
   "metadata": {},
   "outputs": [],
   "source": [
    "# Importar datos de AAPL, MSFT, y ^GSPC\n",
    "names = ['TSLA', 'F', 'NFLX', 'FB', 'PG','^GSPC']\n",
    "start = '2015-07-01'\n",
    "end = '2020-07-01'"
   ]
  },
  {
   "cell_type": "code",
   "execution_count": 4,
   "metadata": {},
   "outputs": [
    {
     "data": {
      "text/html": [
       "<div>\n",
       "<style scoped>\n",
       "    .dataframe tbody tr th:only-of-type {\n",
       "        vertical-align: middle;\n",
       "    }\n",
       "\n",
       "    .dataframe tbody tr th {\n",
       "        vertical-align: top;\n",
       "    }\n",
       "\n",
       "    .dataframe thead th {\n",
       "        text-align: right;\n",
       "    }\n",
       "</style>\n",
       "<table border=\"1\" class=\"dataframe\">\n",
       "  <thead>\n",
       "    <tr style=\"text-align: right;\">\n",
       "      <th>Symbols</th>\n",
       "      <th>TSLA</th>\n",
       "      <th>F</th>\n",
       "      <th>NFLX</th>\n",
       "      <th>FB</th>\n",
       "      <th>PG</th>\n",
       "      <th>^GSPC</th>\n",
       "    </tr>\n",
       "    <tr>\n",
       "      <th>Date</th>\n",
       "      <th></th>\n",
       "      <th></th>\n",
       "      <th></th>\n",
       "      <th></th>\n",
       "      <th></th>\n",
       "      <th></th>\n",
       "    </tr>\n",
       "  </thead>\n",
       "  <tbody>\n",
       "    <tr>\n",
       "      <th>2015-07-01</th>\n",
       "      <td>266.149994</td>\n",
       "      <td>11.494650</td>\n",
       "      <td>114.309998</td>\n",
       "      <td>94.010002</td>\n",
       "      <td>65.677582</td>\n",
       "      <td>2103.840088</td>\n",
       "    </tr>\n",
       "    <tr>\n",
       "      <th>2015-08-01</th>\n",
       "      <td>249.059998</td>\n",
       "      <td>10.860409</td>\n",
       "      <td>115.029999</td>\n",
       "      <td>89.730003</td>\n",
       "      <td>61.009575</td>\n",
       "      <td>1972.180054</td>\n",
       "    </tr>\n",
       "    <tr>\n",
       "      <th>2015-09-01</th>\n",
       "      <td>248.399994</td>\n",
       "      <td>10.625504</td>\n",
       "      <td>103.260002</td>\n",
       "      <td>89.900002</td>\n",
       "      <td>62.105988</td>\n",
       "      <td>1920.030029</td>\n",
       "    </tr>\n",
       "    <tr>\n",
       "      <th>2015-10-01</th>\n",
       "      <td>206.929993</td>\n",
       "      <td>11.596441</td>\n",
       "      <td>108.379997</td>\n",
       "      <td>101.970001</td>\n",
       "      <td>65.939049</td>\n",
       "      <td>2079.360107</td>\n",
       "    </tr>\n",
       "    <tr>\n",
       "      <th>2015-11-01</th>\n",
       "      <td>230.259995</td>\n",
       "      <td>11.334781</td>\n",
       "      <td>123.330002</td>\n",
       "      <td>104.239998</td>\n",
       "      <td>65.190147</td>\n",
       "      <td>2080.409912</td>\n",
       "    </tr>\n",
       "    <tr>\n",
       "      <th>2015-12-01</th>\n",
       "      <td>240.009995</td>\n",
       "      <td>11.144945</td>\n",
       "      <td>114.379997</td>\n",
       "      <td>104.660004</td>\n",
       "      <td>69.170921</td>\n",
       "      <td>2043.939941</td>\n",
       "    </tr>\n",
       "    <tr>\n",
       "      <th>2016-01-01</th>\n",
       "      <td>191.199997</td>\n",
       "      <td>9.444334</td>\n",
       "      <td>91.839996</td>\n",
       "      <td>112.209999</td>\n",
       "      <td>71.156937</td>\n",
       "      <td>1940.239990</td>\n",
       "    </tr>\n",
       "    <tr>\n",
       "      <th>2016-02-01</th>\n",
       "      <td>191.929993</td>\n",
       "      <td>10.017759</td>\n",
       "      <td>93.410004</td>\n",
       "      <td>106.919998</td>\n",
       "      <td>70.546928</td>\n",
       "      <td>1932.229980</td>\n",
       "    </tr>\n",
       "    <tr>\n",
       "      <th>2016-03-01</th>\n",
       "      <td>229.770004</td>\n",
       "      <td>10.810531</td>\n",
       "      <td>102.230003</td>\n",
       "      <td>114.099998</td>\n",
       "      <td>72.321800</td>\n",
       "      <td>2059.739990</td>\n",
       "    </tr>\n",
       "    <tr>\n",
       "      <th>2016-04-01</th>\n",
       "      <td>240.759995</td>\n",
       "      <td>10.858578</td>\n",
       "      <td>90.029999</td>\n",
       "      <td>117.580002</td>\n",
       "      <td>70.397552</td>\n",
       "      <td>2065.300049</td>\n",
       "    </tr>\n",
       "  </tbody>\n",
       "</table>\n",
       "</div>"
      ],
      "text/plain": [
       "Symbols           TSLA          F        NFLX          FB         PG  \\\n",
       "Date                                                                   \n",
       "2015-07-01  266.149994  11.494650  114.309998   94.010002  65.677582   \n",
       "2015-08-01  249.059998  10.860409  115.029999   89.730003  61.009575   \n",
       "2015-09-01  248.399994  10.625504  103.260002   89.900002  62.105988   \n",
       "2015-10-01  206.929993  11.596441  108.379997  101.970001  65.939049   \n",
       "2015-11-01  230.259995  11.334781  123.330002  104.239998  65.190147   \n",
       "2015-12-01  240.009995  11.144945  114.379997  104.660004  69.170921   \n",
       "2016-01-01  191.199997   9.444334   91.839996  112.209999  71.156937   \n",
       "2016-02-01  191.929993  10.017759   93.410004  106.919998  70.546928   \n",
       "2016-03-01  229.770004  10.810531  102.230003  114.099998  72.321800   \n",
       "2016-04-01  240.759995  10.858578   90.029999  117.580002  70.397552   \n",
       "\n",
       "Symbols           ^GSPC  \n",
       "Date                     \n",
       "2015-07-01  2103.840088  \n",
       "2015-08-01  1972.180054  \n",
       "2015-09-01  1920.030029  \n",
       "2015-10-01  2079.360107  \n",
       "2015-11-01  2080.409912  \n",
       "2015-12-01  2043.939941  \n",
       "2016-01-01  1940.239990  \n",
       "2016-02-01  1932.229980  \n",
       "2016-03-01  2059.739990  \n",
       "2016-04-01  2065.300049  "
      ]
     },
     "execution_count": 4,
     "metadata": {},
     "output_type": "execute_result"
    }
   ],
   "source": [
    "# Obtener precios mensuales\n",
    "closes = get_adj_closes(tickers=names, start_date=start, end_date=end)\n",
    "closes.head(10)"
   ]
  },
  {
   "cell_type": "code",
   "execution_count": 5,
   "metadata": {},
   "outputs": [
    {
     "data": {
      "text/html": [
       "<div>\n",
       "<style scoped>\n",
       "    .dataframe tbody tr th:only-of-type {\n",
       "        vertical-align: middle;\n",
       "    }\n",
       "\n",
       "    .dataframe tbody tr th {\n",
       "        vertical-align: top;\n",
       "    }\n",
       "\n",
       "    .dataframe thead th {\n",
       "        text-align: right;\n",
       "    }\n",
       "</style>\n",
       "<table border=\"1\" class=\"dataframe\">\n",
       "  <thead>\n",
       "    <tr style=\"text-align: right;\">\n",
       "      <th>Symbols</th>\n",
       "      <th>TSLA</th>\n",
       "      <th>F</th>\n",
       "      <th>NFLX</th>\n",
       "      <th>FB</th>\n",
       "      <th>PG</th>\n",
       "      <th>^GSPC</th>\n",
       "    </tr>\n",
       "    <tr>\n",
       "      <th>Date</th>\n",
       "      <th></th>\n",
       "      <th></th>\n",
       "      <th></th>\n",
       "      <th></th>\n",
       "      <th></th>\n",
       "      <th></th>\n",
       "    </tr>\n",
       "  </thead>\n",
       "  <tbody>\n",
       "    <tr>\n",
       "      <th>2015-08-01</th>\n",
       "      <td>-0.064212</td>\n",
       "      <td>-0.055177</td>\n",
       "      <td>0.006299</td>\n",
       "      <td>-0.045527</td>\n",
       "      <td>-0.071075</td>\n",
       "      <td>-0.062581</td>\n",
       "    </tr>\n",
       "    <tr>\n",
       "      <th>2015-09-01</th>\n",
       "      <td>-0.002650</td>\n",
       "      <td>-0.021629</td>\n",
       "      <td>-0.102321</td>\n",
       "      <td>0.001895</td>\n",
       "      <td>0.017971</td>\n",
       "      <td>-0.026443</td>\n",
       "    </tr>\n",
       "    <tr>\n",
       "      <th>2015-10-01</th>\n",
       "      <td>-0.166948</td>\n",
       "      <td>0.091378</td>\n",
       "      <td>0.049584</td>\n",
       "      <td>0.134260</td>\n",
       "      <td>0.061718</td>\n",
       "      <td>0.082983</td>\n",
       "    </tr>\n",
       "    <tr>\n",
       "      <th>2015-11-01</th>\n",
       "      <td>0.112743</td>\n",
       "      <td>-0.022564</td>\n",
       "      <td>0.137941</td>\n",
       "      <td>0.022261</td>\n",
       "      <td>-0.011357</td>\n",
       "      <td>0.000505</td>\n",
       "    </tr>\n",
       "    <tr>\n",
       "      <th>2015-12-01</th>\n",
       "      <td>0.042343</td>\n",
       "      <td>-0.016748</td>\n",
       "      <td>-0.072570</td>\n",
       "      <td>0.004029</td>\n",
       "      <td>0.061064</td>\n",
       "      <td>-0.017530</td>\n",
       "    </tr>\n",
       "    <tr>\n",
       "      <th>2016-01-01</th>\n",
       "      <td>-0.203367</td>\n",
       "      <td>-0.152590</td>\n",
       "      <td>-0.197062</td>\n",
       "      <td>0.072138</td>\n",
       "      <td>0.028712</td>\n",
       "      <td>-0.050735</td>\n",
       "    </tr>\n",
       "    <tr>\n",
       "      <th>2016-02-01</th>\n",
       "      <td>0.003818</td>\n",
       "      <td>0.060716</td>\n",
       "      <td>0.017095</td>\n",
       "      <td>-0.047144</td>\n",
       "      <td>-0.008573</td>\n",
       "      <td>-0.004128</td>\n",
       "    </tr>\n",
       "    <tr>\n",
       "      <th>2016-03-01</th>\n",
       "      <td>0.197155</td>\n",
       "      <td>0.079137</td>\n",
       "      <td>0.094422</td>\n",
       "      <td>0.067153</td>\n",
       "      <td>0.025159</td>\n",
       "      <td>0.065991</td>\n",
       "    </tr>\n",
       "    <tr>\n",
       "      <th>2016-04-01</th>\n",
       "      <td>0.047830</td>\n",
       "      <td>0.004444</td>\n",
       "      <td>-0.119339</td>\n",
       "      <td>0.030500</td>\n",
       "      <td>-0.026607</td>\n",
       "      <td>0.002699</td>\n",
       "    </tr>\n",
       "    <tr>\n",
       "      <th>2016-05-01</th>\n",
       "      <td>-0.072811</td>\n",
       "      <td>0.005810</td>\n",
       "      <td>0.139287</td>\n",
       "      <td>0.010461</td>\n",
       "      <td>0.019762</td>\n",
       "      <td>0.015325</td>\n",
       "    </tr>\n",
       "  </tbody>\n",
       "</table>\n",
       "</div>"
      ],
      "text/plain": [
       "Symbols         TSLA         F      NFLX        FB        PG     ^GSPC\n",
       "Date                                                                  \n",
       "2015-08-01 -0.064212 -0.055177  0.006299 -0.045527 -0.071075 -0.062581\n",
       "2015-09-01 -0.002650 -0.021629 -0.102321  0.001895  0.017971 -0.026443\n",
       "2015-10-01 -0.166948  0.091378  0.049584  0.134260  0.061718  0.082983\n",
       "2015-11-01  0.112743 -0.022564  0.137941  0.022261 -0.011357  0.000505\n",
       "2015-12-01  0.042343 -0.016748 -0.072570  0.004029  0.061064 -0.017530\n",
       "2016-01-01 -0.203367 -0.152590 -0.197062  0.072138  0.028712 -0.050735\n",
       "2016-02-01  0.003818  0.060716  0.017095 -0.047144 -0.008573 -0.004128\n",
       "2016-03-01  0.197155  0.079137  0.094422  0.067153  0.025159  0.065991\n",
       "2016-04-01  0.047830  0.004444 -0.119339  0.030500 -0.026607  0.002699\n",
       "2016-05-01 -0.072811  0.005810  0.139287  0.010461  0.019762  0.015325"
      ]
     },
     "execution_count": 5,
     "metadata": {},
     "output_type": "execute_result"
    }
   ],
   "source": [
    "# Obtener rendimientos mensuales\n",
    "ret = closes.pct_change().dropna()\n",
    "ret.head(10)"
   ]
  },
  {
   "cell_type": "code",
   "execution_count": 6,
   "metadata": {},
   "outputs": [
    {
     "data": {
      "text/plain": [
       "Symbols\n",
       "TSLA     0.036599\n",
       "F       -0.007254\n",
       "NFLX     0.029575\n",
       "FB       0.018106\n",
       "PG       0.011061\n",
       "^GSPC    0.007547\n",
       "dtype: float64"
      ]
     },
     "execution_count": 6,
     "metadata": {},
     "output_type": "execute_result"
    }
   ],
   "source": [
    "ret_m = ret.mean()\n",
    "ret_m"
   ]
  },
  {
   "cell_type": "code",
   "execution_count": 7,
   "metadata": {},
   "outputs": [
    {
     "data": {
      "text/plain": [
       "<matplotlib.axes._subplots.AxesSubplot at 0x1c1dd4c1988>"
      ]
     },
     "execution_count": 7,
     "metadata": {},
     "output_type": "execute_result"
    },
    {
     "data": {
      "image/png": "[encoded data removed]",
      "text/plain": [
       "<Figure size 432x288 with 1 Axes>"
      ]
     },
     "metadata": {
      "needs_background": "light"
     },
     "output_type": "display_data"
    }
   ],
   "source": [
    "closes.plot()"
   ]
  },
  {
   "cell_type": "code",
   "execution_count": 8,
   "metadata": {},
   "outputs": [
    {
     "data": {
      "text/plain": [
       "<matplotlib.axes._subplots.AxesSubplot at 0x1c1de8c8608>"
      ]
     },
     "execution_count": 8,
     "metadata": {},
     "output_type": "execute_result"
    },
    {
     "data": {
      "image/png": "[encoded data removed]",
      "text/plain": [
       "<Figure size 432x288 with 1 Axes>"
      ]
     },
     "metadata": {
      "needs_background": "light"
     },
     "output_type": "display_data"
    }
   ],
   "source": [
    "ret.plot()"
   ]
  },
  {
   "cell_type": "markdown",
   "metadata": {},
   "source": [
    "## 3. Calculando los coeficientes $\\beta$ (50 puntos)\n",
    "\n",
    "Usando los datos de rendimientos mensuales calculados en el punto anterior:\n",
    "\n",
    "1. Estime el valor del coeficiente de riesgo sistemático $\\beta$ para cada uno de los activos seleccionados, con el método visto en clase (5 puntos por cada activo).\n",
    "2. Compare su estimación de $\\beta$ con el valor reportado en Yahoo! Finance mediante el error relativo: \n",
    "$$e_{relativo}=\\frac{\\beta_{estimado}-\\beta_{Yahoo!}}{\\beta_{Yahoo!}}.$$\n",
    "Concluya de acuerdo al valor del error relativo obtenido (5 puntos por cada activo)."
   ]
  },
  {
   "cell_type": "code",
   "execution_count": 9,
   "metadata": {},
   "outputs": [
    {
     "data": {
      "text/html": [
       "<div>\n",
       "<style scoped>\n",
       "    .dataframe tbody tr th:only-of-type {\n",
       "        vertical-align: middle;\n",
       "    }\n",
       "\n",
       "    .dataframe tbody tr th {\n",
       "        vertical-align: top;\n",
       "    }\n",
       "\n",
       "    .dataframe thead th {\n",
       "        text-align: right;\n",
       "    }\n",
       "</style>\n",
       "<table border=\"1\" class=\"dataframe\">\n",
       "  <thead>\n",
       "    <tr style=\"text-align: right;\">\n",
       "      <th>Symbols</th>\n",
       "      <th>TSLA</th>\n",
       "      <th>F</th>\n",
       "      <th>NFLX</th>\n",
       "      <th>FB</th>\n",
       "      <th>PG</th>\n",
       "      <th>^GSPC</th>\n",
       "    </tr>\n",
       "    <tr>\n",
       "      <th>Symbols</th>\n",
       "      <th></th>\n",
       "      <th></th>\n",
       "      <th></th>\n",
       "      <th></th>\n",
       "      <th></th>\n",
       "      <th></th>\n",
       "    </tr>\n",
       "  </thead>\n",
       "  <tbody>\n",
       "    <tr>\n",
       "      <th>TSLA</th>\n",
       "      <td>0.024720</td>\n",
       "      <td>0.001750</td>\n",
       "      <td>0.003091</td>\n",
       "      <td>0.003039</td>\n",
       "      <td>0.000817</td>\n",
       "      <td>0.002214</td>\n",
       "    </tr>\n",
       "    <tr>\n",
       "      <th>F</th>\n",
       "      <td>0.001750</td>\n",
       "      <td>0.006393</td>\n",
       "      <td>0.001447</td>\n",
       "      <td>0.003169</td>\n",
       "      <td>0.001029</td>\n",
       "      <td>0.002320</td>\n",
       "    </tr>\n",
       "    <tr>\n",
       "      <th>NFLX</th>\n",
       "      <td>0.003091</td>\n",
       "      <td>0.001447</td>\n",
       "      <td>0.011758</td>\n",
       "      <td>0.004108</td>\n",
       "      <td>-0.000859</td>\n",
       "      <td>0.001717</td>\n",
       "    </tr>\n",
       "    <tr>\n",
       "      <th>FB</th>\n",
       "      <td>0.003039</td>\n",
       "      <td>0.003169</td>\n",
       "      <td>0.004108</td>\n",
       "      <td>0.006038</td>\n",
       "      <td>0.000753</td>\n",
       "      <td>0.002163</td>\n",
       "    </tr>\n",
       "    <tr>\n",
       "      <th>PG</th>\n",
       "      <td>0.000817</td>\n",
       "      <td>0.001029</td>\n",
       "      <td>-0.000859</td>\n",
       "      <td>0.000753</td>\n",
       "      <td>0.001699</td>\n",
       "      <td>0.000719</td>\n",
       "    </tr>\n",
       "    <tr>\n",
       "      <th>^GSPC</th>\n",
       "      <td>0.002214</td>\n",
       "      <td>0.002320</td>\n",
       "      <td>0.001717</td>\n",
       "      <td>0.002163</td>\n",
       "      <td>0.000719</td>\n",
       "      <td>0.001819</td>\n",
       "    </tr>\n",
       "  </tbody>\n",
       "</table>\n",
       "</div>"
      ],
      "text/plain": [
       "Symbols      TSLA         F      NFLX        FB        PG     ^GSPC\n",
       "Symbols                                                            \n",
       "TSLA     0.024720  0.001750  0.003091  0.003039  0.000817  0.002214\n",
       "F        0.001750  0.006393  0.001447  0.003169  0.001029  0.002320\n",
       "NFLX     0.003091  0.001447  0.011758  0.004108 -0.000859  0.001717\n",
       "FB       0.003039  0.003169  0.004108  0.006038  0.000753  0.002163\n",
       "PG       0.000817  0.001029 -0.000859  0.000753  0.001699  0.000719\n",
       "^GSPC    0.002214  0.002320  0.001717  0.002163  0.000719  0.001819"
      ]
     },
     "execution_count": 9,
     "metadata": {},
     "output_type": "execute_result"
    }
   ],
   "source": [
    "# Obtener matriz de covarianza\n",
    "cov = ret.cov()\n",
    "cov"
   ]
  },
  {
   "cell_type": "code",
   "execution_count": 21,
   "metadata": {},
   "outputs": [
    {
     "data": {
      "text/plain": [
       "(1.2176494049088127, 1.17)"
      ]
     },
     "execution_count": 21,
     "metadata": {},
     "output_type": "execute_result"
    }
   ],
   "source": [
    "# Beta de Tesla\n",
    "beta_T = cov.loc['TSLA', '^GSPC'] / cov.loc['^GSPC', '^GSPC']\n",
    "beta_Tr = 1.17\n",
    "beta_T, beta_Tr"
   ]
  },
  {
   "cell_type": "code",
   "execution_count": 23,
   "metadata": {},
   "outputs": [
    {
     "data": {
      "text/plain": [
       "(1.275725597433242, 1.3)"
      ]
     },
     "execution_count": 23,
     "metadata": {},
     "output_type": "execute_result"
    }
   ],
   "source": [
    "# Beta de Ford\n",
    "beta_F = cov.loc['F', '^GSPC'] / cov.loc['^GSPC', '^GSPC']\n",
    "beta_Fr = 1.30\n",
    "beta_F, beta_Fr"
   ]
  },
  {
   "cell_type": "code",
   "execution_count": 24,
   "metadata": {},
   "outputs": [
    {
     "data": {
      "text/plain": [
       "(0.9443847471758864, 0.96)"
      ]
     },
     "execution_count": 24,
     "metadata": {},
     "output_type": "execute_result"
    }
   ],
   "source": [
    "# Beta de Netflix\n",
    "beta_N = cov.loc['NFLX', '^GSPC'] / cov.loc['^GSPC', '^GSPC']\n",
    "beta_Nr = 0.96\n",
    "beta_N, beta_Nr"
   ]
  },
  {
   "cell_type": "code",
   "execution_count": 25,
   "metadata": {},
   "outputs": [
    {
     "data": {
      "text/plain": [
       "(1.275725597433242, 1.2)"
      ]
     },
     "execution_count": 25,
     "metadata": {},
     "output_type": "execute_result"
    }
   ],
   "source": [
    "# Beta de Facebook\n",
    "beta_FB = cov.loc['FB', '^GSPC'] / cov.loc['^GSPC', '^GSPC']\n",
    "beta_FBr = 1.20\n",
    "beta_F, beta_FBr"
   ]
  },
  {
   "cell_type": "code",
   "execution_count": 26,
   "metadata": {},
   "outputs": [
    {
     "data": {
      "text/plain": [
       "(0.39524789708159513, 0.4)"
      ]
     },
     "execution_count": 26,
     "metadata": {},
     "output_type": "execute_result"
    }
   ],
   "source": [
    "# Beta de P&G\n",
    "beta_PG = cov.loc['PG', '^GSPC'] / cov.loc['^GSPC', '^GSPC']\n",
    "beta_PGr = 0.40\n",
    "beta_PG, beta_PGr"
   ]
  },
  {
   "cell_type": "code",
   "execution_count": 27,
   "metadata": {},
   "outputs": [
    {
     "data": {
      "text/plain": [
       "0.040725987101549364"
      ]
     },
     "execution_count": 27,
     "metadata": {},
     "output_type": "execute_result"
    }
   ],
   "source": [
    "#Error relativo de Tesla\n",
    "e_T = abs((beta_T - beta_Tr ) / beta_Tr)\n",
    "e_T"
   ]
  },
  {
   "cell_type": "code",
   "execution_count": 28,
   "metadata": {},
   "outputs": [
    {
     "data": {
      "text/plain": [
       "0.018672617359044658"
      ]
     },
     "execution_count": 28,
     "metadata": {},
     "output_type": "execute_result"
    }
   ],
   "source": [
    "#Error relativo de Ford\n",
    "e_F = abs((beta_F - beta_Fr ) / beta_Fr)\n",
    "e_F"
   ]
  },
  {
   "cell_type": "code",
   "execution_count": 29,
   "metadata": {},
   "outputs": [
    {
     "data": {
      "text/plain": [
       "0.016265888358451646"
      ]
     },
     "execution_count": 29,
     "metadata": {},
     "output_type": "execute_result"
    }
   ],
   "source": [
    "#Error relativo de Netflix\n",
    "e_N = abs((beta_N - beta_Nr ) / beta_Nr)\n",
    "e_N"
   ]
  },
  {
   "cell_type": "code",
   "execution_count": 30,
   "metadata": {},
   "outputs": [
    {
     "data": {
      "text/plain": [
       "0.008751409749003791"
      ]
     },
     "execution_count": 30,
     "metadata": {},
     "output_type": "execute_result"
    }
   ],
   "source": [
    "#Error relativo de Facebook\n",
    "e_FB = abs((beta_FB - beta_FBr ) / beta_FBr)\n",
    "e_FB"
   ]
  },
  {
   "cell_type": "code",
   "execution_count": 31,
   "metadata": {},
   "outputs": [
    {
     "data": {
      "text/plain": [
       "0.01188025729601222"
      ]
     },
     "execution_count": 31,
     "metadata": {},
     "output_type": "execute_result"
    }
   ],
   "source": [
    "#Error relativo de P&G\n",
    "e_PG = abs((beta_PG - beta_PGr ) / beta_PGr)\n",
    "e_PG"
   ]
  },
  {
   "cell_type": "code",
   "execution_count": 37,
   "metadata": {},
   "outputs": [
    {
     "data": {
      "text/html": [
       "<div>\n",
       "<style scoped>\n",
       "    .dataframe tbody tr th:only-of-type {\n",
       "        vertical-align: middle;\n",
       "    }\n",
       "\n",
       "    .dataframe tbody tr th {\n",
       "        vertical-align: top;\n",
       "    }\n",
       "\n",
       "    .dataframe thead th {\n",
       "        text-align: right;\n",
       "    }\n",
       "</style>\n",
       "<table border=\"1\" class=\"dataframe\">\n",
       "  <thead>\n",
       "    <tr style=\"text-align: right;\">\n",
       "      <th></th>\n",
       "      <th>Beta estimada</th>\n",
       "      <th>Beta real</th>\n",
       "      <th>Error relativo</th>\n",
       "    </tr>\n",
       "    <tr>\n",
       "      <th>Empresa</th>\n",
       "      <th></th>\n",
       "      <th></th>\n",
       "      <th></th>\n",
       "    </tr>\n",
       "  </thead>\n",
       "  <tbody>\n",
       "    <tr>\n",
       "      <th>TSLA</th>\n",
       "      <td>1.2176</td>\n",
       "      <td>1.17</td>\n",
       "      <td>0.0407</td>\n",
       "    </tr>\n",
       "    <tr>\n",
       "      <th>F</th>\n",
       "      <td>1.2757</td>\n",
       "      <td>1.30</td>\n",
       "      <td>0.0187</td>\n",
       "    </tr>\n",
       "    <tr>\n",
       "      <th>NFLX</th>\n",
       "      <td>0.9444</td>\n",
       "      <td>0.96</td>\n",
       "      <td>0.0163</td>\n",
       "    </tr>\n",
       "    <tr>\n",
       "      <th>FB</th>\n",
       "      <td>1.1895</td>\n",
       "      <td>1.20</td>\n",
       "      <td>0.0088</td>\n",
       "    </tr>\n",
       "    <tr>\n",
       "      <th>PG</th>\n",
       "      <td>0.3952</td>\n",
       "      <td>0.40</td>\n",
       "      <td>0.0119</td>\n",
       "    </tr>\n",
       "  </tbody>\n",
       "</table>\n",
       "</div>"
      ],
      "text/plain": [
       "         Beta estimada  Beta real  Error relativo\n",
       "Empresa                                          \n",
       "TSLA            1.2176       1.17          0.0407\n",
       "F               1.2757       1.30          0.0187\n",
       "NFLX            0.9444       0.96          0.0163\n",
       "FB              1.1895       1.20          0.0088\n",
       "PG              0.3952       0.40          0.0119"
      ]
     },
     "execution_count": 37,
     "metadata": {},
     "output_type": "execute_result"
    }
   ],
   "source": [
    "tabla = pd.DataFrame(columns = ['Beta estimada','Beta real', 'Error relativo'], index = ['TSLA', 'F', 'NFLX', 'FB', 'PG'])\n",
    "tabla.index.name = 'Empresa'\n",
    "tabla['Beta estimada'] = np.array([beta_T , beta_F , beta_N , beta_FB , beta_PG])\n",
    "tabla['Beta real'] = np.array([beta_Tr , beta_Fr , beta_Nr , beta_FBr , beta_PGr])\n",
    "tabla['Error relativo'] = np.array([e_T, e_F, e_N, e_FB, e_PG])\n",
    "\n",
    "tabla.round(4)"
   ]
  },
  {
   "cell_type": "markdown",
   "metadata": {},
   "source": [
    "### Conclusiones: \n",
    "\n",
    "Un error relativo de la beta que supera el valor de 0.1 se considera como una inexactitud no aceptable. En el caso de los datos recopilados esto no sucede en ningún valor, incluso tienen, salvo el de TSLA, una diferencia de  magnitud lo que significa que son muy similares. Esto quiere decir que hicimos un buen trabajo y que se puede trabajar con ellos.\n"
   ]
  },
  {
   "cell_type": "markdown",
   "metadata": {},
   "source": [
    "## 4. Gráfico y conclusiones (30 puntos)\n",
    "\n",
    "1. Grafique cada uno de los activos en el espacio de $E[r]$ (eje $y$) vs. $\\beta$ (eje $x$) (10 puntos).\n",
    "2. Ajuste una línea recta a los puntos obtenidos. Dar la ecuación (10 puntos).\n",
    "3. De la ecuación obtenida, identifique el valor de la tasa libre de riesgo $r_f$, y el valor del rendimiento esperado del portafolio de mercado $E[r_M]$. Compare este último con el rendimiento esperado del índice S&P500 (10 puntos)."
   ]
  },
  {
   "cell_type": "code",
   "execution_count": 44,
   "metadata": {},
   "outputs": [
    {
     "data": {
      "text/plain": [
       "<matplotlib.legend.Legend at 0x1c1df1fcd08>"
      ]
     },
     "execution_count": 44,
     "metadata": {},
     "output_type": "execute_result"
    },
    {
     "data": {
      "image/png": "[encoded data removed]",
      "text/plain": [
       "<Figure size 864x576 with 1 Axes>"
      ]
     },
     "metadata": {
      "needs_background": "light"
     },
     "output_type": "display_data"
    }
   ],
   "source": [
    "# Gráfica de E[r] contra beta\n",
    "plt.figure(figsize=(12,8))\n",
    "plt.plot(beta_T, ret_m['TSLA'], 'or', ms=10, label='TSLA')\n",
    "plt.plot(beta_F, ret_m['F'], 'ob', ms=10, label='F')\n",
    "plt.plot(beta_N, ret_m['NFLX'], 'oy', ms=10, label='NFLX')\n",
    "plt.plot(beta_FB, ret_m['FB'],'og', ms=10, label='FB')\n",
    "plt.plot(beta_PG, ret_m['PG'],'o', ms=10, label='PG')\n",
    "plt.plot(1, ret_m['^GSPC'],'oc', ms=10, label='^GSPC')\n",
    "plt.xlabel('Beta $B$')\n",
    "plt.ylabel('Rendimiento esperado $E[r]$')\n",
    "plt.grid()\n",
    "plt.legend(loc='best')"
   ]
  },
  {
   "cell_type": "code",
   "execution_count": 45,
   "metadata": {},
   "outputs": [
    {
     "data": {
      "text/html": [
       "<div>\n",
       "<style scoped>\n",
       "    .dataframe tbody tr th:only-of-type {\n",
       "        vertical-align: middle;\n",
       "    }\n",
       "\n",
       "    .dataframe tbody tr th {\n",
       "        vertical-align: top;\n",
       "    }\n",
       "\n",
       "    .dataframe thead th {\n",
       "        text-align: right;\n",
       "    }\n",
       "</style>\n",
       "<table border=\"1\" class=\"dataframe\">\n",
       "  <thead>\n",
       "    <tr style=\"text-align: right;\">\n",
       "      <th></th>\n",
       "      <th>Mean</th>\n",
       "      <th>Vol</th>\n",
       "    </tr>\n",
       "    <tr>\n",
       "      <th>Symbols</th>\n",
       "      <th></th>\n",
       "      <th></th>\n",
       "    </tr>\n",
       "  </thead>\n",
       "  <tbody>\n",
       "    <tr>\n",
       "      <th>TSLA</th>\n",
       "      <td>0.036599</td>\n",
       "      <td>0.157225</td>\n",
       "    </tr>\n",
       "    <tr>\n",
       "      <th>F</th>\n",
       "      <td>-0.007254</td>\n",
       "      <td>0.079958</td>\n",
       "    </tr>\n",
       "    <tr>\n",
       "      <th>NFLX</th>\n",
       "      <td>0.029575</td>\n",
       "      <td>0.108435</td>\n",
       "    </tr>\n",
       "    <tr>\n",
       "      <th>FB</th>\n",
       "      <td>0.018106</td>\n",
       "      <td>0.077705</td>\n",
       "    </tr>\n",
       "    <tr>\n",
       "      <th>PG</th>\n",
       "      <td>0.011061</td>\n",
       "      <td>0.041219</td>\n",
       "    </tr>\n",
       "    <tr>\n",
       "      <th>^GSPC</th>\n",
       "      <td>0.007547</td>\n",
       "      <td>0.042645</td>\n",
       "    </tr>\n",
       "  </tbody>\n",
       "</table>\n",
       "</div>"
      ],
      "text/plain": [
       "             Mean       Vol\n",
       "Symbols                    \n",
       "TSLA     0.036599  0.157225\n",
       "F       -0.007254  0.079958\n",
       "NFLX     0.029575  0.108435\n",
       "FB       0.018106  0.077705\n",
       "PG       0.011061  0.041219\n",
       "^GSPC    0.007547  0.042645"
      ]
     },
     "execution_count": 45,
     "metadata": {},
     "output_type": "execute_result"
    }
   ],
   "source": [
    "# Media y Volatilidad\n",
    "ret_summary = pd.DataFrame(data={'Mean':ret.mean(),'Vol':ret.std()}, index=ret.columns)\n",
    "ret_summary"
   ]
  },
  {
   "cell_type": "code",
   "execution_count": 47,
   "metadata": {},
   "outputs": [],
   "source": [
    "def objetivo(beta, vol, mean_ret):\n",
    "    recta=beta[0]+ beta[1]*vol\n",
    "    return ((mean_ret-recta)**2).sum()\n",
    "beta0=[0,1]"
   ]
  },
  {
   "cell_type": "code",
   "execution_count": 48,
   "metadata": {},
   "outputs": [
    {
     "data": {
      "text/plain": [
       "      fun: 0.0011642765400299612\n",
       " hess_inv: array([[ 1.05005601, -0.94635025],\n",
       "       [-0.94635025,  0.94260248]])\n",
       "      jac: array([1.51558197e-07, 1.23545760e-08])\n",
       "  message: 'Optimization terminated successfully.'\n",
       "     nfev: 28\n",
       "      nit: 6\n",
       "     njev: 7\n",
       "   status: 0\n",
       "  success: True\n",
       "        x: array([0.01635001, 0.00126152])"
      ]
     },
     "execution_count": 48,
     "metadata": {},
     "output_type": "execute_result"
    }
   ],
   "source": [
    "beta_ini=[0,0]\n",
    "solucion=minimize(fun=objetivo, x0=beta0, args=(tabla['Beta estimada'],ret_summary['Mean']))\n",
    "solucion"
   ]
  },
  {
   "cell_type": "code",
   "execution_count": 49,
   "metadata": {},
   "outputs": [
    {
     "data": {
      "text/plain": [
       "      fun: 0.0011642765400299612\n",
       " hess_inv: array([[ 1.05005601, -0.94635025],\n",
       "       [-0.94635025,  0.94260248]])\n",
       "      jac: array([1.51558197e-07, 1.23545760e-08])\n",
       "  message: 'Optimization terminated successfully.'\n",
       "     nfev: 28\n",
       "      nit: 6\n",
       "     njev: 7\n",
       "   status: 0\n",
       "  success: True\n",
       "        x: array([0.01635001, 0.00126152])"
      ]
     },
     "execution_count": 49,
     "metadata": {},
     "output_type": "execute_result"
    }
   ],
   "source": [
    "beta_ini=[0,0]\n",
    "solucion=minimize(fun=objetivo, x0=beta0, args=(tabla['Beta estimada'],ret_summary['Mean']))\n",
    "solucion"
   ]
  },
  {
   "cell_type": "code",
   "execution_count": 50,
   "metadata": {},
   "outputs": [
    {
     "data": {
      "text/plain": [
       "array([0.01635001, 0.00126152])"
      ]
     },
     "execution_count": 50,
     "metadata": {},
     "output_type": "execute_result"
    }
   ],
   "source": [
    "beta=solucion.x\n",
    "beta"
   ]
  },
  {
   "cell_type": "code",
   "execution_count": 59,
   "metadata": {},
   "outputs": [
    {
     "name": "stdout",
     "output_type": "stream",
     "text": [
      "0.016350011815861046 + 0.001261518387764979 x\n"
     ]
    }
   ],
   "source": [
    "# Ecuación\n",
    "print(beta[0], '+' ,beta[1],'x')"
   ]
  },
  {
   "cell_type": "code",
   "execution_count": 51,
   "metadata": {},
   "outputs": [
    {
     "data": {
      "text/plain": [
       "[<matplotlib.lines.Line2D at 0x1c1dfcd5508>]"
      ]
     },
     "execution_count": 51,
     "metadata": {},
     "output_type": "execute_result"
    },
    {
     "data": {
      "image/png": "[encoded data removed]",
      "text/plain": [
       "<Figure size 864x576 with 1 Axes>"
      ]
     },
     "metadata": {
      "needs_background": "light"
     },
     "output_type": "display_data"
    }
   ],
   "source": [
    "# Gráfica de E[r] contra beta\n",
    "plt.figure(figsize=(12,8))\n",
    "plt.plot(beta_T, ret_m['TSLA'], 'or', ms=10, label='TSLA')\n",
    "plt.plot(beta_F, ret_m['F'], 'ob', ms=10, label='F')\n",
    "plt.plot(beta_N, ret_m['NFLX'], 'oy', ms=10, label='NFLX')\n",
    "plt.plot(beta_FB, ret_m['FB'],'og', ms=10, label='FB')\n",
    "plt.plot(beta_PG, ret_m['PG'],'o', ms=10, label='PG')\n",
    "plt.plot(1, ret_m['^GSPC'],'oc', ms=10, label='^GSPC')\n",
    "plt.xlabel('Beta $B$')\n",
    "plt.ylabel('Rendimiento esperado $E[r]$')\n",
    "plt.grid()\n",
    "plt.legend(loc='best')\n",
    "# Recta ajustada\n",
    "x_points = tabla['Beta estimada']\n",
    "y_points = ret_summary['Mean']\n",
    "plt.plot(x_points, beta[0] + beta[1]*x_points,'r', lw=3, label='Recta ajustada')"
   ]
  },
  {
   "cell_type": "code",
   "execution_count": 54,
   "metadata": {},
   "outputs": [
    {
     "data": {
      "text/plain": [
       "0.017611530203626026"
      ]
     },
     "execution_count": 54,
     "metadata": {},
     "output_type": "execute_result"
    }
   ],
   "source": [
    "# Rendimiento esperado del portafolio del mercado\n",
    "Erm= beta[0]+beta[1]\n",
    "Erm"
   ]
  },
  {
   "cell_type": "code",
   "execution_count": 55,
   "metadata": {},
   "outputs": [
    {
     "data": {
      "text/plain": [
       "0.007547211496699498"
      ]
     },
     "execution_count": 55,
     "metadata": {},
     "output_type": "execute_result"
    }
   ],
   "source": [
    "# Rendimiento esperado del portafolio del S&P500\n",
    "Ersp = ret_m.loc['^GSPC']\n",
    "Ersp"
   ]
  },
  {
   "cell_type": "code",
   "execution_count": 58,
   "metadata": {},
   "outputs": [
    {
     "data": {
      "text/plain": [
       "(0.010064318706926527, 233.3514863248207)"
      ]
     },
     "execution_count": 58,
     "metadata": {},
     "output_type": "execute_result"
    }
   ],
   "source": [
    "ER = Erm - Ersp\n",
    "Erper = Erm / Ersp *100\n",
    "ER, Erper"
   ]
  },
  {
   "cell_type": "markdown",
   "metadata": {},
   "source": [
    "### Conclusiones\n",
    "\n",
    "El rendimiento esperado del portafolio del mercado es de 0.017611, mientras que el del S&P se queda en 0.007547. Esto nos da una diferencia de 0.010064 a favor del portafolio del mercado, llevandose con creces el rendimiento del S&P. Nos da como conclusión que **invertir en el protafolio de mercado es mucho más conveniente**, pues **su rendimiento más que duplica al de S&P, siendo 233.3514% de su total.** "
   ]
  },
  {
   "cell_type": "markdown",
   "metadata": {},
   "source": [
    "<script>\n",
    "  $(document).ready(function(){\n",
    "    $('div.prompt').hide();\n",
    "    $('div.back-to-top').hide();\n",
    "    $('nav#menubar').hide();\n",
    "    $('.breadcrumb').hide();\n",
    "    $('.hidden-print').hide();\n",
    "  });\n",
    "</script>\n",
    "\n",
    "<footer id=\"attribution\" style=\"float:right; color:#808080; background:#fff;\">\n",
    "Created with Jupyter by Esteban Jiménez Rodríguez.\n",
    "</footer>"
   ]
  }
 ],
 "metadata": {
  "kernelspec": {
   "display_name": "Python 3",
   "language": "python",
   "name": "python3"
  },
  "language_info": {
   "codemirror_mode": {
    "name": "ipython",
    "version": 3
   },
   "file_extension": ".py",
   "mimetype": "text/x-python",
   "name": "python",
   "nbconvert_exporter": "python",
   "pygments_lexer": "ipython3",
   "version": "3.7.6"
  }
 },
 "nbformat": 4,
 "nbformat_minor": 2
}
