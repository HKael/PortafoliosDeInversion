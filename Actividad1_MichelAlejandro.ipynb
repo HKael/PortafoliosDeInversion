{
 "cells": [
  {
   "cell_type": "markdown",
   "metadata": {},
   "source": [
    "# Actividad 1. Selección de portafolios utilizando simulación Montecarlo.\n",
    "\n",
    "<img style=\"float: right; margin: 0px 0px 15px 15px;\" src=\"https://upload.wikimedia.org/wikipedia/en/f/f3/SML-chart.png\" width=\"400px\" height=\"400px\" />\n",
    "\n",
    "**Resumen.**\n",
    "> En esta actividad, tendrás la oportunidad de aplicar los conceptos y las herramientas que aprendimos en la clase anterior. Específicamente, utilizarás técnicas de simulación montecarlo para construir la frontera de mínima varianza, encontrar el mejor portafolio sobre la frontera mínima varianza, y finalmente, identificar la asignación óptima de capital para un inversionista dado su nivel de averisón al riesgo.\n",
    "\n",
    "**Criterio de revisión.**\n",
    "> Se te calificará de acuerdo a los resultados finales que reportes, basados en tu análisis.\n",
    "\n",
    "**Antes de comenzar.**\n",
    "> Por favor, copiar y pegar este archivo en otra ubicación. Antes de comenzar, nombrarlo *Actividad1_ApellidoNombre*, sin acentos y sin espacios; por ejemplo, en mi caso el archivo se llamaría *Actividad1_JimenezEsteban*. Resolver todos los puntos en dicho archivo y subir en este espacio."
   ]
  },
  {
   "cell_type": "markdown",
   "metadata": {},
   "source": [
    "## 1. Datos (10 puntos)\n",
    "\n",
    "Considere los siguientes datos de bonos, índice de acciones, mercados desarrollados, mercados emergentes, fondos privados, activos reales y activos libres de riesgo:"
   ]
  },
  {
   "cell_type": "code",
   "execution_count": 3,
   "metadata": {},
   "outputs": [],
   "source": [
    "# Importamos pandas y numpy\n",
    "import pandas as pd\n",
    "import numpy as np"
   ]
  },
  {
   "cell_type": "code",
   "execution_count": 4,
   "metadata": {},
   "outputs": [
    {
     "data": {
      "text/html": [
       "<div>\n",
       "<style scoped>\n",
       "    .dataframe tbody tr th:only-of-type {\n",
       "        vertical-align: middle;\n",
       "    }\n",
       "\n",
       "    .dataframe tbody tr th {\n",
       "        vertical-align: top;\n",
       "    }\n",
       "\n",
       "    .dataframe thead th {\n",
       "        text-align: right;\n",
       "    }\n",
       "</style>\n",
       "<table border=\"1\" class=\"dataframe\">\n",
       "  <thead>\n",
       "    <tr style=\"text-align: right;\">\n",
       "      <th></th>\n",
       "      <th>Bonos</th>\n",
       "      <th>Acciones</th>\n",
       "      <th>Desarrollado</th>\n",
       "      <th>Emergente</th>\n",
       "      <th>Privados</th>\n",
       "      <th>Real</th>\n",
       "      <th>Libre_riesgo</th>\n",
       "    </tr>\n",
       "  </thead>\n",
       "  <tbody>\n",
       "    <tr>\n",
       "      <th>Media</th>\n",
       "      <td>0.04</td>\n",
       "      <td>0.106</td>\n",
       "      <td>0.083</td>\n",
       "      <td>0.119</td>\n",
       "      <td>0.128</td>\n",
       "      <td>0.062</td>\n",
       "      <td>0.03</td>\n",
       "    </tr>\n",
       "    <tr>\n",
       "      <th>Volatilidad</th>\n",
       "      <td>0.068</td>\n",
       "      <td>0.224</td>\n",
       "      <td>0.221</td>\n",
       "      <td>0.3</td>\n",
       "      <td>0.231</td>\n",
       "      <td>0.068</td>\n",
       "      <td>None</td>\n",
       "    </tr>\n",
       "  </tbody>\n",
       "</table>\n",
       "</div>"
      ],
      "text/plain": [
       "             Bonos Acciones Desarrollado Emergente Privados   Real  \\\n",
       "Media         0.04    0.106        0.083     0.119    0.128  0.062   \n",
       "Volatilidad  0.068    0.224        0.221       0.3    0.231  0.068   \n",
       "\n",
       "            Libre_riesgo  \n",
       "Media               0.03  \n",
       "Volatilidad         None  "
      ]
     },
     "execution_count": 4,
     "metadata": {},
     "output_type": "execute_result"
    }
   ],
   "source": [
    "# Resumen en base anual de rendimientos esperados y volatilidades\n",
    "annual_ret_summ = pd.DataFrame(columns=['Bonos', 'Acciones', 'Desarrollado', 'Emergente', 'Privados', 'Real', 'Libre_riesgo'], index=['Media', 'Volatilidad'])\n",
    "annual_ret_summ.loc['Media'] = np.array([0.0400, 0.1060, 0.0830, 0.1190, 0.1280, 0.0620, 0.0300])\n",
    "annual_ret_summ.loc['Volatilidad'] = np.array([0.0680, 0.2240, 0.2210, 0.3000, 0.2310, 0.0680, None])\n",
    "\n",
    "annual_ret_summ.round(4)"
   ]
  },
  {
   "cell_type": "code",
   "execution_count": 5,
   "metadata": {},
   "outputs": [
    {
     "data": {
      "text/html": [
       "<div>\n",
       "<style scoped>\n",
       "    .dataframe tbody tr th:only-of-type {\n",
       "        vertical-align: middle;\n",
       "    }\n",
       "\n",
       "    .dataframe tbody tr th {\n",
       "        vertical-align: top;\n",
       "    }\n",
       "\n",
       "    .dataframe thead th {\n",
       "        text-align: right;\n",
       "    }\n",
       "</style>\n",
       "<table border=\"1\" class=\"dataframe\">\n",
       "  <thead>\n",
       "    <tr style=\"text-align: right;\">\n",
       "      <th></th>\n",
       "      <th>Bonos</th>\n",
       "      <th>Acciones</th>\n",
       "      <th>Desarrollado</th>\n",
       "      <th>Emergente</th>\n",
       "      <th>Privados</th>\n",
       "      <th>Real</th>\n",
       "    </tr>\n",
       "  </thead>\n",
       "  <tbody>\n",
       "    <tr>\n",
       "      <th>Bonos</th>\n",
       "      <td>1.00</td>\n",
       "      <td>0.4</td>\n",
       "      <td>0.25</td>\n",
       "      <td>0.20</td>\n",
       "      <td>0.15</td>\n",
       "      <td>0.20</td>\n",
       "    </tr>\n",
       "    <tr>\n",
       "      <th>Acciones</th>\n",
       "      <td>0.40</td>\n",
       "      <td>1.0</td>\n",
       "      <td>0.70</td>\n",
       "      <td>0.60</td>\n",
       "      <td>0.70</td>\n",
       "      <td>0.20</td>\n",
       "    </tr>\n",
       "    <tr>\n",
       "      <th>Desarrollado</th>\n",
       "      <td>0.25</td>\n",
       "      <td>0.7</td>\n",
       "      <td>1.00</td>\n",
       "      <td>0.75</td>\n",
       "      <td>0.60</td>\n",
       "      <td>0.10</td>\n",
       "    </tr>\n",
       "    <tr>\n",
       "      <th>Emergente</th>\n",
       "      <td>0.20</td>\n",
       "      <td>0.6</td>\n",
       "      <td>0.75</td>\n",
       "      <td>1.00</td>\n",
       "      <td>0.25</td>\n",
       "      <td>0.15</td>\n",
       "    </tr>\n",
       "    <tr>\n",
       "      <th>Privados</th>\n",
       "      <td>0.15</td>\n",
       "      <td>0.7</td>\n",
       "      <td>0.60</td>\n",
       "      <td>0.25</td>\n",
       "      <td>1.00</td>\n",
       "      <td>0.30</td>\n",
       "    </tr>\n",
       "    <tr>\n",
       "      <th>Real</th>\n",
       "      <td>0.20</td>\n",
       "      <td>0.2</td>\n",
       "      <td>0.10</td>\n",
       "      <td>0.15</td>\n",
       "      <td>0.30</td>\n",
       "      <td>1.00</td>\n",
       "    </tr>\n",
       "  </tbody>\n",
       "</table>\n",
       "</div>"
      ],
      "text/plain": [
       "              Bonos  Acciones  Desarrollado  Emergente  Privados  Real\n",
       "Bonos          1.00       0.4          0.25       0.20      0.15  0.20\n",
       "Acciones       0.40       1.0          0.70       0.60      0.70  0.20\n",
       "Desarrollado   0.25       0.7          1.00       0.75      0.60  0.10\n",
       "Emergente      0.20       0.6          0.75       1.00      0.25  0.15\n",
       "Privados       0.15       0.7          0.60       0.25      1.00  0.30\n",
       "Real           0.20       0.2          0.10       0.15      0.30  1.00"
      ]
     },
     "execution_count": 5,
     "metadata": {},
     "output_type": "execute_result"
    }
   ],
   "source": [
    "# Matriz de correlación\n",
    "corr = pd.DataFrame(data= np.array([[1.0000, 0.4000, 0.2500, 0.2000, 0.1500, 0.2000],\n",
    "                                    [0.4000, 1.0000, 0.7000, 0.6000, 0.7000, 0.2000],\n",
    "                                    [0.2500, 0.7000, 1.0000, 0.7500, 0.6000, 0.1000],\n",
    "                                    [0.2000, 0.6000, 0.7500, 1.0000, 0.2500, 0.1500],\n",
    "                                    [0.1500, 0.7000, 0.6000, 0.2500, 1.0000, 0.3000],\n",
    "                                    [0.2000, 0.2000, 0.1000, 0.1500, 0.3000, 1.0000]]),\n",
    "                    columns=annual_ret_summ.columns[:-1], index=annual_ret_summ.columns[:-1])\n",
    "corr.round(4)"
   ]
  },
  {
   "cell_type": "markdown",
   "metadata": {},
   "source": [
    "1. Graficar en el espacio de rendimiento esperado contra volatilidad cada uno de los activos (10 puntos)."
   ]
  },
  {
   "cell_type": "code",
   "execution_count": 6,
   "metadata": {},
   "outputs": [],
   "source": [
    "# Importar librerías de gráficos\n",
    "from matplotlib import pyplot as plt\n",
    "%matplotlib inline"
   ]
  },
  {
   "cell_type": "code",
   "execution_count": 7,
   "metadata": {},
   "outputs": [
    {
     "data": {
      "text/html": [
       "<div>\n",
       "<style scoped>\n",
       "    .dataframe tbody tr th:only-of-type {\n",
       "        vertical-align: middle;\n",
       "    }\n",
       "\n",
       "    .dataframe tbody tr th {\n",
       "        vertical-align: top;\n",
       "    }\n",
       "\n",
       "    .dataframe thead th {\n",
       "        text-align: right;\n",
       "    }\n",
       "</style>\n",
       "<table border=\"1\" class=\"dataframe\">\n",
       "  <thead>\n",
       "    <tr style=\"text-align: right;\">\n",
       "      <th></th>\n",
       "      <th>Media</th>\n",
       "      <th>Volatilidad</th>\n",
       "    </tr>\n",
       "  </thead>\n",
       "  <tbody>\n",
       "    <tr>\n",
       "      <th>Bonos</th>\n",
       "      <td>0.04</td>\n",
       "      <td>0.068</td>\n",
       "    </tr>\n",
       "    <tr>\n",
       "      <th>Acciones</th>\n",
       "      <td>0.106</td>\n",
       "      <td>0.224</td>\n",
       "    </tr>\n",
       "    <tr>\n",
       "      <th>Desarrollado</th>\n",
       "      <td>0.083</td>\n",
       "      <td>0.221</td>\n",
       "    </tr>\n",
       "    <tr>\n",
       "      <th>Emergente</th>\n",
       "      <td>0.119</td>\n",
       "      <td>0.3</td>\n",
       "    </tr>\n",
       "    <tr>\n",
       "      <th>Privados</th>\n",
       "      <td>0.128</td>\n",
       "      <td>0.231</td>\n",
       "    </tr>\n",
       "    <tr>\n",
       "      <th>Real</th>\n",
       "      <td>0.062</td>\n",
       "      <td>0.068</td>\n",
       "    </tr>\n",
       "    <tr>\n",
       "      <th>Libre_riesgo</th>\n",
       "      <td>0.03</td>\n",
       "      <td>None</td>\n",
       "    </tr>\n",
       "  </tbody>\n",
       "</table>\n",
       "</div>"
      ],
      "text/plain": [
       "              Media Volatilidad\n",
       "Bonos          0.04       0.068\n",
       "Acciones      0.106       0.224\n",
       "Desarrollado  0.083       0.221\n",
       "Emergente     0.119         0.3\n",
       "Privados      0.128       0.231\n",
       "Real          0.062       0.068\n",
       "Libre_riesgo   0.03        None"
      ]
     },
     "execution_count": 7,
     "metadata": {},
     "output_type": "execute_result"
    }
   ],
   "source": [
    "annual_ret_summ.T"
   ]
  },
  {
   "cell_type": "code",
   "execution_count": 9,
   "metadata": {},
   "outputs": [
    {
     "data": {
      "image/png": "[encoded data removed]",
      "text/plain": [
       "<Figure size 720x432 with 1 Axes>"
      ]
     },
     "metadata": {
      "needs_background": "light"
     },
     "output_type": "display_data"
    }
   ],
   "source": [
    "x_points=annual_ret_summ.T.loc[:,'Volatilidad']\n",
    "y_points=annual_ret_summ.T.loc[:,'Media']\n",
    "# Ventana para graficar\n",
    "plt.figure(figsize=(10,6))\n",
    "# Graficar puntos\n",
    "plt.plot(x_points,y_points,'ob',ms=10)\n",
    "plt.grid()\n",
    "# Etiquetas de los ejes\n",
    "plt.xlabel('Volatilidad ($\\sigma$)')\n",
    "plt.ylabel('Rendimiento esperado ($E[r]$)')\n",
    "# Etiqueta de cada instrumento\n",
    "for i in range (0,6):\n",
    "    plt.text(x_points[i], y_points[i],annual_ret_summ.T.index[i]) "
   ]
  },
  {
   "cell_type": "markdown",
   "metadata": {},
   "source": [
    "## 2. Hallando portafolios sobre la frontera de mínima varianza (35 puntos)\n",
    "\n",
    "Usando los datos del punto anterior, y los conceptos aprendidos acerca de selección de portafolios con simulación montecarlo (**simular, por lo menos, 1.000.000 portafolios**), aproxime:\n",
    "\n",
    "1. Los pesos del portafolio de mínima varianza considerando todos los activos riesgosos. También reportar claramente el rendimiento esperado, volatilidad y cociente de Sharpe para dicho portafolio (10 puntos).\n",
    " - Compare los resultados obtenidos con los que obtuvo en la Tarea 6 (5 puntos).\n",
    "3. Los pesos del portafolio EMV considerando todos los activos riesgosos. También reportar claramente el rendimiento esperado, volatilidad y cociente de Sharpe para dicho portafolio (10 puntos).\n",
    " - Compare los resultados obtenidos con los que obtuvo en la Tarea 6 (5 puntos).\n",
    "3. Halle la covarianza y la correlación entre los dos portafolios aproximados (5 puntos)."
   ]
  },
  {
   "cell_type": "code",
   "execution_count": 13,
   "metadata": {},
   "outputs": [
    {
     "data": {
      "text/plain": [
       "(1000000, 6)"
      ]
     },
     "execution_count": 13,
     "metadata": {},
     "output_type": "execute_result"
    }
   ],
   "source": [
    "# Definimos el número de portafolios que simularemos, y la cantidad de activos que tenemos\n",
    "n_act = len(annual_ret_summ.T)\n",
    "n_port = 10**6\n",
    "# Generar una matriz de pesos de n_port x n_act, tal que cada fila sume uno (recordar restricción)\n",
    "W = np.random.dirichlet(np.array([1, 1, 1, 1, 1, 1]), n_port)\n",
    "W.shape"
   ]
  },
  {
   "cell_type": "code",
   "execution_count": 14,
   "metadata": {},
   "outputs": [
    {
     "data": {
      "text/html": [
       "<div>\n",
       "<style scoped>\n",
       "    .dataframe tbody tr th:only-of-type {\n",
       "        vertical-align: middle;\n",
       "    }\n",
       "\n",
       "    .dataframe tbody tr th {\n",
       "        vertical-align: top;\n",
       "    }\n",
       "\n",
       "    .dataframe thead th {\n",
       "        text-align: right;\n",
       "    }\n",
       "</style>\n",
       "<table border=\"1\" class=\"dataframe\">\n",
       "  <thead>\n",
       "    <tr style=\"text-align: right;\">\n",
       "      <th></th>\n",
       "      <th>Media</th>\n",
       "      <th>Volatilidad</th>\n",
       "    </tr>\n",
       "  </thead>\n",
       "  <tbody>\n",
       "    <tr>\n",
       "      <th>Bonos</th>\n",
       "      <td>0.04</td>\n",
       "      <td>0.068</td>\n",
       "    </tr>\n",
       "    <tr>\n",
       "      <th>Acciones</th>\n",
       "      <td>0.106</td>\n",
       "      <td>0.224</td>\n",
       "    </tr>\n",
       "    <tr>\n",
       "      <th>Desarrollado</th>\n",
       "      <td>0.083</td>\n",
       "      <td>0.221</td>\n",
       "    </tr>\n",
       "    <tr>\n",
       "      <th>Emergente</th>\n",
       "      <td>0.119</td>\n",
       "      <td>0.3</td>\n",
       "    </tr>\n",
       "    <tr>\n",
       "      <th>Privados</th>\n",
       "      <td>0.128</td>\n",
       "      <td>0.231</td>\n",
       "    </tr>\n",
       "    <tr>\n",
       "      <th>Real</th>\n",
       "      <td>0.062</td>\n",
       "      <td>0.068</td>\n",
       "    </tr>\n",
       "  </tbody>\n",
       "</table>\n",
       "</div>"
      ],
      "text/plain": [
       "              Media Volatilidad\n",
       "Bonos          0.04       0.068\n",
       "Acciones      0.106       0.224\n",
       "Desarrollado  0.083       0.221\n",
       "Emergente     0.119         0.3\n",
       "Privados      0.128       0.231\n",
       "Real          0.062       0.068"
      ]
     },
     "execution_count": 14,
     "metadata": {},
     "output_type": "execute_result"
    }
   ],
   "source": [
    "annual_ret_sum=annual_ret_summ.drop(['Libre_riesgo'],axis=1).T\n",
    "annual_ret_sum"
   ]
  },
  {
   "cell_type": "code",
   "execution_count": 15,
   "metadata": {},
   "outputs": [
    {
     "data": {
      "text/plain": [
       "(1000000,)"
      ]
     },
     "execution_count": 15,
     "metadata": {},
     "output_type": "execute_result"
    }
   ],
   "source": [
    "# Rendimientos y volatilidad de cada portafolios\n",
    "Ep = annual_ret_sum['Media'].values.T.dot(W.T)\n",
    "Ep.shape"
   ]
  },
  {
   "cell_type": "code",
   "execution_count": 16,
   "metadata": {},
   "outputs": [
    {
     "data": {
      "text/html": [
       "<div>\n",
       "<style scoped>\n",
       "    .dataframe tbody tr th:only-of-type {\n",
       "        vertical-align: middle;\n",
       "    }\n",
       "\n",
       "    .dataframe tbody tr th {\n",
       "        vertical-align: top;\n",
       "    }\n",
       "\n",
       "    .dataframe thead th {\n",
       "        text-align: right;\n",
       "    }\n",
       "</style>\n",
       "<table border=\"1\" class=\"dataframe\">\n",
       "  <thead>\n",
       "    <tr style=\"text-align: right;\">\n",
       "      <th></th>\n",
       "      <th>Bonos</th>\n",
       "      <th>Acciones</th>\n",
       "      <th>Desarrollado</th>\n",
       "      <th>Emergente</th>\n",
       "      <th>Privados</th>\n",
       "      <th>Real</th>\n",
       "    </tr>\n",
       "  </thead>\n",
       "  <tbody>\n",
       "    <tr>\n",
       "      <th>Media</th>\n",
       "      <td>0.04</td>\n",
       "      <td>0.106</td>\n",
       "      <td>0.083</td>\n",
       "      <td>0.119</td>\n",
       "      <td>0.128</td>\n",
       "      <td>0.062</td>\n",
       "    </tr>\n",
       "    <tr>\n",
       "      <th>Volatilidad</th>\n",
       "      <td>0.068</td>\n",
       "      <td>0.224</td>\n",
       "      <td>0.221</td>\n",
       "      <td>0.3</td>\n",
       "      <td>0.231</td>\n",
       "      <td>0.068</td>\n",
       "    </tr>\n",
       "  </tbody>\n",
       "</table>\n",
       "</div>"
      ],
      "text/plain": [
       "             Bonos Acciones Desarrollado Emergente Privados   Real\n",
       "Media         0.04    0.106        0.083     0.119    0.128  0.062\n",
       "Volatilidad  0.068    0.224        0.221       0.3    0.231  0.068"
      ]
     },
     "execution_count": 16,
     "metadata": {},
     "output_type": "execute_result"
    }
   ],
   "source": [
    "annual_ret_sum=annual_ret_sum.T\n",
    "annual_ret_sum"
   ]
  },
  {
   "cell_type": "code",
   "execution_count": 17,
   "metadata": {},
   "outputs": [],
   "source": [
    "#Matriz de covarianzas \n",
    "S=np.diag(annual_ret_sum.loc['Volatilidad', :].values)\n",
    "Sigma = S.dot(corr).dot(S)\n"
   ]
  },
  {
   "cell_type": "code",
   "execution_count": 18,
   "metadata": {},
   "outputs": [],
   "source": [
    "vol = np.zeros((n_port,))\n",
    "for i in range(n_port):\n",
    "    vol[i] = (W[i, : ].T.dot(Sigma).dot(W[i, :]))**0.5"
   ]
  },
  {
   "cell_type": "code",
   "execution_count": 19,
   "metadata": {},
   "outputs": [
    {
     "data": {
      "text/plain": [
       "(1000000,)"
      ]
     },
     "execution_count": 19,
     "metadata": {},
     "output_type": "execute_result"
    }
   ],
   "source": [
    "vol.shape"
   ]
  },
  {
   "cell_type": "code",
   "execution_count": 52,
   "metadata": {},
   "outputs": [],
   "source": [
    "rf = 0.03"
   ]
  },
  {
   "cell_type": "code",
   "execution_count": 53,
   "metadata": {},
   "outputs": [],
   "source": [
    "# Radio de Sharpe\n",
    "Rs = (Ep - rf) / vol"
   ]
  },
  {
   "cell_type": "code",
   "execution_count": 51,
   "metadata": {},
   "outputs": [
    {
     "data": {
      "text/html": [
       "<div>\n",
       "<style scoped>\n",
       "    .dataframe tbody tr th:only-of-type {\n",
       "        vertical-align: middle;\n",
       "    }\n",
       "\n",
       "    .dataframe tbody tr th {\n",
       "        vertical-align: top;\n",
       "    }\n",
       "\n",
       "    .dataframe thead th {\n",
       "        text-align: right;\n",
       "    }\n",
       "</style>\n",
       "<table border=\"1\" class=\"dataframe\">\n",
       "  <thead>\n",
       "    <tr style=\"text-align: right;\">\n",
       "      <th></th>\n",
       "      <th>w1</th>\n",
       "      <th>w2</th>\n",
       "      <th>w3</th>\n",
       "      <th>w4</th>\n",
       "      <th>w5</th>\n",
       "      <th>w6</th>\n",
       "      <th>Media</th>\n",
       "      <th>Vol</th>\n",
       "      <th>Rs</th>\n",
       "    </tr>\n",
       "  </thead>\n",
       "  <tbody>\n",
       "    <tr>\n",
       "      <th>0</th>\n",
       "      <td>0.030351</td>\n",
       "      <td>0.061818</td>\n",
       "      <td>0.150820</td>\n",
       "      <td>0.311905</td>\n",
       "      <td>0.436666</td>\n",
       "      <td>0.008439</td>\n",
       "      <td>0.113818</td>\n",
       "      <td>0.195145</td>\n",
       "      <td>0.429517</td>\n",
       "    </tr>\n",
       "    <tr>\n",
       "      <th>1</th>\n",
       "      <td>0.377210</td>\n",
       "      <td>0.126002</td>\n",
       "      <td>0.109648</td>\n",
       "      <td>0.130704</td>\n",
       "      <td>0.012775</td>\n",
       "      <td>0.243662</td>\n",
       "      <td>0.0698413</td>\n",
       "      <td>0.099046</td>\n",
       "      <td>0.40225</td>\n",
       "    </tr>\n",
       "    <tr>\n",
       "      <th>2</th>\n",
       "      <td>0.164117</td>\n",
       "      <td>0.091251</td>\n",
       "      <td>0.003224</td>\n",
       "      <td>0.335260</td>\n",
       "      <td>0.319224</td>\n",
       "      <td>0.086924</td>\n",
       "      <td>0.102651</td>\n",
       "      <td>0.161263</td>\n",
       "      <td>0.450512</td>\n",
       "    </tr>\n",
       "    <tr>\n",
       "      <th>3</th>\n",
       "      <td>0.215993</td>\n",
       "      <td>0.162480</td>\n",
       "      <td>0.015338</td>\n",
       "      <td>0.060212</td>\n",
       "      <td>0.028519</td>\n",
       "      <td>0.517459</td>\n",
       "      <td>0.0700337</td>\n",
       "      <td>0.079344</td>\n",
       "      <td>0.50456</td>\n",
       "    </tr>\n",
       "    <tr>\n",
       "      <th>4</th>\n",
       "      <td>0.162439</td>\n",
       "      <td>0.513835</td>\n",
       "      <td>0.085178</td>\n",
       "      <td>0.204940</td>\n",
       "      <td>0.003353</td>\n",
       "      <td>0.030255</td>\n",
       "      <td>0.0947267</td>\n",
       "      <td>0.180228</td>\n",
       "      <td>0.359138</td>\n",
       "    </tr>\n",
       "  </tbody>\n",
       "</table>\n",
       "</div>"
      ],
      "text/plain": [
       "         w1        w2        w3        w4        w5        w6      Media  \\\n",
       "0  0.030351  0.061818  0.150820  0.311905  0.436666  0.008439   0.113818   \n",
       "1  0.377210  0.126002  0.109648  0.130704  0.012775  0.243662  0.0698413   \n",
       "2  0.164117  0.091251  0.003224  0.335260  0.319224  0.086924   0.102651   \n",
       "3  0.215993  0.162480  0.015338  0.060212  0.028519  0.517459  0.0700337   \n",
       "4  0.162439  0.513835  0.085178  0.204940  0.003353  0.030255  0.0947267   \n",
       "\n",
       "        Vol        Rs  \n",
       "0  0.195145  0.429517  \n",
       "1  0.099046   0.40225  \n",
       "2  0.161263  0.450512  \n",
       "3  0.079344   0.50456  \n",
       "4  0.180228  0.359138  "
      ]
     },
     "execution_count": 51,
     "metadata": {},
     "output_type": "execute_result"
    }
   ],
   "source": [
    "# Data frame de resultados\n",
    "portafolios = pd.DataFrame({'w1': W[:, 0],\n",
    "                            'w2': W[:, 1],\n",
    "                            'w3': W[:, 2],\n",
    "                            'w4': W[:, 3],\n",
    "                            'w5': W[:, 4],\n",
    "                            'w6': W[:, 5],\n",
    "                            'Media': Ep,\n",
    "                            'Vol': vol,\n",
    "                            'Rs': Rs})\n",
    "portafolios.head()"
   ]
  },
  {
   "cell_type": "code",
   "execution_count": 38,
   "metadata": {},
   "outputs": [
    {
     "data": {
      "text/plain": [
       "w1         0.0605893\n",
       "w2        0.00639607\n",
       "w3       0.000811252\n",
       "w4         0.0636244\n",
       "w5          0.133794\n",
       "w6          0.734785\n",
       "Media      0.0734225\n",
       "Vol        0.0750815\n",
       "Rs          0.578339\n",
       "Name: 187754, dtype: object"
      ]
     },
     "execution_count": 38,
     "metadata": {},
     "output_type": "execute_result"
    }
   ],
   "source": [
    "# Portafolio EMV\n",
    "EMV = portafolios.loc[portafolios['Rs'].astype('float64').idxmax()]\n",
    "EMV"
   ]
  },
  {
   "cell_type": "code",
   "execution_count": 39,
   "metadata": {},
   "outputs": [
    {
     "data": {
      "text/plain": [
       "w1         0.469554\n",
       "w2       0.00325802\n",
       "w3        0.0240588\n",
       "w4       0.00273993\n",
       "w5        0.0232397\n",
       "w6         0.477149\n",
       "Media     0.0540084\n",
       "Vol       0.0540513\n",
       "Rs         0.444178\n",
       "Name: 148018, dtype: object"
      ]
     },
     "execution_count": 39,
     "metadata": {},
     "output_type": "execute_result"
    }
   ],
   "source": [
    "# Portafolio mínima varianza\n",
    "minvar = portafolios.loc[portafolios['Vol'].idxmin()]\n",
    "minvar"
   ]
  },
  {
   "cell_type": "code",
   "execution_count": 41,
   "metadata": {},
   "outputs": [
    {
     "data": {
      "text/html": [
       "<div>\n",
       "<style scoped>\n",
       "    .dataframe tbody tr th:only-of-type {\n",
       "        vertical-align: middle;\n",
       "    }\n",
       "\n",
       "    .dataframe tbody tr th {\n",
       "        vertical-align: top;\n",
       "    }\n",
       "\n",
       "    .dataframe thead th {\n",
       "        text-align: right;\n",
       "    }\n",
       "</style>\n",
       "<table border=\"1\" class=\"dataframe\">\n",
       "  <thead>\n",
       "    <tr style=\"text-align: right;\">\n",
       "      <th></th>\n",
       "      <th>EMV_Montecarlo %</th>\n",
       "      <th>Minvar_Montecarlo %</th>\n",
       "      <th>EMV T6 %</th>\n",
       "      <th>Minvar T6 %</th>\n",
       "    </tr>\n",
       "  </thead>\n",
       "  <tbody>\n",
       "    <tr>\n",
       "      <th>w1</th>\n",
       "      <td>6.05893</td>\n",
       "      <td>46.9554</td>\n",
       "      <td>0.0000</td>\n",
       "      <td>49.5147</td>\n",
       "    </tr>\n",
       "    <tr>\n",
       "      <th>w2</th>\n",
       "      <td>0.639607</td>\n",
       "      <td>0.325802</td>\n",
       "      <td>0.0000</td>\n",
       "      <td>0.0000</td>\n",
       "    </tr>\n",
       "    <tr>\n",
       "      <th>w3</th>\n",
       "      <td>0.0811252</td>\n",
       "      <td>2.40588</td>\n",
       "      <td>0.0000</td>\n",
       "      <td>0.0210</td>\n",
       "    </tr>\n",
       "    <tr>\n",
       "      <th>w4</th>\n",
       "      <td>6.36244</td>\n",
       "      <td>0.273993</td>\n",
       "      <td>8.1919</td>\n",
       "      <td>0.0000</td>\n",
       "    </tr>\n",
       "    <tr>\n",
       "      <th>w5</th>\n",
       "      <td>13.3794</td>\n",
       "      <td>2.32397</td>\n",
       "      <td>16.5859</td>\n",
       "      <td>0.0000</td>\n",
       "    </tr>\n",
       "    <tr>\n",
       "      <th>w6</th>\n",
       "      <td>73.4785</td>\n",
       "      <td>47.7149</td>\n",
       "      <td>75.2222</td>\n",
       "      <td>50.4644</td>\n",
       "    </tr>\n",
       "    <tr>\n",
       "      <th>Media</th>\n",
       "      <td>7.34225</td>\n",
       "      <td>5.40084</td>\n",
       "      <td>7.7616</td>\n",
       "      <td>5.1111</td>\n",
       "    </tr>\n",
       "    <tr>\n",
       "      <th>Vol</th>\n",
       "      <td>7.50815</td>\n",
       "      <td>5.40513</td>\n",
       "      <td>8.1927</td>\n",
       "      <td>5.2674</td>\n",
       "    </tr>\n",
       "    <tr>\n",
       "      <th>Rs</th>\n",
       "      <td>57.8339</td>\n",
       "      <td>44.4178</td>\n",
       "      <td>58.1199</td>\n",
       "      <td>40.0793</td>\n",
       "    </tr>\n",
       "  </tbody>\n",
       "</table>\n",
       "</div>"
      ],
      "text/plain": [
       "      EMV_Montecarlo % Minvar_Montecarlo %  EMV T6 %  Minvar T6 %\n",
       "w1             6.05893             46.9554    0.0000      49.5147\n",
       "w2            0.639607            0.325802    0.0000       0.0000\n",
       "w3           0.0811252             2.40588    0.0000       0.0210\n",
       "w4             6.36244            0.273993    8.1919       0.0000\n",
       "w5             13.3794             2.32397   16.5859       0.0000\n",
       "w6             73.4785             47.7149   75.2222      50.4644\n",
       "Media          7.34225             5.40084    7.7616       5.1111\n",
       "Vol            7.50815             5.40513    8.1927       5.2674\n",
       "Rs             57.8339             44.4178   58.1199      40.0793"
      ]
     },
     "execution_count": 41,
     "metadata": {},
     "output_type": "execute_result"
    }
   ],
   "source": [
    "#Reportar en un data frame \n",
    "comparation=pd.DataFrame({'EMV_Montecarlo %': EMV*100,\n",
    "                    'Minvar_Montecarlo %': minvar*100})\n",
    "comparation['EMV T6 %']=[1.3429e-15,1.01738e-14,1.23637e-14,8.19188,16.5859,75.2222,7.76161, 8.19274, 58.1199]\n",
    "comparation['Minvar T6 %']=[49.5147,0,0.0209837,4.33681e-17,0,50.4644,5.11112,5.26736,40.0793]\n",
    "comparation.round(4)"
   ]
  },
  {
   "cell_type": "code",
   "execution_count": 27,
   "metadata": {},
   "outputs": [
    {
     "data": {
      "text/plain": [
       "(0.0030236264921421783, 0.9382637279119078)"
      ]
     },
     "execution_count": 27,
     "metadata": {},
     "output_type": "execute_result"
    }
   ],
   "source": [
    "#Esperanza y varianza de los portafolios \n",
    "E_EMV=comp.loc['Media', 'EMV_Montecarlo']\n",
    "s_EMV=comp.loc['Vol', 'EMV_Montecarlo']\n",
    "\n",
    "E_minvar=comp.loc['Media', 'Minvar_Montecarlo']\n",
    "s_minvar=comp.loc['Vol', 'Minvar_Montecarlo']\n",
    "\n",
    "w_EMV=comp.loc['w1':'w6', 'EMV_Montecarlo']\n",
    "w_minvar=comp.loc['w1':'w6','Minvar_Montecarlo']\n",
    "#Covarianza y correlación entre los portafolios\n",
    "cov =w_EMV.T.dot(Sigma).dot(w_minvar)\n",
    "corr=cov/(s_EMV*s_minvar)\n",
    "\n",
    "cov, corr"
   ]
  },
  {
   "cell_type": "code",
   "execution_count": 28,
   "metadata": {},
   "outputs": [
    {
     "data": {
      "text/html": [
       "<div>\n",
       "<style scoped>\n",
       "    .dataframe tbody tr th:only-of-type {\n",
       "        vertical-align: middle;\n",
       "    }\n",
       "\n",
       "    .dataframe tbody tr th {\n",
       "        vertical-align: top;\n",
       "    }\n",
       "\n",
       "    .dataframe thead th {\n",
       "        text-align: right;\n",
       "    }\n",
       "</style>\n",
       "<table border=\"1\" class=\"dataframe\">\n",
       "  <thead>\n",
       "    <tr style=\"text-align: right;\">\n",
       "      <th></th>\n",
       "      <th>%</th>\n",
       "    </tr>\n",
       "  </thead>\n",
       "  <tbody>\n",
       "    <tr>\n",
       "      <th>Covarianza</th>\n",
       "      <td>0.302363</td>\n",
       "    </tr>\n",
       "    <tr>\n",
       "      <th>Correlacion</th>\n",
       "      <td>93.8264</td>\n",
       "    </tr>\n",
       "  </tbody>\n",
       "</table>\n",
       "</div>"
      ],
      "text/plain": [
       "                    %\n",
       "Covarianza   0.302363\n",
       "Correlacion   93.8264"
      ]
     },
     "execution_count": 28,
     "metadata": {},
     "output_type": "execute_result"
    }
   ],
   "source": [
    "cc = pd.DataFrame(columns=['%'], index=[\"Covarianza\", \"Correlacion\"])\n",
    "cc.loc['Covarianza'] = cov*100\n",
    "cc.loc['Correlacion'] = corr*100\n",
    "cc"
   ]
  },
  {
   "cell_type": "markdown",
   "metadata": {},
   "source": [
    "## 3. Frontera de mínima varianza y LAC (30 puntos)\n",
    "\n",
    "Con los portafolios que se encontraron en el punto anterior (de mínima varianza y EMV):\n",
    "\n",
    "**Mucho cuidado, solo es válido este punto si se aproximan los portafolios anteriores por Montecarlo.**\n",
    "\n",
    "1. Construya la frontera de mínima varianza calculando el rendimiento esperado y volatilidad para varias combinaciones de los anteriores portafolios. Reportar dichas combinaciones en un DataFrame incluyendo pesos, rendimiento, volatilidad y cociente de Sharpe (15 puntos).\n",
    "2. También construya la línea de asignación de capital entre el activo libre de riesgo y el portafolio EMV. Reportar las combinaciones de estos activos en un DataFrame incluyendo pesos, rendimiento, volatilidad y cociente de Sharpe (15 puntos)."
   ]
  },
  {
   "cell_type": "code",
   "execution_count": 42,
   "metadata": {},
   "outputs": [],
   "source": [
    "#Vector de pesos \n",
    "N=300\n",
    "w= np.linspace(0,3,N)"
   ]
  },
  {
   "cell_type": "code",
   "execution_count": 43,
   "metadata": {},
   "outputs": [
    {
     "data": {
      "text/html": [
       "<div>\n",
       "<style scoped>\n",
       "    .dataframe tbody tr th:only-of-type {\n",
       "        vertical-align: middle;\n",
       "    }\n",
       "\n",
       "    .dataframe tbody tr th {\n",
       "        vertical-align: top;\n",
       "    }\n",
       "\n",
       "    .dataframe thead th {\n",
       "        text-align: right;\n",
       "    }\n",
       "</style>\n",
       "<table border=\"1\" class=\"dataframe\">\n",
       "  <thead>\n",
       "    <tr style=\"text-align: right;\">\n",
       "      <th></th>\n",
       "      <th>w</th>\n",
       "      <th>1-w</th>\n",
       "      <th>Media</th>\n",
       "      <th>Vol</th>\n",
       "      <th>SR</th>\n",
       "    </tr>\n",
       "  </thead>\n",
       "  <tbody>\n",
       "    <tr>\n",
       "      <th>0</th>\n",
       "      <td>0.000000</td>\n",
       "      <td>1.000000</td>\n",
       "      <td>0.054008</td>\n",
       "      <td>0.054051</td>\n",
       "      <td>0.444178</td>\n",
       "    </tr>\n",
       "    <tr>\n",
       "      <th>1</th>\n",
       "      <td>0.010033</td>\n",
       "      <td>0.989967</td>\n",
       "      <td>0.054087</td>\n",
       "      <td>0.054071</td>\n",
       "      <td>0.445466</td>\n",
       "    </tr>\n",
       "    <tr>\n",
       "      <th>2</th>\n",
       "      <td>0.020067</td>\n",
       "      <td>0.979933</td>\n",
       "      <td>0.054165</td>\n",
       "      <td>0.054091</td>\n",
       "      <td>0.446746</td>\n",
       "    </tr>\n",
       "    <tr>\n",
       "      <th>3</th>\n",
       "      <td>0.030100</td>\n",
       "      <td>0.969900</td>\n",
       "      <td>0.054243</td>\n",
       "      <td>0.054112</td>\n",
       "      <td>0.448019</td>\n",
       "    </tr>\n",
       "    <tr>\n",
       "      <th>4</th>\n",
       "      <td>0.040134</td>\n",
       "      <td>0.959866</td>\n",
       "      <td>0.054321</td>\n",
       "      <td>0.054133</td>\n",
       "      <td>0.449285</td>\n",
       "    </tr>\n",
       "  </tbody>\n",
       "</table>\n",
       "</div>"
      ],
      "text/plain": [
       "          w       1-w     Media       Vol        SR\n",
       "0  0.000000  1.000000  0.054008  0.054051  0.444178\n",
       "1  0.010033  0.989967  0.054087  0.054071  0.445466\n",
       "2  0.020067  0.979933  0.054165  0.054091  0.446746\n",
       "3  0.030100  0.969900  0.054243  0.054112  0.448019\n",
       "4  0.040134  0.959866  0.054321  0.054133  0.449285"
      ]
     },
     "execution_count": 43,
     "metadata": {},
     "output_type": "execute_result"
    }
   ],
   "source": [
    "#Dataframe con pesos, ER, volatilidad y SR\n",
    "portafolios=pd.DataFrame(data={'w': w,\n",
    "                              '1-w':1-w,\n",
    "                              'Media': w*E_EMV+(1-w)*E_minvar,\n",
    "                              'Vol': ((w*s_EMV)**2+((1-w)*s_minvar)**2+2*w*(1-w)*cov)**0.5,\n",
    "                              })\n",
    "portafolios['SR']=(portafolios['Media']-annual_ret_summ.loc['Media', 'Libre_riesgo'])/portafolios['Vol']\n",
    "portafolios.head()"
   ]
  },
  {
   "cell_type": "code",
   "execution_count": 44,
   "metadata": {},
   "outputs": [
    {
     "data": {
      "text/html": [
       "<div>\n",
       "<style scoped>\n",
       "    .dataframe tbody tr th:only-of-type {\n",
       "        vertical-align: middle;\n",
       "    }\n",
       "\n",
       "    .dataframe tbody tr th {\n",
       "        vertical-align: top;\n",
       "    }\n",
       "\n",
       "    .dataframe thead th {\n",
       "        text-align: right;\n",
       "    }\n",
       "</style>\n",
       "<table border=\"1\" class=\"dataframe\">\n",
       "  <thead>\n",
       "    <tr style=\"text-align: right;\">\n",
       "      <th></th>\n",
       "      <th>wp</th>\n",
       "      <th>wrf</th>\n",
       "      <th>Media</th>\n",
       "      <th>Vol</th>\n",
       "      <th>SR</th>\n",
       "    </tr>\n",
       "  </thead>\n",
       "  <tbody>\n",
       "    <tr>\n",
       "      <th>0</th>\n",
       "      <td>0.000000</td>\n",
       "      <td>1.000000</td>\n",
       "      <td>0.030000</td>\n",
       "      <td>0.000000</td>\n",
       "      <td>NaN</td>\n",
       "    </tr>\n",
       "    <tr>\n",
       "      <th>1</th>\n",
       "      <td>0.010033</td>\n",
       "      <td>0.989967</td>\n",
       "      <td>0.030319</td>\n",
       "      <td>0.000598</td>\n",
       "      <td>0.533453</td>\n",
       "    </tr>\n",
       "    <tr>\n",
       "      <th>2</th>\n",
       "      <td>0.020067</td>\n",
       "      <td>0.979933</td>\n",
       "      <td>0.030638</td>\n",
       "      <td>0.001196</td>\n",
       "      <td>0.533453</td>\n",
       "    </tr>\n",
       "    <tr>\n",
       "      <th>3</th>\n",
       "      <td>0.030100</td>\n",
       "      <td>0.969900</td>\n",
       "      <td>0.030957</td>\n",
       "      <td>0.001795</td>\n",
       "      <td>0.533453</td>\n",
       "    </tr>\n",
       "    <tr>\n",
       "      <th>4</th>\n",
       "      <td>0.040134</td>\n",
       "      <td>0.959866</td>\n",
       "      <td>0.031276</td>\n",
       "      <td>0.002393</td>\n",
       "      <td>0.533453</td>\n",
       "    </tr>\n",
       "  </tbody>\n",
       "</table>\n",
       "</div>"
      ],
      "text/plain": [
       "         wp       wrf     Media       Vol        SR\n",
       "0  0.000000  1.000000  0.030000  0.000000       NaN\n",
       "1  0.010033  0.989967  0.030319  0.000598  0.533453\n",
       "2  0.020067  0.979933  0.030638  0.001196  0.533453\n",
       "3  0.030100  0.969900  0.030957  0.001795  0.533453\n",
       "4  0.040134  0.959866  0.031276  0.002393  0.533453"
      ]
     },
     "execution_count": 44,
     "metadata": {},
     "output_type": "execute_result"
    }
   ],
   "source": [
    "#Dataframe con pesos, ER, volatilidad y SR\n",
    "LAC=pd.DataFrame(data={'wp': w,\n",
    "                       'wrf':1-w,\n",
    "                       'Media': w*E_EMV+(1-w)*annual_ret_summ.loc['Media', 'Libre_riesgo'],\n",
    "                       'Vol': w*s_EMV,\n",
    "                              })\n",
    "LAC['SR']=(LAC['Media']-annual_ret_summ.loc['Media', 'Libre_riesgo'])/LAC['Vol']\n",
    "LAC.head()"
   ]
  },
  {
   "cell_type": "markdown",
   "metadata": {},
   "source": [
    "## 4. Gráficos y conclusiones (25 puntos)\n",
    "\n",
    "1. Usando todos los datos obtenidos, grafique:\n",
    " - los activos individuales,\n",
    " - portafolio de mínima varianza (hallado por Montecarlo en el punto 2),\n",
    " - portafolio eficiente en media-varianza (EMV, hallado por Montecarlo en el punto 2),\n",
    " - frontera de mínima varianza, y\n",
    " - línea de asignación de capital,\n",
    "en el espacio de rendimiento (eje $y$) vs. volatilidad (eje $x$). Asegúrese de etiquetar todo y poner distintos colores para diferenciar los distintos elementos en su gráfico (15 puntos).\n",
    "2. Suponga que usted está aconsejando a un cliente cuyo coeficiente de aversión al riesgo resultó ser 4. ¿Qué asignación de capital le sugeriría?, ¿qué significa su resultado?(10 puntos)"
   ]
  },
  {
   "cell_type": "code",
   "execution_count": 45,
   "metadata": {},
   "outputs": [
    {
     "data": {
      "image/png": "[encoded data removed]",
      "text/plain": [
       "<Figure size 720x648 with 1 Axes>"
      ]
     },
     "metadata": {
      "needs_background": "light"
     },
     "output_type": "display_data"
    }
   ],
   "source": [
    "# Gráfica de dispersión de puntos coloreando \n",
    "# de acuerdo a SR\n",
    "plt.figure(figsize=(10,9))\n",
    "plt.scatter(portafolios['Vol'], portafolios['Media'], c='c', label='Frontera de min var.')\n",
    "plt.scatter(x_points, y_points, c='m')\n",
    "plt.plot(s_minvar, E_minvar, 'og', ms=10, label='Portafolio minvar')\n",
    "plt.plot(s_EMV, E_EMV, 'or', ms=10, label='Portafolio EMV')\n",
    "plt.plot(LAC['Vol'], LAC['Media'], lw=3, label='LAC')\n",
    "for i in range (0,6):\n",
    "    plt.text(x_points[i], y_points[i],annual_ret_summ.T.index[i]) \n",
    "plt.legend()\n",
    "plt.xlabel('Volatilidad $\\sigma$')\n",
    "plt.ylabel('Rendimiento esperado $E[r]$')\n",
    "plt.grid()"
   ]
  },
  {
   "cell_type": "code",
   "execution_count": 49,
   "metadata": {},
   "outputs": [
    {
     "data": {
      "text/plain": [
       "(w1      0.528789\n",
       " w2    0.00414462\n",
       " w3     0.0210897\n",
       " w4     0.0652797\n",
       " w5      0.103799\n",
       " w6       1.51376\n",
       " Name: EMV_Montecarlo, dtype: object,\n",
       " -1.2368616426379506)"
      ]
     },
     "execution_count": 49,
     "metadata": {},
     "output_type": "execute_result"
    }
   ],
   "source": [
    "#Asignación de capital \n",
    "g=4\n",
    "w_a=(E_EMV-0.03)/(g*s_EMV**2)\n",
    "w_a1=w_a*w_EMV\n",
    "w_a1, 1-w_a"
   ]
  },
  {
   "cell_type": "code",
   "execution_count": 47,
   "metadata": {},
   "outputs": [
    {
     "data": {
      "text/html": [
       "<div>\n",
       "<style scoped>\n",
       "    .dataframe tbody tr th:only-of-type {\n",
       "        vertical-align: middle;\n",
       "    }\n",
       "\n",
       "    .dataframe tbody tr th {\n",
       "        vertical-align: top;\n",
       "    }\n",
       "\n",
       "    .dataframe thead th {\n",
       "        text-align: right;\n",
       "    }\n",
       "</style>\n",
       "<table border=\"1\" class=\"dataframe\">\n",
       "  <thead>\n",
       "    <tr style=\"text-align: right;\">\n",
       "      <th></th>\n",
       "      <th>Asignación de capital %</th>\n",
       "    </tr>\n",
       "  </thead>\n",
       "  <tbody>\n",
       "    <tr>\n",
       "      <th>Bonos</th>\n",
       "      <td>52.8789</td>\n",
       "    </tr>\n",
       "    <tr>\n",
       "      <th>Acciones</th>\n",
       "      <td>0.414462</td>\n",
       "    </tr>\n",
       "    <tr>\n",
       "      <th>Desarrollado</th>\n",
       "      <td>2.10897</td>\n",
       "    </tr>\n",
       "    <tr>\n",
       "      <th>Emergente</th>\n",
       "      <td>6.52797</td>\n",
       "    </tr>\n",
       "    <tr>\n",
       "      <th>Privados</th>\n",
       "      <td>10.3799</td>\n",
       "    </tr>\n",
       "    <tr>\n",
       "      <th>Real</th>\n",
       "      <td>151.376</td>\n",
       "    </tr>\n",
       "    <tr>\n",
       "      <th>Total</th>\n",
       "      <td>223.686</td>\n",
       "    </tr>\n",
       "  </tbody>\n",
       "</table>\n",
       "</div>"
      ],
      "text/plain": [
       "             Asignación de capital %\n",
       "Bonos                        52.8789\n",
       "Acciones                    0.414462\n",
       "Desarrollado                 2.10897\n",
       "Emergente                    6.52797\n",
       "Privados                     10.3799\n",
       "Real                         151.376\n",
       "Total                        223.686"
      ]
     },
     "execution_count": 47,
     "metadata": {},
     "output_type": "execute_result"
    }
   ],
   "source": [
    "# Asignacion de capital \n",
    "a_c = pd.DataFrame(columns=['Asignación de capital %'], index=['Bonos', 'Acciones', 'Desarrollado', 'Emergente', 'Privados', 'Real',\"Total\"])\n",
    "a_c.loc['Bonos'] = w_a1[0]*100\n",
    "a_c.loc['Acciones'] = w_a1[1]*100\n",
    "a_c.loc['Desarrollado'] = w_a1[2]*100\n",
    "a_c.loc['Emergente'] = w_a1[3]*100\n",
    "a_c.loc['Privados'] = w_a1[4]*100\n",
    "a_c.loc['Real'] = w_a1[5]*100\n",
    "a_c.loc['Total'] = np.sum(w_a1)*100\n",
    "a_c"
   ]
  },
  {
   "cell_type": "code",
   "execution_count": 50,
   "metadata": {},
   "outputs": [
    {
     "data": {
      "text/plain": [
       "2.2368616426379506"
      ]
     },
     "execution_count": 50,
     "metadata": {},
     "output_type": "execute_result"
    }
   ],
   "source": [
    "k = np.sum(w_a1)\n",
    "k"
   ]
  },
  {
   "cell_type": "markdown",
   "metadata": {},
   "source": [
    "El total que nos aparecio fue un 223.68%. Lo anterior implica una posición corta en el activo libre de riesgo (suponiendo que se puede) y una posición larga (de más del 100%) en el mercado de activos: apalancamiento. Esto significa que el activo libre de riesgo debe ser apalancado con un 123.68%."
   ]
  },
  {
   "cell_type": "markdown",
   "metadata": {},
   "source": [
    "<script>\n",
    "  $(document).ready(function(){\n",
    "    $('div.prompt').hide();\n",
    "    $('div.back-to-top').hide();\n",
    "    $('nav#menubar').hide();\n",
    "    $('.breadcrumb').hide();\n",
    "    $('.hidden-print').hide();\n",
    "  });\n",
    "</script>\n",
    "\n",
    "<footer id=\"attribution\" style=\"float:right; color:#808080; background:#fff;\">\n",
    "Created with Jupyter by Esteban Jiménez Rodríguez.\n",
    "</footer>"
   ]
  }
 ],
 "metadata": {
  "kernelspec": {
   "display_name": "Python 3",
   "language": "python",
   "name": "python3"
  },
  "language_info": {
   "codemirror_mode": {
    "name": "ipython",
    "version": 3
   },
   "file_extension": ".py",
   "mimetype": "text/x-python",
   "name": "python",
   "nbconvert_exporter": "python",
   "pygments_lexer": "ipython3",
   "version": "3.7.6"
  }
 },
 "nbformat": 4,
 "nbformat_minor": 2
}
