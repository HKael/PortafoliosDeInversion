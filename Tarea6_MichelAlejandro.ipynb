{
 "cells": [
  {
   "cell_type": "markdown",
   "metadata": {},
   "source": [
    "# Tarea 6. Distribución óptima de capital y selección de portafolios.\n",
    "\n",
    "<img style=\"float: right; margin: 0px 0px 15px 15px;\" src=\"https://upload.wikimedia.org/wikipedia/en/f/f3/SML-chart.png\" width=\"400px\" height=\"400px\" />\n",
    "\n",
    "**Resumen.**\n",
    "> En esta tarea, tendrás la oportunidad de aplicar los conceptos y las herramientas que aprendimos en el módulo 3. Específicamente, utilizarás técnicas de optimización media-varianza para construir la frontera de mínima varianza, encontrar el mejor portafolio sobre la frontera mínima varianza, y finalmente, identificar la asignación óptima de capital para un inversionista dado su nivel de averisón al riesgo.\n",
    "\n",
    "**Criterio de revisión.**\n",
    "> Se te calificará de acuerdo a los resultados finales que reportes, basados en tu análisis.\n",
    "\n",
    "**Antes de comenzar.**\n",
    "> Por favor, copiar y pegar este archivo en otra ubicación. Antes de comenzar, nombrarlo *Tarea6_ApellidoNombre*, sin acentos y sin espacios; por ejemplo, en mi caso el archivo se llamaría *Tarea6_JimenezEsteban*. Resolver todos los puntos en dicho archivo y subir en este espacio."
   ]
  },
  {
   "cell_type": "markdown",
   "metadata": {},
   "source": [
    "## 1. Datos (10 puntos)\n",
    "\n",
    "Considere los siguientes datos de bonos, índice de acciones, mercados desarrollados, mercados emergentes, fondos privados, activos reales y activos libres de riesgo:"
   ]
  },
  {
   "cell_type": "code",
   "execution_count": 1,
   "metadata": {},
   "outputs": [],
   "source": [
    "# Importamos pandas y numpy\n",
    "import pandas as pd\n",
    "import numpy as np"
   ]
  },
  {
   "cell_type": "code",
   "execution_count": 2,
   "metadata": {},
   "outputs": [
    {
     "data": {
      "text/html": [
       "<div>\n",
       "<style scoped>\n",
       "    .dataframe tbody tr th:only-of-type {\n",
       "        vertical-align: middle;\n",
       "    }\n",
       "\n",
       "    .dataframe tbody tr th {\n",
       "        vertical-align: top;\n",
       "    }\n",
       "\n",
       "    .dataframe thead th {\n",
       "        text-align: right;\n",
       "    }\n",
       "</style>\n",
       "<table border=\"1\" class=\"dataframe\">\n",
       "  <thead>\n",
       "    <tr style=\"text-align: right;\">\n",
       "      <th></th>\n",
       "      <th>Bonos</th>\n",
       "      <th>Acciones</th>\n",
       "      <th>Desarrollado</th>\n",
       "      <th>Emergente</th>\n",
       "      <th>Privados</th>\n",
       "      <th>Real</th>\n",
       "      <th>Libre_riesgo</th>\n",
       "    </tr>\n",
       "  </thead>\n",
       "  <tbody>\n",
       "    <tr>\n",
       "      <th>Media</th>\n",
       "      <td>0.04</td>\n",
       "      <td>0.106</td>\n",
       "      <td>0.083</td>\n",
       "      <td>0.119</td>\n",
       "      <td>0.128</td>\n",
       "      <td>0.062</td>\n",
       "      <td>0.03</td>\n",
       "    </tr>\n",
       "    <tr>\n",
       "      <th>Volatilidad</th>\n",
       "      <td>0.068</td>\n",
       "      <td>0.224</td>\n",
       "      <td>0.221</td>\n",
       "      <td>0.3</td>\n",
       "      <td>0.231</td>\n",
       "      <td>0.068</td>\n",
       "      <td>None</td>\n",
       "    </tr>\n",
       "  </tbody>\n",
       "</table>\n",
       "</div>"
      ],
      "text/plain": [
       "             Bonos Acciones Desarrollado Emergente Privados   Real  \\\n",
       "Media         0.04    0.106        0.083     0.119    0.128  0.062   \n",
       "Volatilidad  0.068    0.224        0.221       0.3    0.231  0.068   \n",
       "\n",
       "            Libre_riesgo  \n",
       "Media               0.03  \n",
       "Volatilidad         None  "
      ]
     },
     "execution_count": 2,
     "metadata": {},
     "output_type": "execute_result"
    }
   ],
   "source": [
    "# Resumen en base anual de rendimientos esperados y volatilidades\n",
    "annual_ret_summ = pd.DataFrame(columns=['Bonos', 'Acciones', 'Desarrollado', 'Emergente', 'Privados', 'Real', 'Libre_riesgo'], index=['Media', 'Volatilidad'])\n",
    "annual_ret_summ.loc['Media'] = np.array([0.0400, 0.1060, 0.0830, 0.1190, 0.1280, 0.0620, 0.0300])\n",
    "annual_ret_summ.loc['Volatilidad'] = np.array([0.0680, 0.2240, 0.2210, 0.3000, 0.2310, 0.0680, None])\n",
    "\n",
    "annual_ret_summ.round(4)"
   ]
  },
  {
   "cell_type": "code",
   "execution_count": 3,
   "metadata": {},
   "outputs": [
    {
     "data": {
      "text/html": [
       "<div>\n",
       "<style scoped>\n",
       "    .dataframe tbody tr th:only-of-type {\n",
       "        vertical-align: middle;\n",
       "    }\n",
       "\n",
       "    .dataframe tbody tr th {\n",
       "        vertical-align: top;\n",
       "    }\n",
       "\n",
       "    .dataframe thead th {\n",
       "        text-align: right;\n",
       "    }\n",
       "</style>\n",
       "<table border=\"1\" class=\"dataframe\">\n",
       "  <thead>\n",
       "    <tr style=\"text-align: right;\">\n",
       "      <th></th>\n",
       "      <th>Bonos</th>\n",
       "      <th>Acciones</th>\n",
       "      <th>Desarrollado</th>\n",
       "      <th>Emergente</th>\n",
       "      <th>Privados</th>\n",
       "      <th>Real</th>\n",
       "    </tr>\n",
       "  </thead>\n",
       "  <tbody>\n",
       "    <tr>\n",
       "      <th>Bonos</th>\n",
       "      <td>1.00</td>\n",
       "      <td>0.4</td>\n",
       "      <td>0.25</td>\n",
       "      <td>0.20</td>\n",
       "      <td>0.15</td>\n",
       "      <td>0.20</td>\n",
       "    </tr>\n",
       "    <tr>\n",
       "      <th>Acciones</th>\n",
       "      <td>0.40</td>\n",
       "      <td>1.0</td>\n",
       "      <td>0.70</td>\n",
       "      <td>0.60</td>\n",
       "      <td>0.70</td>\n",
       "      <td>0.20</td>\n",
       "    </tr>\n",
       "    <tr>\n",
       "      <th>Desarrollado</th>\n",
       "      <td>0.25</td>\n",
       "      <td>0.7</td>\n",
       "      <td>1.00</td>\n",
       "      <td>0.75</td>\n",
       "      <td>0.60</td>\n",
       "      <td>0.10</td>\n",
       "    </tr>\n",
       "    <tr>\n",
       "      <th>Emergente</th>\n",
       "      <td>0.20</td>\n",
       "      <td>0.6</td>\n",
       "      <td>0.75</td>\n",
       "      <td>1.00</td>\n",
       "      <td>0.25</td>\n",
       "      <td>0.15</td>\n",
       "    </tr>\n",
       "    <tr>\n",
       "      <th>Privados</th>\n",
       "      <td>0.15</td>\n",
       "      <td>0.7</td>\n",
       "      <td>0.60</td>\n",
       "      <td>0.25</td>\n",
       "      <td>1.00</td>\n",
       "      <td>0.30</td>\n",
       "    </tr>\n",
       "    <tr>\n",
       "      <th>Real</th>\n",
       "      <td>0.20</td>\n",
       "      <td>0.2</td>\n",
       "      <td>0.10</td>\n",
       "      <td>0.15</td>\n",
       "      <td>0.30</td>\n",
       "      <td>1.00</td>\n",
       "    </tr>\n",
       "  </tbody>\n",
       "</table>\n",
       "</div>"
      ],
      "text/plain": [
       "              Bonos  Acciones  Desarrollado  Emergente  Privados  Real\n",
       "Bonos          1.00       0.4          0.25       0.20      0.15  0.20\n",
       "Acciones       0.40       1.0          0.70       0.60      0.70  0.20\n",
       "Desarrollado   0.25       0.7          1.00       0.75      0.60  0.10\n",
       "Emergente      0.20       0.6          0.75       1.00      0.25  0.15\n",
       "Privados       0.15       0.7          0.60       0.25      1.00  0.30\n",
       "Real           0.20       0.2          0.10       0.15      0.30  1.00"
      ]
     },
     "execution_count": 3,
     "metadata": {},
     "output_type": "execute_result"
    }
   ],
   "source": [
    "# Matriz de correlación\n",
    "corr = pd.DataFrame(data= np.array([[1.0000, 0.4000, 0.2500, 0.2000, 0.1500, 0.2000],\n",
    "                                    [0.4000, 1.0000, 0.7000, 0.6000, 0.7000, 0.2000],\n",
    "                                    [0.2500, 0.7000, 1.0000, 0.7500, 0.6000, 0.1000],\n",
    "                                    [0.2000, 0.6000, 0.7500, 1.0000, 0.2500, 0.1500],\n",
    "                                    [0.1500, 0.7000, 0.6000, 0.2500, 1.0000, 0.3000],\n",
    "                                    [0.2000, 0.2000, 0.1000, 0.1500, 0.3000, 1.0000]]),\n",
    "                    columns=annual_ret_summ.columns[:-1], index=annual_ret_summ.columns[:-1])\n",
    "corr.round(4)"
   ]
  },
  {
   "cell_type": "markdown",
   "metadata": {},
   "source": [
    "1. Graficar en el espacio de rendimiento esperado contra volatilidad cada uno de los activos (10 puntos)."
   ]
  },
  {
   "cell_type": "code",
   "execution_count": 4,
   "metadata": {},
   "outputs": [],
   "source": [
    "from matplotlib import pyplot as plt\n",
    "%matplotlib inline"
   ]
  },
  {
   "cell_type": "code",
   "execution_count": 24,
   "metadata": {},
   "outputs": [
    {
     "data": {
      "text/plain": [
       "Text(0, 0.5, 'Rendimiento esperado ($E[r]$)')"
      ]
     },
     "execution_count": 24,
     "metadata": {},
     "output_type": "execute_result"
    },
    {
     "data": {
      "image/png": "[encoded data removed]",
      "text/plain": [
       "<Figure size 864x576 with 1 Axes>"
      ]
     },
     "metadata": {
      "needs_background": "light"
     },
     "output_type": "display_data"
    }
   ],
   "source": [
    "x_points=annual_ret_summ.T.loc[:,'Volatilidad']\n",
    "y_points=annual_ret_summ.T.loc[:,'Media']\n",
    "\n",
    "plt.figure(figsize=(12,8))\n",
    "plt.plot(x_points,y_points,'ob',ms=10)\n",
    "for i in range (0,6):\n",
    "    plt.text(x_points[i], y_points[i],annual_ret_summ.T.index[i])\n",
    "plt.grid()\n",
    "plt.xlabel('Volatilidad ($\\sigma$)')\n",
    "plt.ylabel('Rendimiento esperado ($E[r]$)')"
   ]
  },
  {
   "cell_type": "markdown",
   "metadata": {},
   "source": [
    "## 2. Hallando portafolios sobre la frontera de mínima varianza (35 puntos)\n",
    "\n",
    "Usando los datos del punto anterior:\n",
    "\n",
    "1. Halle los pesos del portafolio de mínima varianza considerando todos los activos riesgosos. También reportar claramente el rendimiento esperado, volatilidad y cociente de Sharpe para dicho portafolio (15 puntos).\n",
    "2. Halle los pesos del portafolio EMV considerando todos los activos riesgosos. También reportar claramente el rendimiento esperado, volatilidad y cociente de Sharpe para dicho portafolio (15 puntos).\n",
    "3. Halle la covarianza y la correlación entre los dos portafolios hallados (5 puntos)"
   ]
  },
  {
   "cell_type": "markdown",
   "metadata": {},
   "source": [
    "### Punto #1"
   ]
  },
  {
   "cell_type": "code",
   "execution_count": 25,
   "metadata": {},
   "outputs": [
    {
     "data": {
      "text/html": [
       "<div>\n",
       "<style scoped>\n",
       "    .dataframe tbody tr th:only-of-type {\n",
       "        vertical-align: middle;\n",
       "    }\n",
       "\n",
       "    .dataframe tbody tr th {\n",
       "        vertical-align: top;\n",
       "    }\n",
       "\n",
       "    .dataframe thead th {\n",
       "        text-align: right;\n",
       "    }\n",
       "</style>\n",
       "<table border=\"1\" class=\"dataframe\">\n",
       "  <thead>\n",
       "    <tr style=\"text-align: right;\">\n",
       "      <th></th>\n",
       "      <th>Bonos</th>\n",
       "      <th>Acciones</th>\n",
       "      <th>Desarrollado</th>\n",
       "      <th>Emergente</th>\n",
       "      <th>Privados</th>\n",
       "      <th>Real</th>\n",
       "    </tr>\n",
       "  </thead>\n",
       "  <tbody>\n",
       "    <tr>\n",
       "      <th>Media</th>\n",
       "      <td>0.04</td>\n",
       "      <td>0.106</td>\n",
       "      <td>0.083</td>\n",
       "      <td>0.119</td>\n",
       "      <td>0.128</td>\n",
       "      <td>0.062</td>\n",
       "    </tr>\n",
       "    <tr>\n",
       "      <th>Volatilidad</th>\n",
       "      <td>0.068</td>\n",
       "      <td>0.224</td>\n",
       "      <td>0.221</td>\n",
       "      <td>0.3</td>\n",
       "      <td>0.231</td>\n",
       "      <td>0.068</td>\n",
       "    </tr>\n",
       "  </tbody>\n",
       "</table>\n",
       "</div>"
      ],
      "text/plain": [
       "             Bonos Acciones Desarrollado Emergente Privados   Real\n",
       "Media         0.04    0.106        0.083     0.119    0.128  0.062\n",
       "Volatilidad  0.068    0.224        0.221       0.3    0.231  0.068"
      ]
     },
     "execution_count": 25,
     "metadata": {},
     "output_type": "execute_result"
    }
   ],
   "source": [
    "# Portafolio de minima varianza \n",
    "#Importar liberías \n",
    "from scipy.optimize import minimize \n",
    "annual_ret_sum=annual_ret_summ.drop(['Libre_riesgo'],axis=1)\n",
    "annual_ret_sum"
   ]
  },
  {
   "cell_type": "code",
   "execution_count": 26,
   "metadata": {},
   "outputs": [],
   "source": [
    "#Rendimientos esperados de activos individuales\n",
    "Er=annual_ret_sum.loc['Media',:].values\n",
    "\n",
    "#Matriz de covarianzas \n",
    "S=np.diag(annual_ret_sum.loc['Volatilidad', :].values)\n",
    "Sigma = S.dot(corr).dot(S)\n"
   ]
  },
  {
   "cell_type": "code",
   "execution_count": 27,
   "metadata": {},
   "outputs": [],
   "source": [
    "# Función objetivo\n",
    "def varianza(w, Sigma):\n",
    "    return w.T.dot(Sigma).dot(w)"
   ]
  },
  {
   "cell_type": "code",
   "execution_count": 28,
   "metadata": {},
   "outputs": [],
   "source": [
    "# Dato inicial\n",
    "n=len(Er)\n",
    "w0= np.ones(n)/n\n",
    "# Cotas de las variables\n",
    "bnds=((0,1), )*n\n",
    "# Restricciones\n",
    "cons = {'type':'eq', 'fun':lambda w: w.sum() - 1}"
   ]
  },
  {
   "cell_type": "code",
   "execution_count": 29,
   "metadata": {},
   "outputs": [
    {
     "data": {
      "text/plain": [
       "     fun: 0.0027745037325952863\n",
       "     jac: array([0.00551408, 0.00912289, 0.00525779, 0.00714968, 0.00710235,\n",
       "       0.0055834 ])\n",
       " message: 'Optimization terminated successfully.'\n",
       "    nfev: 64\n",
       "     nit: 8\n",
       "    njev: 8\n",
       "  status: 0\n",
       " success: True\n",
       "       x: array([4.95146500e-01, 0.00000000e+00, 2.09837058e-04, 4.33680869e-19,\n",
       "       0.00000000e+00, 5.04643663e-01])"
      ]
     },
     "execution_count": 29,
     "metadata": {},
     "output_type": "execute_result"
    }
   ],
   "source": [
    "# Portafolio de mínima varianza\n",
    "minvar=minimize(fun=varianza, x0=w0, args=(Sigma,), bounds=bnds, constraints=cons)\n",
    "minvar"
   ]
  },
  {
   "cell_type": "code",
   "execution_count": 36,
   "metadata": {},
   "outputs": [
    {
     "data": {
      "text/plain": [
       "(array([4.95146500e-01, 0.00000000e+00, 2.09837058e-04, 4.33680869e-19,\n",
       "        0.00000000e+00, 5.04643663e-01]),\n",
       " 0.0511111835712562,\n",
       " 0.0526735581918982,\n",
       " 0.4007928132431225)"
      ]
     },
     "execution_count": 36,
     "metadata": {},
     "output_type": "execute_result"
    }
   ],
   "source": [
    "w_minvar=minvar.x\n",
    "E_minvar=Er.T.dot(w_minvar)\n",
    "s_minvar=(w_minvar.T.dot(Sigma).dot(w_minvar))**0.5\n",
    "SR_minvar=(E_minvar-annual_ret_summ.loc['Media', 'Libre_riesgo'])/s_minvar\n",
    "\n",
    "w_minvar, E_minvar, s_minvar, SR_minvar"
   ]
  },
  {
   "cell_type": "code",
   "execution_count": 65,
   "metadata": {},
   "outputs": [
    {
     "data": {
      "text/html": [
       "<div>\n",
       "<style scoped>\n",
       "    .dataframe tbody tr th:only-of-type {\n",
       "        vertical-align: middle;\n",
       "    }\n",
       "\n",
       "    .dataframe tbody tr th {\n",
       "        vertical-align: top;\n",
       "    }\n",
       "\n",
       "    .dataframe thead th {\n",
       "        text-align: right;\n",
       "    }\n",
       "</style>\n",
       "<table border=\"1\" class=\"dataframe\">\n",
       "  <thead>\n",
       "    <tr style=\"text-align: right;\">\n",
       "      <th></th>\n",
       "      <th>Asignación de capital %</th>\n",
       "    </tr>\n",
       "  </thead>\n",
       "  <tbody>\n",
       "    <tr>\n",
       "      <th>Bonos</th>\n",
       "      <td>49.5147</td>\n",
       "    </tr>\n",
       "    <tr>\n",
       "      <th>Acciones</th>\n",
       "      <td>0</td>\n",
       "    </tr>\n",
       "    <tr>\n",
       "      <th>Desarrollado</th>\n",
       "      <td>0.0209837</td>\n",
       "    </tr>\n",
       "    <tr>\n",
       "      <th>Emergente</th>\n",
       "      <td>4.33681e-17</td>\n",
       "    </tr>\n",
       "    <tr>\n",
       "      <th>Privados</th>\n",
       "      <td>0</td>\n",
       "    </tr>\n",
       "    <tr>\n",
       "      <th>Real</th>\n",
       "      <td>50.4644</td>\n",
       "    </tr>\n",
       "  </tbody>\n",
       "</table>\n",
       "</div>"
      ],
      "text/plain": [
       "             Asignación de capital %\n",
       "Bonos                        49.5147\n",
       "Acciones                           0\n",
       "Desarrollado               0.0209837\n",
       "Emergente                4.33681e-17\n",
       "Privados                           0\n",
       "Real                         50.4644"
      ]
     },
     "execution_count": 65,
     "metadata": {},
     "output_type": "execute_result"
    }
   ],
   "source": [
    "\n",
    "ac = pd.DataFrame(columns=['Asignación de capital %'], index=['Bonos', 'Acciones', 'Desarrollado', 'Emergente', 'Privados', 'Real'])\n",
    "ac.loc['Bonos'] = w_minvar[0]*100\n",
    "ac.loc['Acciones'] = w_minvar[1]*100\n",
    "ac.loc['Desarrollado'] = w_minvar[2]*100\n",
    "ac.loc['Emergente'] = w_minvar[3]*100\n",
    "ac.loc['Privados'] = w_minvar[4]*100\n",
    "ac.loc['Real'] = w_minvar[5]*100\n",
    "ac"
   ]
  },
  {
   "cell_type": "code",
   "execution_count": 75,
   "metadata": {},
   "outputs": [
    {
     "data": {
      "text/html": [
       "<div>\n",
       "<style scoped>\n",
       "    .dataframe tbody tr th:only-of-type {\n",
       "        vertical-align: middle;\n",
       "    }\n",
       "\n",
       "    .dataframe tbody tr th {\n",
       "        vertical-align: top;\n",
       "    }\n",
       "\n",
       "    .dataframe thead th {\n",
       "        text-align: right;\n",
       "    }\n",
       "</style>\n",
       "<table border=\"1\" class=\"dataframe\">\n",
       "  <thead>\n",
       "    <tr style=\"text-align: right;\">\n",
       "      <th></th>\n",
       "      <th>%</th>\n",
       "    </tr>\n",
       "  </thead>\n",
       "  <tbody>\n",
       "    <tr>\n",
       "      <th>Rendimiento esperado</th>\n",
       "      <td>5.11112</td>\n",
       "    </tr>\n",
       "    <tr>\n",
       "      <th>Volatilidad</th>\n",
       "      <td>5.26736</td>\n",
       "    </tr>\n",
       "    <tr>\n",
       "      <th>Cociente de Sharp</th>\n",
       "      <td>40.0793</td>\n",
       "    </tr>\n",
       "  </tbody>\n",
       "</table>\n",
       "</div>"
      ],
      "text/plain": [
       "                            %\n",
       "Rendimiento esperado  5.11112\n",
       "Volatilidad           5.26736\n",
       "Cociente de Sharp     40.0793"
      ]
     },
     "execution_count": 75,
     "metadata": {},
     "output_type": "execute_result"
    }
   ],
   "source": [
    "mv = pd.DataFrame(columns=['%'], index=[\"Rendimiento esperado\", \"Volatilidad\", \"Cociente de Sharp\"])\n",
    "mv.loc['Rendimiento esperado'] = E_minvar*100\n",
    "mv.loc['Volatilidad'] = s_minvar*100\n",
    "mv.loc['Cociente de Sharp'] = SR_minvar*100\n",
    "mv "
   ]
  },
  {
   "cell_type": "markdown",
   "metadata": {},
   "source": [
    "### Punto 2"
   ]
  },
  {
   "cell_type": "code",
   "execution_count": 31,
   "metadata": {},
   "outputs": [],
   "source": [
    "# Portafolio eficiente en media varainza (EMV)\n",
    "# Función objetivo\n",
    "def minus_SR(w, Sigma, Er, rf):\n",
    "    Ep= Er.T.dot(w)\n",
    "    sp=(w.T.dot(Sigma).dot(w))**0.5\n",
    "    SR=(Ep - rf)/sp\n",
    "    return -SR"
   ]
  },
  {
   "cell_type": "code",
   "execution_count": 32,
   "metadata": {},
   "outputs": [],
   "source": [
    "# Dato inicial\n",
    "n=len(Er)\n",
    "w0= np.ones(n)/n\n",
    "# Cotas de las variables\n",
    "bnds=((0,1), )*n\n",
    "# Restricciones\n",
    "cons = {'type':'eq', 'fun':lambda w: w.sum() - 1}"
   ]
  },
  {
   "cell_type": "code",
   "execution_count": 33,
   "metadata": {},
   "outputs": [
    {
     "data": {
      "text/plain": [
       "     fun: -0.5811986201269204\n",
       "     jac: array([-0.36522095, -0.28920724, -0.12258474, -0.36597763, -0.36617207,\n",
       "       -0.36620118])\n",
       " message: 'Optimization terminated successfully.'\n",
       "    nfev: 50\n",
       "     nit: 6\n",
       "    njev: 6\n",
       "  status: 0\n",
       " success: True\n",
       "       x: array([1.34289953e-17, 1.01738175e-16, 1.23637069e-16, 8.19187951e-02,\n",
       "       1.65859031e-01, 7.52222174e-01])"
      ]
     },
     "execution_count": 33,
     "metadata": {},
     "output_type": "execute_result"
    }
   ],
   "source": [
    "# Portafolio EMV\n",
    "EMV=minimize(fun=minus_SR, \n",
    "             x0=w0, \n",
    "             args=(Sigma, Er, annual_ret_summ.loc['Media', 'Libre_riesgo'] ), \n",
    "             bounds=bnds,\n",
    "             constraints=cons)\n",
    "EMV"
   ]
  },
  {
   "cell_type": "code",
   "execution_count": 34,
   "metadata": {},
   "outputs": [
    {
     "data": {
      "text/html": [
       "<div>\n",
       "<style scoped>\n",
       "    .dataframe tbody tr th:only-of-type {\n",
       "        vertical-align: middle;\n",
       "    }\n",
       "\n",
       "    .dataframe tbody tr th {\n",
       "        vertical-align: top;\n",
       "    }\n",
       "\n",
       "    .dataframe thead th {\n",
       "        text-align: right;\n",
       "    }\n",
       "</style>\n",
       "<table border=\"1\" class=\"dataframe\">\n",
       "  <thead>\n",
       "    <tr style=\"text-align: right;\">\n",
       "      <th></th>\n",
       "      <th>Bonos</th>\n",
       "      <th>Acciones</th>\n",
       "      <th>Desarrollado</th>\n",
       "      <th>Emergente</th>\n",
       "      <th>Privados</th>\n",
       "      <th>Real</th>\n",
       "      <th>Libre_riesgo</th>\n",
       "    </tr>\n",
       "  </thead>\n",
       "  <tbody>\n",
       "    <tr>\n",
       "      <th>Media</th>\n",
       "      <td>0.04</td>\n",
       "      <td>0.106</td>\n",
       "      <td>0.083</td>\n",
       "      <td>0.119</td>\n",
       "      <td>0.128</td>\n",
       "      <td>0.062</td>\n",
       "      <td>0.03</td>\n",
       "    </tr>\n",
       "    <tr>\n",
       "      <th>Volatilidad</th>\n",
       "      <td>0.068</td>\n",
       "      <td>0.224</td>\n",
       "      <td>0.221</td>\n",
       "      <td>0.3</td>\n",
       "      <td>0.231</td>\n",
       "      <td>0.068</td>\n",
       "      <td>None</td>\n",
       "    </tr>\n",
       "  </tbody>\n",
       "</table>\n",
       "</div>"
      ],
      "text/plain": [
       "             Bonos Acciones Desarrollado Emergente Privados   Real  \\\n",
       "Media         0.04    0.106        0.083     0.119    0.128  0.062   \n",
       "Volatilidad  0.068    0.224        0.221       0.3    0.231  0.068   \n",
       "\n",
       "            Libre_riesgo  \n",
       "Media               0.03  \n",
       "Volatilidad         None  "
      ]
     },
     "execution_count": 34,
     "metadata": {},
     "output_type": "execute_result"
    }
   ],
   "source": [
    "annual_ret_summ"
   ]
  },
  {
   "cell_type": "code",
   "execution_count": 35,
   "metadata": {},
   "outputs": [
    {
     "data": {
      "text/plain": [
       "(array([1.34289953e-17, 1.01738175e-16, 1.23637069e-16, 8.19187951e-02,\n",
       "        1.65859031e-01, 7.52222174e-01]),\n",
       " 0.0776160673678556,\n",
       " 0.0819273579098611,\n",
       " 0.5811986201269204)"
      ]
     },
     "execution_count": 35,
     "metadata": {},
     "output_type": "execute_result"
    }
   ],
   "source": [
    "# Pesos, rendimiento y riesgo del portafolio EMV\n",
    "w_EMV=EMV.x\n",
    "E_EMV=Er.T.dot(w_EMV)\n",
    "s_EMV=(w_EMV.T.dot(Sigma).dot(w_EMV))**0.5\n",
    "SR_EMV=(E_EMV-annual_ret_summ.loc['Media', 'Libre_riesgo'])/s_EMV\n",
    "\n",
    "w_EMV, E_EMV, s_EMV, SR_EMV"
   ]
  },
  {
   "cell_type": "code",
   "execution_count": 66,
   "metadata": {},
   "outputs": [
    {
     "data": {
      "text/html": [
       "<div>\n",
       "<style scoped>\n",
       "    .dataframe tbody tr th:only-of-type {\n",
       "        vertical-align: middle;\n",
       "    }\n",
       "\n",
       "    .dataframe tbody tr th {\n",
       "        vertical-align: top;\n",
       "    }\n",
       "\n",
       "    .dataframe thead th {\n",
       "        text-align: right;\n",
       "    }\n",
       "</style>\n",
       "<table border=\"1\" class=\"dataframe\">\n",
       "  <thead>\n",
       "    <tr style=\"text-align: right;\">\n",
       "      <th></th>\n",
       "      <th>Asignación de capital %</th>\n",
       "    </tr>\n",
       "  </thead>\n",
       "  <tbody>\n",
       "    <tr>\n",
       "      <th>Bonos</th>\n",
       "      <td>1.3429e-15</td>\n",
       "    </tr>\n",
       "    <tr>\n",
       "      <th>Acciones</th>\n",
       "      <td>1.01738e-14</td>\n",
       "    </tr>\n",
       "    <tr>\n",
       "      <th>Desarrollado</th>\n",
       "      <td>1.23637e-14</td>\n",
       "    </tr>\n",
       "    <tr>\n",
       "      <th>Emergente</th>\n",
       "      <td>8.19188</td>\n",
       "    </tr>\n",
       "    <tr>\n",
       "      <th>Privados</th>\n",
       "      <td>16.5859</td>\n",
       "    </tr>\n",
       "    <tr>\n",
       "      <th>Real</th>\n",
       "      <td>75.2222</td>\n",
       "    </tr>\n",
       "  </tbody>\n",
       "</table>\n",
       "</div>"
      ],
      "text/plain": [
       "             Asignación de capital %\n",
       "Bonos                     1.3429e-15\n",
       "Acciones                 1.01738e-14\n",
       "Desarrollado             1.23637e-14\n",
       "Emergente                    8.19188\n",
       "Privados                     16.5859\n",
       "Real                         75.2222"
      ]
     },
     "execution_count": 66,
     "metadata": {},
     "output_type": "execute_result"
    }
   ],
   "source": [
    "ac2 = pd.DataFrame(columns=['Asignación de capital %'], index=['Bonos', 'Acciones', 'Desarrollado', 'Emergente', 'Privados', 'Real'])\n",
    "ac2.loc['Bonos'] = w_EMV[0]*100\n",
    "ac2.loc['Acciones'] = w_EMV[1]*100\n",
    "ac2.loc['Desarrollado'] = w_EMV[2]*100\n",
    "ac2.loc['Emergente'] = w_EMV[3]*100\n",
    "ac2.loc['Privados'] = w_EMV[4]*100\n",
    "ac2.loc['Real'] = w_EMV[5]*100\n",
    "ac2"
   ]
  },
  {
   "cell_type": "code",
   "execution_count": 74,
   "metadata": {},
   "outputs": [
    {
     "data": {
      "text/html": [
       "<div>\n",
       "<style scoped>\n",
       "    .dataframe tbody tr th:only-of-type {\n",
       "        vertical-align: middle;\n",
       "    }\n",
       "\n",
       "    .dataframe tbody tr th {\n",
       "        vertical-align: top;\n",
       "    }\n",
       "\n",
       "    .dataframe thead th {\n",
       "        text-align: right;\n",
       "    }\n",
       "</style>\n",
       "<table border=\"1\" class=\"dataframe\">\n",
       "  <thead>\n",
       "    <tr style=\"text-align: right;\">\n",
       "      <th></th>\n",
       "      <th>%</th>\n",
       "    </tr>\n",
       "  </thead>\n",
       "  <tbody>\n",
       "    <tr>\n",
       "      <th>Rendimiento esperado</th>\n",
       "      <td>7.76161</td>\n",
       "    </tr>\n",
       "    <tr>\n",
       "      <th>Volatilidad</th>\n",
       "      <td>8.19274</td>\n",
       "    </tr>\n",
       "    <tr>\n",
       "      <th>Cociente de Sharp</th>\n",
       "      <td>58.1199</td>\n",
       "    </tr>\n",
       "  </tbody>\n",
       "</table>\n",
       "</div>"
      ],
      "text/plain": [
       "                            %\n",
       "Rendimiento esperado  7.76161\n",
       "Volatilidad           8.19274\n",
       "Cociente de Sharp     58.1199"
      ]
     },
     "execution_count": 74,
     "metadata": {},
     "output_type": "execute_result"
    }
   ],
   "source": [
    "emv = pd.DataFrame(columns=['%'], index=[\"Rendimiento esperado\", \"Volatilidad\", \"Cociente de Sharp\"])\n",
    "emv.loc['Rendimiento esperado'] = E_EMV*100\n",
    "emv.loc['Volatilidad'] = s_EMV*100\n",
    "emv.loc['Cociente de Sharp'] = SR_EMV*100\n",
    "emv "
   ]
  },
  {
   "cell_type": "markdown",
   "metadata": {},
   "source": [
    "### Punto #3"
   ]
  },
  {
   "cell_type": "code",
   "execution_count": 72,
   "metadata": {},
   "outputs": [],
   "source": [
    "# covarianza y correlacion entre EMV y el portafolio de minima varianza\n",
    "cov =w_EMV.T.dot(Sigma).dot(w_minvar)\n",
    "corr=cov/(s_EMV*s_minvar)\n"
   ]
  },
  {
   "cell_type": "code",
   "execution_count": 73,
   "metadata": {},
   "outputs": [
    {
     "data": {
      "text/html": [
       "<div>\n",
       "<style scoped>\n",
       "    .dataframe tbody tr th:only-of-type {\n",
       "        vertical-align: middle;\n",
       "    }\n",
       "\n",
       "    .dataframe tbody tr th {\n",
       "        vertical-align: top;\n",
       "    }\n",
       "\n",
       "    .dataframe thead th {\n",
       "        text-align: right;\n",
       "    }\n",
       "</style>\n",
       "<table border=\"1\" class=\"dataframe\">\n",
       "  <thead>\n",
       "    <tr style=\"text-align: right;\">\n",
       "      <th></th>\n",
       "      <th>%</th>\n",
       "    </tr>\n",
       "  </thead>\n",
       "  <tbody>\n",
       "    <tr>\n",
       "      <th>Covarianza</th>\n",
       "      <td>0.298182</td>\n",
       "    </tr>\n",
       "    <tr>\n",
       "      <th>Correlacion</th>\n",
       "      <td>69.0971</td>\n",
       "    </tr>\n",
       "  </tbody>\n",
       "</table>\n",
       "</div>"
      ],
      "text/plain": [
       "                    %\n",
       "Covarianza   0.298182\n",
       "Correlacion   69.0971"
      ]
     },
     "execution_count": 73,
     "metadata": {},
     "output_type": "execute_result"
    }
   ],
   "source": [
    "cc = pd.DataFrame(columns=['%'], index=[\"Covarianza\", \"Correlacion\"])\n",
    "cc.loc['Covarianza'] = cov*100\n",
    "cc.loc['Correlacion'] = corr*100\n",
    "cc"
   ]
  },
  {
   "cell_type": "markdown",
   "metadata": {},
   "source": [
    "## 3. Frontera de mínima varianza y LAC (30 puntos)\n",
    "\n",
    "Con los portafolios que se encontraron en el punto anterior (de mínima varianza y EMV):\n",
    "\n",
    "1. Construya la frontera de mínima varianza calculando el rendimiento esperado y volatilidad para varias combinaciones de los anteriores portafolios. Reportar dichas combinaciones en un DataFrame incluyendo pesos, rendimiento, volatilidad y cociente de Sharpe (15 puntos).\n",
    "2. También construya la línea de asignación de capital entre el activo libre de riesgo y el portafolio EMV. Reportar las combinaciones de estos activos en un DataFrame incluyendo pesos, rendimiento, volatilidad y cociente de Sharpe (15 puntos)."
   ]
  },
  {
   "cell_type": "code",
   "execution_count": 41,
   "metadata": {},
   "outputs": [
    {
     "data": {
      "text/html": [
       "<div>\n",
       "<style scoped>\n",
       "    .dataframe tbody tr th:only-of-type {\n",
       "        vertical-align: middle;\n",
       "    }\n",
       "\n",
       "    .dataframe tbody tr th {\n",
       "        vertical-align: top;\n",
       "    }\n",
       "\n",
       "    .dataframe thead th {\n",
       "        text-align: right;\n",
       "    }\n",
       "</style>\n",
       "<table border=\"1\" class=\"dataframe\">\n",
       "  <thead>\n",
       "    <tr style=\"text-align: right;\">\n",
       "      <th></th>\n",
       "      <th>Bonos</th>\n",
       "      <th>Acciones</th>\n",
       "      <th>Desarrollado</th>\n",
       "      <th>Emergente</th>\n",
       "      <th>Privados</th>\n",
       "      <th>Real</th>\n",
       "      <th>Libre_riesgo</th>\n",
       "    </tr>\n",
       "  </thead>\n",
       "  <tbody>\n",
       "    <tr>\n",
       "      <th>Media</th>\n",
       "      <td>0.04</td>\n",
       "      <td>0.106</td>\n",
       "      <td>0.083</td>\n",
       "      <td>0.119</td>\n",
       "      <td>0.128</td>\n",
       "      <td>0.062</td>\n",
       "      <td>0.03</td>\n",
       "    </tr>\n",
       "    <tr>\n",
       "      <th>Volatilidad</th>\n",
       "      <td>0.068</td>\n",
       "      <td>0.224</td>\n",
       "      <td>0.221</td>\n",
       "      <td>0.3</td>\n",
       "      <td>0.231</td>\n",
       "      <td>0.068</td>\n",
       "      <td>None</td>\n",
       "    </tr>\n",
       "  </tbody>\n",
       "</table>\n",
       "</div>"
      ],
      "text/plain": [
       "             Bonos Acciones Desarrollado Emergente Privados   Real  \\\n",
       "Media         0.04    0.106        0.083     0.119    0.128  0.062   \n",
       "Volatilidad  0.068    0.224        0.221       0.3    0.231  0.068   \n",
       "\n",
       "            Libre_riesgo  \n",
       "Media               0.03  \n",
       "Volatilidad         None  "
      ]
     },
     "execution_count": 41,
     "metadata": {},
     "output_type": "execute_result"
    }
   ],
   "source": [
    "annual_ret_summ"
   ]
  },
  {
   "cell_type": "code",
   "execution_count": 38,
   "metadata": {},
   "outputs": [],
   "source": [
    "# Vector de w\n",
    "w = np.linspace(0, 3, 100)"
   ]
  },
  {
   "cell_type": "code",
   "execution_count": 40,
   "metadata": {},
   "outputs": [
    {
     "data": {
      "text/html": [
       "<div>\n",
       "<style scoped>\n",
       "    .dataframe tbody tr th:only-of-type {\n",
       "        vertical-align: middle;\n",
       "    }\n",
       "\n",
       "    .dataframe tbody tr th {\n",
       "        vertical-align: top;\n",
       "    }\n",
       "\n",
       "    .dataframe thead th {\n",
       "        text-align: right;\n",
       "    }\n",
       "</style>\n",
       "<table border=\"1\" class=\"dataframe\">\n",
       "  <thead>\n",
       "    <tr style=\"text-align: right;\">\n",
       "      <th></th>\n",
       "      <th>w</th>\n",
       "      <th>1-w</th>\n",
       "      <th>Media</th>\n",
       "      <th>Vol</th>\n",
       "      <th>RS</th>\n",
       "    </tr>\n",
       "  </thead>\n",
       "  <tbody>\n",
       "    <tr>\n",
       "      <th>0</th>\n",
       "      <td>0.000000</td>\n",
       "      <td>1.000000</td>\n",
       "      <td>0.051111</td>\n",
       "      <td>0.052674</td>\n",
       "      <td>0.400793</td>\n",
       "    </tr>\n",
       "    <tr>\n",
       "      <th>1</th>\n",
       "      <td>0.030303</td>\n",
       "      <td>0.969697</td>\n",
       "      <td>0.051914</td>\n",
       "      <td>0.052823</td>\n",
       "      <td>0.414861</td>\n",
       "    </tr>\n",
       "    <tr>\n",
       "      <th>2</th>\n",
       "      <td>0.060606</td>\n",
       "      <td>0.939394</td>\n",
       "      <td>0.052718</td>\n",
       "      <td>0.053034</td>\n",
       "      <td>0.428360</td>\n",
       "    </tr>\n",
       "    <tr>\n",
       "      <th>3</th>\n",
       "      <td>0.090909</td>\n",
       "      <td>0.909091</td>\n",
       "      <td>0.053521</td>\n",
       "      <td>0.053304</td>\n",
       "      <td>0.441256</td>\n",
       "    </tr>\n",
       "    <tr>\n",
       "      <th>4</th>\n",
       "      <td>0.121212</td>\n",
       "      <td>0.878788</td>\n",
       "      <td>0.054324</td>\n",
       "      <td>0.053633</td>\n",
       "      <td>0.453523</td>\n",
       "    </tr>\n",
       "  </tbody>\n",
       "</table>\n",
       "</div>"
      ],
      "text/plain": [
       "          w       1-w     Media       Vol        RS\n",
       "0  0.000000  1.000000  0.051111  0.052674  0.400793\n",
       "1  0.030303  0.969697  0.051914  0.052823  0.414861\n",
       "2  0.060606  0.939394  0.052718  0.053034  0.428360\n",
       "3  0.090909  0.909091  0.053521  0.053304  0.441256\n",
       "4  0.121212  0.878788  0.054324  0.053633  0.453523"
      ]
     },
     "execution_count": 40,
     "metadata": {},
     "output_type": "execute_result"
    }
   ],
   "source": [
    "# DataFrame de portafolios: \n",
    "portafolios = pd.DataFrame(data={'w': w, \n",
    "                                 '1-w': 1 - w,\n",
    "                                 'Media': w * E_EMV + (1 - w) * E_minvar,\n",
    "                                 'Vol': ((w * s_EMV)**2 + ((1 - w) * s_minvar)**2 + 2 * w * (1 - w) * cov)**0.5    \n",
    "                                })\n",
    "portafolios['RS'] = (portafolios['Media'] - 0.03) / portafolios['Vol']\n",
    "portafolios.head()"
   ]
  },
  {
   "cell_type": "code",
   "execution_count": 43,
   "metadata": {},
   "outputs": [
    {
     "data": {
      "text/html": [
       "<div>\n",
       "<style scoped>\n",
       "    .dataframe tbody tr th:only-of-type {\n",
       "        vertical-align: middle;\n",
       "    }\n",
       "\n",
       "    .dataframe tbody tr th {\n",
       "        vertical-align: top;\n",
       "    }\n",
       "\n",
       "    .dataframe thead th {\n",
       "        text-align: right;\n",
       "    }\n",
       "</style>\n",
       "<table border=\"1\" class=\"dataframe\">\n",
       "  <thead>\n",
       "    <tr style=\"text-align: right;\">\n",
       "      <th></th>\n",
       "      <th>wp</th>\n",
       "      <th>wrf</th>\n",
       "      <th>Media</th>\n",
       "      <th>Vol</th>\n",
       "      <th>SR</th>\n",
       "    </tr>\n",
       "  </thead>\n",
       "  <tbody>\n",
       "    <tr>\n",
       "      <th>0</th>\n",
       "      <td>0.000000</td>\n",
       "      <td>1.000000</td>\n",
       "      <td>0.030000</td>\n",
       "      <td>0.000000</td>\n",
       "      <td>NaN</td>\n",
       "    </tr>\n",
       "    <tr>\n",
       "      <th>1</th>\n",
       "      <td>0.030303</td>\n",
       "      <td>0.969697</td>\n",
       "      <td>0.031443</td>\n",
       "      <td>0.002483</td>\n",
       "      <td>0.581199</td>\n",
       "    </tr>\n",
       "    <tr>\n",
       "      <th>2</th>\n",
       "      <td>0.060606</td>\n",
       "      <td>0.939394</td>\n",
       "      <td>0.032886</td>\n",
       "      <td>0.004965</td>\n",
       "      <td>0.581199</td>\n",
       "    </tr>\n",
       "    <tr>\n",
       "      <th>3</th>\n",
       "      <td>0.090909</td>\n",
       "      <td>0.909091</td>\n",
       "      <td>0.034329</td>\n",
       "      <td>0.007448</td>\n",
       "      <td>0.581199</td>\n",
       "    </tr>\n",
       "    <tr>\n",
       "      <th>4</th>\n",
       "      <td>0.121212</td>\n",
       "      <td>0.878788</td>\n",
       "      <td>0.035772</td>\n",
       "      <td>0.009931</td>\n",
       "      <td>0.581199</td>\n",
       "    </tr>\n",
       "  </tbody>\n",
       "</table>\n",
       "</div>"
      ],
      "text/plain": [
       "         wp       wrf     Media       Vol        SR\n",
       "0  0.000000  1.000000  0.030000  0.000000       NaN\n",
       "1  0.030303  0.969697  0.031443  0.002483  0.581199\n",
       "2  0.060606  0.939394  0.032886  0.004965  0.581199\n",
       "3  0.090909  0.909091  0.034329  0.007448  0.581199\n",
       "4  0.121212  0.878788  0.035772  0.009931  0.581199"
      ]
     },
     "execution_count": 43,
     "metadata": {},
     "output_type": "execute_result"
    }
   ],
   "source": [
    "#Dataframe con pesos, ER, volatilidad y SR\n",
    "LAC=pd.DataFrame(data={'wp': w,\n",
    "                       'wrf':1-w,\n",
    "                       'Media': w*E_EMV+(1-w)*annual_ret_summ.loc['Media', 'Libre_riesgo'],\n",
    "                       'Vol': w*s_EMV,\n",
    "                              })\n",
    "LAC['SR']=(LAC['Media']-0.03)/LAC['Vol']\n",
    "LAC.head()"
   ]
  },
  {
   "cell_type": "markdown",
   "metadata": {},
   "source": [
    "## 4. Gráficos y conclusiones (25 puntos)\n",
    "\n",
    "1. Usando todos los datos obtenidos, grafique:\n",
    " - los activos individuales,\n",
    " - portafolio de mínima varianza,\n",
    " - portafolio eficiente en media-varianza (EMV),\n",
    " - frontera de mínima varianza, y\n",
    " - línea de asignación de capital,\n",
    "en el espacio de rendimiento (eje $y$) vs. volatilidad (eje $x$). Asegúrese de etiquetar todo y poner distintos colores para diferenciar los distintos elementos en su gráfico (15 puntos).\n",
    "2. Suponga que usted está aconsejando a un cliente cuyo coeficiente de aversión al riesgo resultó ser 4. ¿Qué asignación de capital le sugeriría?, ¿qué significa su resultado?(10 puntos)"
   ]
  },
  {
   "cell_type": "markdown",
   "metadata": {},
   "source": [
    "### Punto #1"
   ]
  },
  {
   "cell_type": "code",
   "execution_count": 57,
   "metadata": {},
   "outputs": [
    {
     "data": {
      "image/png": "[encoded data removed]",
      "text/plain": [
       "<Figure size 1080x864 with 2 Axes>"
      ]
     },
     "metadata": {
      "needs_background": "light"
     },
     "output_type": "display_data"
    }
   ],
   "source": [
    "# Gráfica de dispersión de puntos coloreando \n",
    "# de acuerdo a SR, los activos individuales\n",
    "# y los portafolios hallados\n",
    "plt.figure(figsize=(15, 12))\n",
    "plt.scatter(portafolios['Vol'], portafolios['Media'], c=portafolios['RS'], cmap='inferno', label='Front. Min. Var.')\n",
    "plt.plot(s_minvar, E_minvar, 'og', ms=10, label='Port. Min. Var.')\n",
    "plt.plot(s_EMV, E_EMV, 'or', ms=10, label='Port. EMV')\n",
    "plt.plot(LAC['Vol'], LAC['Media'], lw=2, label='LAC')\n",
    "plt.plot(x_points,y_points,'ob',ms=10)\n",
    "for i in range (0,6):\n",
    "    plt.text(x_points[i], y_points[i],annual_ret_summ.T.index[i])\n",
    "plt.legend(loc='best')\n",
    "plt.colorbar()\n",
    "plt.xlabel(\"Volatilidad $\\sigma$\")\n",
    "plt.ylabel(\"Rendimiento esperado $E[r]$\")\n",
    "plt.grid()\n"
   ]
  },
  {
   "cell_type": "markdown",
   "metadata": {},
   "source": [
    "### Punto #2"
   ]
  },
  {
   "cell_type": "code",
   "execution_count": 77,
   "metadata": {},
   "outputs": [
    {
     "data": {
      "text/plain": [
       "(array([2.38165666e-17, 1.80434498e-16, 2.19272585e-16, 1.45284469e-01,\n",
       "        2.94153999e-01, 1.33407967e+00]),\n",
       " -0.7735181353168143)"
      ]
     },
     "execution_count": 77,
     "metadata": {},
     "output_type": "execute_result"
    }
   ],
   "source": [
    "g=4\n",
    "w_a=(E_EMV-0.03)/(g*s_EMV**2)\n",
    "w_a1=w_a*w_EMV\n",
    "w_a1, 1-w_a"
   ]
  },
  {
   "cell_type": "code",
   "execution_count": 83,
   "metadata": {},
   "outputs": [
    {
     "data": {
      "text/html": [
       "<div>\n",
       "<style scoped>\n",
       "    .dataframe tbody tr th:only-of-type {\n",
       "        vertical-align: middle;\n",
       "    }\n",
       "\n",
       "    .dataframe tbody tr th {\n",
       "        vertical-align: top;\n",
       "    }\n",
       "\n",
       "    .dataframe thead th {\n",
       "        text-align: right;\n",
       "    }\n",
       "</style>\n",
       "<table border=\"1\" class=\"dataframe\">\n",
       "  <thead>\n",
       "    <tr style=\"text-align: right;\">\n",
       "      <th></th>\n",
       "      <th>Asignación de capital %</th>\n",
       "    </tr>\n",
       "  </thead>\n",
       "  <tbody>\n",
       "    <tr>\n",
       "      <th>Bonos</th>\n",
       "      <td>2.38166e-15</td>\n",
       "    </tr>\n",
       "    <tr>\n",
       "      <th>Acciones</th>\n",
       "      <td>1.80434e-14</td>\n",
       "    </tr>\n",
       "    <tr>\n",
       "      <th>Desarrollado</th>\n",
       "      <td>2.19273e-14</td>\n",
       "    </tr>\n",
       "    <tr>\n",
       "      <th>Emergente</th>\n",
       "      <td>14.5284</td>\n",
       "    </tr>\n",
       "    <tr>\n",
       "      <th>Privados</th>\n",
       "      <td>29.4154</td>\n",
       "    </tr>\n",
       "    <tr>\n",
       "      <th>Real</th>\n",
       "      <td>133.408</td>\n",
       "    </tr>\n",
       "    <tr>\n",
       "      <th>Total</th>\n",
       "      <td>177.352</td>\n",
       "    </tr>\n",
       "  </tbody>\n",
       "</table>\n",
       "</div>"
      ],
      "text/plain": [
       "             Asignación de capital %\n",
       "Bonos                    2.38166e-15\n",
       "Acciones                 1.80434e-14\n",
       "Desarrollado             2.19273e-14\n",
       "Emergente                    14.5284\n",
       "Privados                     29.4154\n",
       "Real                         133.408\n",
       "Total                        177.352"
      ]
     },
     "execution_count": 83,
     "metadata": {},
     "output_type": "execute_result"
    }
   ],
   "source": [
    "# Asignacion de capital \n",
    "a_c = pd.DataFrame(columns=['Asignación de capital %'], index=['Bonos', 'Acciones', 'Desarrollado', 'Emergente', 'Privados', 'Real',\"Total\"])\n",
    "a_c.loc['Bonos'] = w_a1[0]*100\n",
    "a_c.loc['Acciones'] = w_a1[1]*100\n",
    "a_c.loc['Desarrollado'] = w_a1[2]*100\n",
    "a_c.loc['Emergente'] = w_a1[3]*100\n",
    "a_c.loc['Privados'] = w_a1[4]*100\n",
    "a_c.loc['Real'] = w_a1[5]*100\n",
    "a_c.loc['Total'] = np.sum(w_a1)*100\n",
    "a_c\n"
   ]
  },
  {
   "cell_type": "code",
   "execution_count": 82,
   "metadata": {},
   "outputs": [
    {
     "data": {
      "text/plain": [
       "1.7735181353168146"
      ]
     },
     "execution_count": 82,
     "metadata": {},
     "output_type": "execute_result"
    }
   ],
   "source": [
    "k = np.sum(w_a1)\n",
    "k"
   ]
  },
  {
   "cell_type": "markdown",
   "metadata": {},
   "source": [
    "El total que nos aparecio fue un 177.35%. Lo anterior implica una posición corta en el activo libre de riesgo (suponiendo que se puede) y una posición larga (de más del 100%) en el mercado de activos: apalancamiento. Esto significa que el activo libre de riesgo debe ser apalancado con un 77.35%."
   ]
  },
  {
   "cell_type": "markdown",
   "metadata": {},
   "source": [
    "<script>\n",
    "  $(document).ready(function(){\n",
    "    $('div.prompt').hide();\n",
    "    $('div.back-to-top').hide();\n",
    "    $('nav#menubar').hide();\n",
    "    $('.breadcrumb').hide();\n",
    "    $('.hidden-print').hide();\n",
    "  });\n",
    "</script>\n",
    "\n",
    "<footer id=\"attribution\" style=\"float:right; color:#808080; background:#fff;\">\n",
    "Created with Jupyter by Esteban Jiménez Rodríguez.\n",
    "</footer>"
   ]
  }
 ],
 "metadata": {
  "kernelspec": {
   "display_name": "Python 3",
   "language": "python",
   "name": "python3"
  },
  "language_info": {
   "codemirror_mode": {
    "name": "ipython",
    "version": 3
   },
   "file_extension": ".py",
   "mimetype": "text/x-python",
   "name": "python",
   "nbconvert_exporter": "python",
   "pygments_lexer": "ipython3",
   "version": "3.7.6"
  }
 },
 "nbformat": 4,
 "nbformat_minor": 2
}
