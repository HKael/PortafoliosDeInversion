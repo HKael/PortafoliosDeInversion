{
 "cells": [
  {
   "cell_type": "markdown",
   "metadata": {},
   "source": [
    "# Presentación Alejandro Michel Marrón"
   ]
  },
  {
   "cell_type": "markdown",
   "metadata": {},
   "source": [
    "## <font color='green'>¿Quién soy yo?</font>"
   ]
  },
  {
   "cell_type": "markdown",
   "metadata": {},
   "source": [
    "Nací en Puerto Vallarta, Jalisco. Donde viví hasta mis 17 años."
   ]
  },
  {
   "cell_type": "markdown",
   "metadata": {},
   "source": [
    "<img src=\"https://i.imgur.com/bSXiemR.png\">"
   ]
  },
  {
   "cell_type": "markdown",
   "metadata": {},
   "source": [
    "Eventualmente me mudé a la ciudad de Guadalajara para estudiar la carrera de ingeniería en tecnologías electrónicas en el ITESM."
   ]
  },
  {
   "cell_type": "markdown",
   "metadata": {},
   "source": [
    "<img src=\"https://i.imgur.com/KWntEpq.png\">"
   ]
  },
  {
   "cell_type": "markdown",
   "metadata": {},
   "source": [
    "Me di cuenta de esto no era para mí y me tomé un hiatus para decidir que hacer de mi vida."
   ]
  },
  {
   "cell_type": "markdown",
   "metadata": {},
   "source": [
    "<img src=\"https://i.imgur.com/LE3ZtLm.png\">"
   ]
  },
  {
   "cell_type": "markdown",
   "metadata": {},
   "source": [
    "\"Escape\" de casa para jugar videojuegos de manera profesional, viví en una gaming house en la Ciudad de México por unos meses.\n"
   ]
  },
  {
   "cell_type": "markdown",
   "metadata": {},
   "source": [
    "<img src=\"https://i.imgur.com/EADSFii.png\">"
   ]
  },
  {
   "cell_type": "markdown",
   "metadata": {},
   "source": [
    "Me mudé a Hermosillo, Sonora donde estuve otros meses jugando de forma profesional."
   ]
  },
  {
   "cell_type": "markdown",
   "metadata": {},
   "source": [
    "<img src=\"https://i.imgur.com/CDU8GAA.png\">"
   ]
  },
  {
   "cell_type": "markdown",
   "metadata": {},
   "source": [
    "Trabaje otros meses en un hospital y seguí meditando sobre que hacer de mi vida. Eventualmente decidí volver a Guadalajara y comenzar una nueva carrera universitaria."
   ]
  },
  {
   "cell_type": "markdown",
   "metadata": {},
   "source": [
    "<img src=\"https://i.imgur.com/ahOVb3X.png\">"
   ]
  },
  {
   "cell_type": "markdown",
   "metadata": {},
   "source": [
    "<font color='red'> ADVERTENCIA : Los hospitales en México no cuentan con un personal de trabajo absurdamente **diverso**.</font>"
   ]
  },
  {
   "cell_type": "markdown",
   "metadata": {},
   "source": [
    "Entré al programa de ingeniería financiera en el ITESO. Una excelente decisión pues hasta el momento ningún campo laboral me había llamado tanto la atención como las posibilidades que este título universitario y conocimientos en áreas de ciencia de datos te ofrecen."
   ]
  },
  {
   "cell_type": "markdown",
   "metadata": {},
   "source": [
    "<img src=\"https://i.imgur.com/ulZ4xDw.png\">"
   ]
  },
  {
   "cell_type": "markdown",
   "metadata": {},
   "source": [
    "## <font color='green'>Hobbies e intereses</font>"
   ]
  },
  {
   "cell_type": "markdown",
   "metadata": {},
   "source": [
    "### Powerlifting"
   ]
  },
  {
   "cell_type": "markdown",
   "metadata": {},
   "source": [
    "<img src=\"https://i.imgur.com/hldhgVs.png\">"
   ]
  },
  {
   "cell_type": "markdown",
   "metadata": {},
   "source": [
    "Mis números aún no son muy altos pero con mi baja estatura y peso (*164 centímetros y 141 libras*) me siento orgulloso de ellos. Espero eventualmente superarme y aumentarlos almenos un 50% más.\n",
    "\n",
    "* **Deadlift         315 libras**\n",
    "* **Squat            245 libras**\n",
    "* **Bench press      200 libras**\n",
    "* **Overhead press   145 libras**"
   ]
  },
  {
   "cell_type": "markdown",
   "metadata": {},
   "source": [
    "### Boxeo"
   ]
  },
  {
   "cell_type": "markdown",
   "metadata": {},
   "source": [
    "<img src=\"https://i.imgur.com/gMK8bVO.png\">"
   ]
  },
  {
   "cell_type": "markdown",
   "metadata": {},
   "source": [
    "#### <font color='red'>  Definitivamente este niño sabe boxear mejor que yo. </font>"
   ]
  },
  {
   "cell_type": "markdown",
   "metadata": {},
   "source": [
    "Este es un hobby relativamente nuevo, llevo más o menos un año. En ningún punto de mi vida había disfrutado un deporte, era el niño que **odiaba jugar fútbol o basketball** en los recreos. No ayudaba que mi piel delicada odiaba jugar en el medio de una tarde húmeda y caliente de Vallarta. El box para mí representa dos cosas. El **primer deporte que disfruto** y una actividad en la cual no poseo talentos y aún así realizo por gusto, algo muy importante para mantener mi ego saludable."
   ]
  },
  {
   "cell_type": "markdown",
   "metadata": {},
   "source": [
    "### League of Legends"
   ]
  },
  {
   "cell_type": "markdown",
   "metadata": {},
   "source": [
    "<img src=\"https://i.imgur.com/dIxm6v2.jpg\">"
   ]
  },
  {
   "cell_type": "markdown",
   "metadata": {},
   "source": [
    "#### <font color='blue'>Uno de mis mejores recuerdos. Fui a jugar un torneo a la Ciudad de México, hotel todo pagado, un desmadre inmenso y un memorable fin de semana.</font>"
   ]
  },
  {
   "cell_type": "markdown",
   "metadata": {},
   "source": [
    "Últimamente no he disfrutado mucho de este juego pero en su momento conseguí el puesto #3 de toda lationamérica. Jugué a nivel profesional, semiprofesional y universitario. Tengo muy buenos recuerdos y por este medio conocí a algunos de mis mejores amigos."
   ]
  },
  {
   "cell_type": "markdown",
   "metadata": {},
   "source": [
    "### Lectura"
   ]
  },
  {
   "cell_type": "markdown",
   "metadata": {},
   "source": [
    "<img src=\"https://i.imgur.com/ZeJnUK9.png\">"
   ]
  },
  {
   "cell_type": "markdown",
   "metadata": {},
   "source": [
    "Desde que tengo memoria he tenido una gran pasión por la lectura. Inicialmente disfrutaba solo de la lectura de libros de fantasía e historia. En estas fechas la mayor parte de mi tiempo la paso leyendo **estudios médicos y de salud** ~estoy quizá un poco obsesionado con esto~ y una mezcla de **filosofía e historia** en cuanto a libros se refiere."
   ]
  },
  {
   "cell_type": "markdown",
   "metadata": {},
   "source": [
    "# Python is becoming the world’s most popular coding language"
   ]
  },
  {
   "cell_type": "markdown",
   "metadata": {},
   "source": [
    "<img src=\"https://i.imgur.com/8XaiWZK.png\">"
   ]
  },
  {
   "cell_type": "markdown",
   "metadata": {},
   "source": [
    "Initially created by Guido van Rossum, \n",
    "a Dutch computer scientist, in 1989. \n",
    "Python has slowly become one of the most \n",
    "popular languages in America and the World.\n",
    "\n",
    "The reason behind this language's popularity is mainly\n",
    "it's simplicity and flexibility. This makes it easy for \n",
    "new users to learn and ready while also allowing experienced\n",
    "ones to share their works.\n",
    "\n",
    "This experienced users, known as Pythonistas, have uploaded more \n",
    "than 145,000 custom-built software packages to an online repository.\n",
    "Covering themes from game development to astronomy. \n",
    "\n",
    "It's used extensively in the world of machine learning. (Something quite useful for us Financial Engineers.)\n",
    "Python isn't just for individuals, it's also used by some of the biggest\n",
    "companies in the world. \n",
    "\n",
    "1. CIA\n",
    "2. Google \n",
    "3. Pixar \n",
    "4. Spotify \n",
    "\n",
    "With all of this factos Python has become the lingua franca of coding, quickly rendering other options obsolete. However C and C++ users shall not fear as they give the user more control over what's going on in a computers processor. Nor does Java or JavaScript, which power most web pages."
   ]
  },
  {
   "cell_type": "markdown",
   "metadata": {},
   "source": [
    "# Python has brought computer programming to a vast new audience"
   ]
  },
  {
   "cell_type": "markdown",
   "metadata": {},
   "source": [
    "<img src=\"https://i.imgur.com/l5umShp.png\">"
   ]
  },
  {
   "cell_type": "markdown",
   "metadata": {},
   "source": [
    "This language's popularity has not grown only between professional developers but also with \"the ordinary folk\". Codeacademy, a website that teaches programming languages, has seen the biggest increase in the interest to learn Python. \n",
    "\n",
    "It's usefulness has shown to be universal and not only giving an utility to developers. Marketers, for instance, can use the language to build statistical models that measure the effectiveness of campaigns. College lecturers can check whether they are distributing grades properly. \n",
    "\n",
    "It has also become essential for analysts immersed in the world of finances and banking. Making it a valuable tool in almost every subject."
   ]
  }
 ],
 "metadata": {
  "kernelspec": {
   "display_name": "Python 3",
   "language": "python",
   "name": "python3"
  },
  "language_info": {
   "codemirror_mode": {
    "name": "ipython",
    "version": 3
   },
   "file_extension": ".py",
   "mimetype": "text/x-python",
   "name": "python",
   "nbconvert_exporter": "python",
   "pygments_lexer": "ipython3",
   "version": "3.7.6"
  }
 },
 "nbformat": 4,
 "nbformat_minor": 4
}
