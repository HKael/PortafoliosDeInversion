{
 "cells": [
  {
   "cell_type": "markdown",
   "metadata": {},
   "source": [
    "Suponga que le ofrecen invertir todo su dinero en un nuevo activo aparentemente atractivo, cuyo rendimiento esperado es del 20% y la volatilidad es del 50%. Para ese momento, la tasa libre de riesgo es del 5%, y el portafolio de mercado tiene un rendimiento esperado del 10% y una volatilidad del 15%.\n",
    "\n",
    "\n",
    "Bajo las suposiciones del CAPM usted obviamente diría que no porque existe un mejor portafolio alternativo que tiene el mismo rendimiento esperado y una volatilidad de:"
   ]
  },
  {
   "cell_type": "code",
   "execution_count": 2,
   "metadata": {},
   "outputs": [
    {
     "data": {
      "text/plain": [
       "0.45000000000000007"
      ]
     },
     "execution_count": 2,
     "metadata": {},
     "output_type": "execute_result"
    }
   ],
   "source": [
    "rf  = 0.05\n",
    "Er = 0.20\n",
    "s = 0.50\n",
    "Erm = 0.1\n",
    "sm = 0.15\n",
    "#ss = ? \n",
    "\n",
    "# Er = rf + ((Erm-rf)/sm)*ss\n",
    "\n",
    "ss = ((Er-rf)/(Erm-rf))*sm\n",
    "ss"
   ]
  },
  {
   "cell_type": "markdown",
   "metadata": {},
   "source": [
    "Suponga que le ofrecen invertir todo su dinero en un nuevo activo aparentemente atractivo, cuyo rendimiento esperado es del 20% y la volatilidad es del 50%. Para ese momento, la tasa libre de riesgo es del 5%, y el portafolio de mercado tiene un rendimiento esperado del 10% y una volatilidad del 15%.\n",
    "\n",
    "\n",
    "Bajo las suposiciones del CAPM usted obviamente diría que no, porque existe un mejor portafolio alternativo que tiene la misma volatilidad y un rendimiento esperado de:"
   ]
  },
  {
   "cell_type": "code",
   "execution_count": 3,
   "metadata": {},
   "outputs": [
    {
     "data": {
      "text/plain": [
       "0.21666666666666667"
      ]
     },
     "execution_count": 3,
     "metadata": {},
     "output_type": "execute_result"
    }
   ],
   "source": [
    "Erf = rf + ((Erm-rf)/sm)*s\n",
    "\n",
    "Erf"
   ]
  },
  {
   "cell_type": "markdown",
   "metadata": {},
   "source": [
    "Suponga que tiene $30,000 invertidos en los siguientes activos:\n",
    "\n",
    "Activo\tCantidad invertida\tβ\n",
    "\n",
    "Activo A\t$5,000\t0.75\n",
    "\n",
    "Activo B\t$10,000\t1.10\n",
    "\n",
    "Activo C\t$8,000\t1.36\n",
    "\n",
    "Activo D\t$7,000\t1.88\n",
    " \n",
    "\n",
    "La tasa libre de riesgo es del 2% y el rendimiento esperado del portafolio de mercado es del 8%. De acuerdo al CAPM, ¿cuál es el rendimiento esperado del portafolio?"
   ]
  },
  {
   "cell_type": "code",
   "execution_count": 11,
   "metadata": {},
   "outputs": [
    {
     "data": {
      "text/plain": [
       "(1.293, 0.09758)"
      ]
     },
     "execution_count": 11,
     "metadata": {},
     "output_type": "execute_result"
    }
   ],
   "source": [
    "Ca = 5000\n",
    "Cb = 10000\n",
    "Cc = 8000\n",
    "Cd = 7000\n",
    "\n",
    "Ba = 0.75\n",
    "Bb = 1.10\n",
    "Bc = 1.36\n",
    "Bd = 1.88\n",
    "\n",
    "Bp = (Ca*Ba + Cb*Bb + Cc*Bc + Cd*Bd)/ (Ca+Cb+Cc+Cd)\n",
    "\n",
    "rf = 0.02\n",
    "Er = 0.16\n",
    "Erm = 0.08\n",
    "\n",
    "Erf = rf + Bp * (Erm - rf)\n",
    "Bp, Erf"
   ]
  },
  {
   "cell_type": "code",
   "execution_count": 2,
   "metadata": {},
   "outputs": [],
   "source": [
    "import pandas as pd"
   ]
  },
  {
   "cell_type": "code",
   "execution_count": null,
   "metadata": {},
   "outputs": [],
   "source": [
    "bA= covAM / varM = corrAM * volA / volM"
   ]
  },
  {
   "cell_type": "code",
   "execution_count": 6,
   "metadata": {},
   "outputs": [
    {
     "data": {
      "text/html": [
       "<div>\n",
       "<style scoped>\n",
       "    .dataframe tbody tr th:only-of-type {\n",
       "        vertical-align: middle;\n",
       "    }\n",
       "\n",
       "    .dataframe tbody tr th {\n",
       "        vertical-align: top;\n",
       "    }\n",
       "\n",
       "    .dataframe thead th {\n",
       "        text-align: right;\n",
       "    }\n",
       "</style>\n",
       "<table border=\"1\" class=\"dataframe\">\n",
       "  <thead>\n",
       "    <tr style=\"text-align: right;\">\n",
       "      <th></th>\n",
       "      <th>p</th>\n",
       "      <th>precios</th>\n",
       "      <th>r</th>\n",
       "    </tr>\n",
       "  </thead>\n",
       "  <tbody>\n",
       "    <tr>\n",
       "      <th>0</th>\n",
       "      <td>0.1</td>\n",
       "      <td>40</td>\n",
       "      <td>-0.2</td>\n",
       "    </tr>\n",
       "    <tr>\n",
       "      <th>1</th>\n",
       "      <td>0.8</td>\n",
       "      <td>55</td>\n",
       "      <td>0.1</td>\n",
       "    </tr>\n",
       "    <tr>\n",
       "      <th>2</th>\n",
       "      <td>0.1</td>\n",
       "      <td>60</td>\n",
       "      <td>0.2</td>\n",
       "    </tr>\n",
       "  </tbody>\n",
       "</table>\n",
       "</div>"
      ],
      "text/plain": [
       "     p  precios    r\n",
       "0  0.1       40 -0.2\n",
       "1  0.8       55  0.1\n",
       "2  0.1       60  0.2"
      ]
     },
     "execution_count": 6,
     "metadata": {},
     "output_type": "execute_result"
    }
   ],
   "source": [
    "tabla = pd.DataFrame({\"p\" : [0.1 , 0.8, 0.1], \"precios\" : [40, 55, 60]})\n",
    "tabla[\"r\"] = (tabla[\"precios\"]-50) / 50\n",
    "tabla"
   ]
  },
  {
   "cell_type": "code",
   "execution_count": 7,
   "metadata": {},
   "outputs": [
    {
     "data": {
      "text/plain": [
       "0.24657656011875906"
      ]
     },
     "execution_count": 7,
     "metadata": {},
     "output_type": "execute_result"
    }
   ],
   "source": [
    "ErA = (tabla[\"p\"]*tabla[\"r\"]).sum()\n",
    "sA = (tabla[\"p\"] * tabla[\"r\"]-ErA**2).sum()**0.5\n",
    "sA"
   ]
  }
 ],
 "metadata": {
  "kernelspec": {
   "display_name": "Python 3",
   "language": "python",
   "name": "python3"
  },
  "language_info": {
   "codemirror_mode": {
    "name": "ipython",
    "version": 3
   },
   "file_extension": ".py",
   "mimetype": "text/x-python",
   "name": "python",
   "nbconvert_exporter": "python",
   "pygments_lexer": "ipython3",
   "version": "3.7.6"
  }
 },
 "nbformat": 4,
 "nbformat_minor": 4
}
